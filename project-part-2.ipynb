{
 "cells": [
  {
   "cell_type": "markdown",
   "id": "d5a83c3f",
   "metadata": {
    "papermill": {
     "duration": 0.007316,
     "end_time": "2022-11-18T23:43:42.968627",
     "exception": false,
     "start_time": "2022-11-18T23:43:42.961311",
     "status": "completed"
    },
    "tags": []
   },
   "source": [
    "This first cell is added by Kaggle by default and contains some useful info/setup to be able to open the data files for the project. "
   ]
  },
  {
   "cell_type": "code",
   "execution_count": 1,
   "id": "567f5737",
   "metadata": {
    "_cell_guid": "b1076dfc-b9ad-4769-8c92-a6c4dae69d19",
    "_uuid": "8f2839f25d086af736a60e9eeb907d3b93b6e0e5",
    "execution": {
     "iopub.execute_input": "2022-11-18T23:43:42.983645Z",
     "iopub.status.busy": "2022-11-18T23:43:42.982788Z",
     "iopub.status.idle": "2022-11-18T23:43:43.004295Z",
     "shell.execute_reply": "2022-11-18T23:43:43.002918Z"
    },
    "papermill": {
     "duration": 0.032354,
     "end_time": "2022-11-18T23:43:43.007329",
     "exception": false,
     "start_time": "2022-11-18T23:43:42.974975",
     "status": "completed"
    },
    "tags": []
   },
   "outputs": [
    {
     "name": "stdout",
     "output_type": "stream",
     "text": [
      "/kaggle/input/small-talk-intent-classification-data/Small_talk_Intent.csv\n"
     ]
    }
   ],
   "source": [
    "# This Python 3 environment comes with many helpful analytics libraries installed\n",
    "# It is defined by the kaggle/python Docker image: https://github.com/kaggle/docker-python\n",
    "# For example, here's several helpful packages to load\n",
    "\n",
    "import numpy as np # linear algebra\n",
    "import pandas as pd # data processing, CSV file I/O (e.g. pd.read_csv)\n",
    "\n",
    "# Input data files are available in the read-only \"../input/\" directory\n",
    "# For example, running this (by clicking run or pressing Shift+Enter) will list all files under the input directory\n",
    "\n",
    "import os\n",
    "for dirname, _, filenames in os.walk('/kaggle/input'):\n",
    "    for filename in filenames:\n",
    "        print(os.path.join(dirname, filename))\n",
    "\n",
    "# You can write up to 20GB to the current directory (/kaggle/working/) that gets preserved as output when you create a version using \"Save & Run All\" \n",
    "# You can also write temporary files to /kaggle/temp/, but they won't be saved outside of the current session"
   ]
  },
  {
   "cell_type": "markdown",
   "id": "e49de6aa",
   "metadata": {
    "papermill": {
     "duration": 0.006153,
     "end_time": "2022-11-18T23:43:43.019760",
     "exception": false,
     "start_time": "2022-11-18T23:43:43.013607",
     "status": "completed"
    },
    "tags": []
   },
   "source": [
    "_Now, we read in the data from the csv file that data is held in._"
   ]
  },
  {
   "cell_type": "code",
   "execution_count": 2,
   "id": "52d562fb",
   "metadata": {
    "execution": {
     "iopub.execute_input": "2022-11-18T23:43:43.033820Z",
     "iopub.status.busy": "2022-11-18T23:43:43.032950Z",
     "iopub.status.idle": "2022-11-18T23:43:43.075677Z",
     "shell.execute_reply": "2022-11-18T23:43:43.074592Z"
    },
    "papermill": {
     "duration": 0.052153,
     "end_time": "2022-11-18T23:43:43.077881",
     "exception": false,
     "start_time": "2022-11-18T23:43:43.025728",
     "status": "completed"
    },
    "tags": []
   },
   "outputs": [
    {
     "data": {
      "text/html": [
       "<div>\n",
       "<style scoped>\n",
       "    .dataframe tbody tr th:only-of-type {\n",
       "        vertical-align: middle;\n",
       "    }\n",
       "\n",
       "    .dataframe tbody tr th {\n",
       "        vertical-align: top;\n",
       "    }\n",
       "\n",
       "    .dataframe thead th {\n",
       "        text-align: right;\n",
       "    }\n",
       "</style>\n",
       "<table border=\"1\" class=\"dataframe\">\n",
       "  <thead>\n",
       "    <tr style=\"text-align: right;\">\n",
       "      <th></th>\n",
       "      <th>Utterances</th>\n",
       "      <th>Intent</th>\n",
       "    </tr>\n",
       "  </thead>\n",
       "  <tbody>\n",
       "    <tr>\n",
       "      <th>0</th>\n",
       "      <td>who are you?</td>\n",
       "      <td>smalltalk_agent_acquaintance</td>\n",
       "    </tr>\n",
       "    <tr>\n",
       "      <th>1</th>\n",
       "      <td>all about you</td>\n",
       "      <td>smalltalk_agent_acquaintance</td>\n",
       "    </tr>\n",
       "    <tr>\n",
       "      <th>2</th>\n",
       "      <td>what is your personality</td>\n",
       "      <td>smalltalk_agent_acquaintance</td>\n",
       "    </tr>\n",
       "    <tr>\n",
       "      <th>3</th>\n",
       "      <td>define yourself</td>\n",
       "      <td>smalltalk_agent_acquaintance</td>\n",
       "    </tr>\n",
       "    <tr>\n",
       "      <th>4</th>\n",
       "      <td>what are you</td>\n",
       "      <td>smalltalk_agent_acquaintance</td>\n",
       "    </tr>\n",
       "  </tbody>\n",
       "</table>\n",
       "</div>"
      ],
      "text/plain": [
       "                 Utterances                        Intent\n",
       "0              who are you?  smalltalk_agent_acquaintance\n",
       "1             all about you  smalltalk_agent_acquaintance\n",
       "2  what is your personality  smalltalk_agent_acquaintance\n",
       "3           define yourself  smalltalk_agent_acquaintance\n",
       "4              what are you  smalltalk_agent_acquaintance"
      ]
     },
     "execution_count": 2,
     "metadata": {},
     "output_type": "execute_result"
    }
   ],
   "source": [
    "input_data_path = '../input/small-talk-intent-classification-data/Small_talk_Intent.csv'\n",
    "df = pd.read_csv(input_data_path)\n",
    "df.head()\n"
   ]
  },
  {
   "cell_type": "markdown",
   "id": "915cb6a8",
   "metadata": {
    "papermill": {
     "duration": 0.006517,
     "end_time": "2022-11-18T23:43:43.090966",
     "exception": false,
     "start_time": "2022-11-18T23:43:43.084449",
     "status": "completed"
    },
    "tags": []
   },
   "source": [
    "We split the data here to prevent data leakages. I choose a holdout of 15% percentage with the parameters `test_size` for validation data for testing the model. "
   ]
  },
  {
   "cell_type": "code",
   "execution_count": 3,
   "id": "92762bc5",
   "metadata": {
    "execution": {
     "iopub.execute_input": "2022-11-18T23:43:43.105250Z",
     "iopub.status.busy": "2022-11-18T23:43:43.104605Z",
     "iopub.status.idle": "2022-11-18T23:43:44.828093Z",
     "shell.execute_reply": "2022-11-18T23:43:44.826920Z"
    },
    "papermill": {
     "duration": 1.733173,
     "end_time": "2022-11-18T23:43:44.830443",
     "exception": false,
     "start_time": "2022-11-18T23:43:43.097270",
     "status": "completed"
    },
    "tags": []
   },
   "outputs": [
    {
     "data": {
      "text/plain": [
       "1801       have you been ready?     smalltalk_agent_ready\n",
       "1610    are you still working on it?     smalltalk_age...\n",
       "976          that is incorrect     smalltalk_dialog_wrong\n",
       "1264    it's my birthday today     smalltalk_user_has_...\n",
       "1765    do you want to be my best friend?     smalltal...\n",
       "dtype: object"
      ]
     },
     "execution_count": 3,
     "metadata": {},
     "output_type": "execute_result"
    }
   ],
   "source": [
    "# split data into train and validation sets: df_train and df_val\n",
    "from sklearn.model_selection import train_test_split\n",
    "\n",
    "X = df['Utterances'].copy()\n",
    "y = df['Intent'].copy()\n",
    "\n",
    "X_train_raw, X_val_raw, y_train, y_val = train_test_split(X, y, test_size=0.15, random_state=42)\n",
    "X_train_raw.head() + \"     \" + y_train.head()"
   ]
  },
  {
   "cell_type": "markdown",
   "id": "13057793",
   "metadata": {
    "papermill": {
     "duration": 0.007121,
     "end_time": "2022-11-18T23:43:44.844739",
     "exception": false,
     "start_time": "2022-11-18T23:43:44.837618",
     "status": "completed"
    },
    "tags": []
   },
   "source": [
    "Here we are vectorizing the data. We are using the TfidfVectorizer() which vectorizies by term-frequency inverse document frequency. In this implementation, we are not removing stop words because the observation are so small. "
   ]
  },
  {
   "cell_type": "code",
   "execution_count": 4,
   "id": "1b031658",
   "metadata": {
    "execution": {
     "iopub.execute_input": "2022-11-18T23:43:44.861946Z",
     "iopub.status.busy": "2022-11-18T23:43:44.860456Z",
     "iopub.status.idle": "2022-11-18T23:43:44.930188Z",
     "shell.execute_reply": "2022-11-18T23:43:44.929051Z"
    },
    "papermill": {
     "duration": 0.08053,
     "end_time": "2022-11-18T23:43:44.932179",
     "exception": false,
     "start_time": "2022-11-18T23:43:44.851649",
     "status": "completed"
    },
    "tags": []
   },
   "outputs": [
    {
     "name": "stdout",
     "output_type": "stream",
     "text": [
      "X_train.shape = (2164, 638)\n",
      "X_val.shape = (383, 638)\n"
     ]
    },
    {
     "data": {
      "text/plain": [
       "numpy.ndarray"
      ]
     },
     "execution_count": 4,
     "metadata": {},
     "output_type": "execute_result"
    }
   ],
   "source": [
    "from sklearn.feature_extraction.text import TfidfVectorizer\n",
    "tfidf_vectorizer = TfidfVectorizer()\n",
    "X_train = tfidf_vectorizer.fit_transform(X_train_raw).toarray()\n",
    "\n",
    "print(f\"X_train.shape = {X_train.shape}\")\n",
    "X_val = tfidf_vectorizer.transform(X_val_raw).toarray()\n",
    "print(f\"X_val.shape = {X_val.shape}\")\n",
    "type(X_val)"
   ]
  },
  {
   "cell_type": "markdown",
   "id": "fc42784e",
   "metadata": {
    "papermill": {
     "duration": 0.006531,
     "end_time": "2022-11-18T23:43:44.945379",
     "exception": false,
     "start_time": "2022-11-18T23:43:44.938848",
     "status": "completed"
    },
    "tags": []
   },
   "source": [
    "# Model 1 (Decision Tree Classifier)\n",
    "\n",
    "_The first model I wanted to test was the Decision Tree Classifier. When training, we can see that it fits the training data very well. 99.4% accuracy might be too good of a fit so it will be interesting to see how well it fits the validation data._"
   ]
  },
  {
   "cell_type": "code",
   "execution_count": 5,
   "id": "c6102c8b",
   "metadata": {
    "execution": {
     "iopub.execute_input": "2022-11-18T23:43:44.960305Z",
     "iopub.status.busy": "2022-11-18T23:43:44.959527Z",
     "iopub.status.idle": "2022-11-18T23:43:45.408324Z",
     "shell.execute_reply": "2022-11-18T23:43:45.406877Z"
    },
    "papermill": {
     "duration": 0.458973,
     "end_time": "2022-11-18T23:43:45.410948",
     "exception": false,
     "start_time": "2022-11-18T23:43:44.951975",
     "status": "completed"
    },
    "tags": []
   },
   "outputs": [
    {
     "name": "stdout",
     "output_type": "stream",
     "text": [
      "accuracy (on X_train): 0.9940\n"
     ]
    }
   ],
   "source": [
    "from sklearn.tree import DecisionTreeClassifier\n",
    "from sklearn.metrics import confusion_matrix, ConfusionMatrixDisplay, accuracy_score\n",
    "\n",
    "model = DecisionTreeClassifier()\n",
    "model = model.fit(X_train, y_train)\n",
    "\n",
    "predictions_train = model.predict(X_train)\n",
    "\n",
    "print(f\"accuracy (on X_train): {accuracy_score(y_train, predictions_train):.4f}\")"
   ]
  },
  {
   "cell_type": "code",
   "execution_count": 6,
   "id": "634e9b8c",
   "metadata": {
    "execution": {
     "iopub.execute_input": "2022-11-18T23:43:45.426206Z",
     "iopub.status.busy": "2022-11-18T23:43:45.425887Z",
     "iopub.status.idle": "2022-11-18T23:43:45.433282Z",
     "shell.execute_reply": "2022-11-18T23:43:45.431910Z"
    },
    "papermill": {
     "duration": 0.018375,
     "end_time": "2022-11-18T23:43:45.436505",
     "exception": false,
     "start_time": "2022-11-18T23:43:45.418130",
     "status": "completed"
    },
    "tags": []
   },
   "outputs": [
    {
     "name": "stdout",
     "output_type": "stream",
     "text": [
      "accuracy (on X_train): 0.7180\n"
     ]
    }
   ],
   "source": [
    "predictions_val = model.predict(X_val)\n",
    "print(f\"accuracy (on X_train): {accuracy_score(y_val, predictions_val):.4f}\")\n"
   ]
  },
  {
   "cell_type": "markdown",
   "id": "e98dc3a9",
   "metadata": {
    "papermill": {
     "duration": 0.00641,
     "end_time": "2022-11-18T23:43:45.450758",
     "exception": false,
     "start_time": "2022-11-18T23:43:45.444348",
     "status": "completed"
    },
    "tags": []
   },
   "source": [
    "73.11% accuracy is a pretty good fit for the validation data. Let's see if we can improve that number by tuning a hyperparameter. For this model, we will tune the min_samples_split."
   ]
  },
  {
   "cell_type": "code",
   "execution_count": 7,
   "id": "d2f7a38e",
   "metadata": {
    "execution": {
     "iopub.execute_input": "2022-11-18T23:43:45.465252Z",
     "iopub.status.busy": "2022-11-18T23:43:45.464506Z",
     "iopub.status.idle": "2022-11-18T23:43:46.989096Z",
     "shell.execute_reply": "2022-11-18T23:43:46.988001Z"
    },
    "papermill": {
     "duration": 1.534183,
     "end_time": "2022-11-18T23:43:46.991507",
     "exception": false,
     "start_time": "2022-11-18T23:43:45.457324",
     "status": "completed"
    },
    "tags": []
   },
   "outputs": [],
   "source": [
    "from sklearn.metrics import log_loss\n",
    "\n",
    "tune_model = True # can change this to False once you've chosen a hyperparam value and before Saving your notebook with Kaggle\n",
    "intents = df['Intent'].unique()\n",
    "# A function to create and fit a RF with a specific number of trees\n",
    "def tuneModel(hyperparam_value):\n",
    "    rf_model = DecisionTreeClassifier(min_samples_split=hyperparam_value)\n",
    "    rf_model.fit(X_train, y_train)\n",
    "    y_train_pred_prob = rf_model.predict_proba(X_train)\n",
    "    y_train_pred = rf_model.predict(X_train)\n",
    "    y_val_pred_prob = rf_model.predict_proba(X_val)\n",
    "    y_val_pred = rf_model.predict(X_val)\n",
    "    train_loss = log_loss(y_train, y_train_pred_prob, labels=intents)\n",
    "    train_acc = accuracy_score(y_train, y_train_pred)\n",
    "    val_loss = log_loss(y_val, y_val_pred_prob, labels=intents)\n",
    "    val_acc = accuracy_score(y_val, y_val_pred)\n",
    "    return (train_loss, val_loss, train_acc, val_acc)\n",
    "\n",
    "# Possible values for the hyperparameter are in the range of 5 to 150 (by 50)\n",
    "hyp_param_vals = list(range(39,43,1)) # good values for n_estimators\n",
    "hyp_param_vals = [2,3] + list(range(5, 50, 10)) # good values for min_samples_split\n",
    "metrics = []\n",
    "\n",
    "if tune_model:\n",
    "    for hp in hyp_param_vals:\n",
    "        metrics.append(tuneModel(hp))"
   ]
  },
  {
   "cell_type": "markdown",
   "id": "bc470aa4",
   "metadata": {
    "papermill": {
     "duration": 0.006731,
     "end_time": "2022-11-18T23:43:47.005025",
     "exception": false,
     "start_time": "2022-11-18T23:43:46.998294",
     "status": "completed"
    },
    "tags": []
   },
   "source": [
    "Plot the results of the Decision Tree model performance for the hyperparameter value we looked at which was min_samples_split. Below, you will see that the validation and training data are rather far apart for my liking. It might suggest that there may be a better model to fit the data that does not overfit the training data."
   ]
  },
  {
   "cell_type": "code",
   "execution_count": 8,
   "id": "fcd2317b",
   "metadata": {
    "execution": {
     "iopub.execute_input": "2022-11-18T23:43:47.019569Z",
     "iopub.status.busy": "2022-11-18T23:43:47.019233Z",
     "iopub.status.idle": "2022-11-18T23:43:47.433706Z",
     "shell.execute_reply": "2022-11-18T23:43:47.432570Z"
    },
    "papermill": {
     "duration": 0.424735,
     "end_time": "2022-11-18T23:43:47.436345",
     "exception": false,
     "start_time": "2022-11-18T23:43:47.011610",
     "status": "completed"
    },
    "tags": []
   },
   "outputs": [
    {
     "data": {
      "image/png": "[encoded data removed]",
      "text/plain": [
       "<Figure size 1152x288 with 2 Axes>"
      ]
     },
     "metadata": {
      "needs_background": "light"
     },
     "output_type": "display_data"
    }
   ],
   "source": [
    "import matplotlib.pyplot as plt\n",
    "\n",
    "if tune_model:\n",
    "    fig, (ax1, ax2) = plt.subplots(1, 2, figsize=(16, 4))\n",
    "\n",
    "    ax1.set_xticks(hyp_param_vals)\n",
    "    ax1.set(xlabel=\"min_samples_split\", ylabel=\"loss (lower is better)\")\n",
    "    ax1.plot(hyp_param_vals, [metric[1] for metric in metrics], '--ro') # validation loss\n",
    "    ax1.plot(hyp_param_vals, [metric[0] for metric in metrics], '--bo') # training loss\n",
    "    ax1.legend([\"Validation Loss\", \"Train Loss\"], loc=1)\n",
    "\n",
    "    ax2.set_xticks(hyp_param_vals)\n",
    "    ax2.set(xlabel=\"min_samples_split\", ylabel=\"accuracy (higher is better)\")\n",
    "    ax2.plot(hyp_param_vals, [metric[3] for metric in metrics], '--ro') # validation accuracy\n",
    "    ax2.plot(hyp_param_vals, [metric[2] for metric in metrics], '--bo') # training accuracy\n",
    "    ax2.legend([\"Validation Accuracy\", \"Train Accuracy\"], loc=4)"
   ]
  },
  {
   "cell_type": "markdown",
   "id": "c9798232",
   "metadata": {
    "papermill": {
     "duration": 0.007154,
     "end_time": "2022-11-18T23:43:47.452290",
     "exception": false,
     "start_time": "2022-11-18T23:43:47.445136",
     "status": "completed"
    },
    "tags": []
   },
   "source": [
    "To be certain, let's look at the table of values and see which hyperparameter value has the lowest."
   ]
  },
  {
   "cell_type": "code",
   "execution_count": 9,
   "id": "75774946",
   "metadata": {
    "execution": {
     "iopub.execute_input": "2022-11-18T23:43:47.469280Z",
     "iopub.status.busy": "2022-11-18T23:43:47.467532Z",
     "iopub.status.idle": "2022-11-18T23:43:47.475277Z",
     "shell.execute_reply": "2022-11-18T23:43:47.474159Z"
    },
    "papermill": {
     "duration": 0.018142,
     "end_time": "2022-11-18T23:43:47.477576",
     "exception": false,
     "start_time": "2022-11-18T23:43:47.459434",
     "status": "completed"
    },
    "tags": []
   },
   "outputs": [
    {
     "name": "stdout",
     "output_type": "stream",
     "text": [
      "[[ 2.    3.    5.   15.   25.   35.   45.  ]\n",
      " [ 9.38  9.03  8.78  7.53  6.59  6.24  5.77]\n",
      " [ 0.73  0.73  0.73  0.7   0.69  0.68  0.67]]\n"
     ]
    }
   ],
   "source": [
    "# a simple matrix with first row containing hyperparam values, second row containing validation loss, third row containing validation accuracy\n",
    "# (this could be presented in an even nicer format using a pandas dataframe if you like)\n",
    "if tune_model:\n",
    "    tuning_results = np.array([hyp_param_vals, [round(metric[1],2) for metric in metrics], [round(metric[3],2) for metric in metrics]])\n",
    "    print(tuning_results)"
   ]
  },
  {
   "cell_type": "markdown",
   "id": "c997cc26",
   "metadata": {
    "papermill": {
     "duration": 0.006817,
     "end_time": "2022-11-18T23:43:47.491769",
     "exception": false,
     "start_time": "2022-11-18T23:43:47.484952",
     "status": "completed"
    },
    "tags": []
   },
   "source": [
    "After brief analysis of the graphs plotted and the data displayed, we can see that our best choice for min_samples_split was to choose a lower value. For our new value, we will use 2 as the min_samples_split. Also displayed below will be our first couple of predictions."
   ]
  },
  {
   "cell_type": "code",
   "execution_count": 10,
   "id": "c87dbe86",
   "metadata": {
    "execution": {
     "iopub.execute_input": "2022-11-18T23:43:47.507298Z",
     "iopub.status.busy": "2022-11-18T23:43:47.506526Z",
     "iopub.status.idle": "2022-11-18T23:43:47.731315Z",
     "shell.execute_reply": "2022-11-18T23:43:47.730047Z"
    },
    "papermill": {
     "duration": 0.235489,
     "end_time": "2022-11-18T23:43:47.734210",
     "exception": false,
     "start_time": "2022-11-18T23:43:47.498721",
     "status": "completed"
    },
    "tags": []
   },
   "outputs": [
    {
     "data": {
      "text/plain": [
       "array(['smalltalk_agent_annoying', 'smalltalk_agent_clever',\n",
       "       'smalltalk_user_here', 'smalltalk_agent_crazy',\n",
       "       'smalltalk_user_likes_agent', 'smalltalk_user_needs_advice',\n",
       "       'smalltalk_agent_beautiful', 'smalltalk_confirmation_yes',\n",
       "       'smalltalk_agent_good', 'smalltalk_agent_busy'], dtype=object)"
      ]
     },
     "execution_count": 10,
     "metadata": {},
     "output_type": "execute_result"
    }
   ],
   "source": [
    "# refit the model with the best hyperparameter value you found\n",
    "model = DecisionTreeClassifier(min_samples_split=2)\n",
    "model = model.fit(X_train, y_train)\n",
    "\n",
    "# this make predictions for the test set\n",
    "predictions_train = model.predict(X_train)\n",
    "predictions_test = model.predict(X_val)\n",
    "predictions_test[:10]"
   ]
  },
  {
   "cell_type": "markdown",
   "id": "f39e3929",
   "metadata": {
    "papermill": {
     "duration": 0.007268,
     "end_time": "2022-11-18T23:43:47.749516",
     "exception": false,
     "start_time": "2022-11-18T23:43:47.742248",
     "status": "completed"
    },
    "tags": []
   },
   "source": [
    "Let's do one last test of the accuracy. After running the accuracy test we can see marginal improvement as our validation accuracy moved from 73.11% to 73.63%. This move is small but does show some improvement from our tuning."
   ]
  },
  {
   "cell_type": "code",
   "execution_count": 11,
   "id": "916109bf",
   "metadata": {
    "execution": {
     "iopub.execute_input": "2022-11-18T23:43:47.764847Z",
     "iopub.status.busy": "2022-11-18T23:43:47.764544Z",
     "iopub.status.idle": "2022-11-18T23:43:47.774348Z",
     "shell.execute_reply": "2022-11-18T23:43:47.773164Z"
    },
    "papermill": {
     "duration": 0.020665,
     "end_time": "2022-11-18T23:43:47.777137",
     "exception": false,
     "start_time": "2022-11-18T23:43:47.756472",
     "status": "completed"
    },
    "tags": []
   },
   "outputs": [
    {
     "name": "stdout",
     "output_type": "stream",
     "text": [
      "accuracy (on X_train): 0.9940\n",
      "accuracy (on X_val): 0.7311\n"
     ]
    }
   ],
   "source": [
    "print(f\"accuracy (on X_train): {accuracy_score(y_train, predictions_train):.4f}\")\n",
    "print(f\"accuracy (on X_val): {accuracy_score(y_val, predictions_test):.4f}\")"
   ]
  },
  {
   "cell_type": "markdown",
   "id": "15668fea",
   "metadata": {
    "papermill": {
     "duration": 0.00693,
     "end_time": "2022-11-18T23:43:47.791486",
     "exception": false,
     "start_time": "2022-11-18T23:43:47.784556",
     "status": "completed"
    },
    "tags": []
   },
   "source": [
    "# Model 2 (Gaussian Naive Bayes)\n",
    "\n",
    "_Since the first model seemed to overfit the data a little bit, I wanted to test a second model. The model I chose for this second run was Gaussian Naive Bayes. Below we import the model and train on the same training data that we did before. On intially testing, we can see that we get a significantly lower. Our intially training accuracy was 86.88% which is 12.52% lower than the Decision Tree model._ "
   ]
  },
  {
   "cell_type": "code",
   "execution_count": 12,
   "id": "f3fde95b",
   "metadata": {
    "execution": {
     "iopub.execute_input": "2022-11-18T23:43:47.807381Z",
     "iopub.status.busy": "2022-11-18T23:43:47.806737Z",
     "iopub.status.idle": "2022-11-18T23:43:48.479081Z",
     "shell.execute_reply": "2022-11-18T23:43:48.477384Z"
    },
    "papermill": {
     "duration": 0.682998,
     "end_time": "2022-11-18T23:43:48.481627",
     "exception": false,
     "start_time": "2022-11-18T23:43:47.798629",
     "status": "completed"
    },
    "tags": []
   },
   "outputs": [
    {
     "name": "stdout",
     "output_type": "stream",
     "text": [
      "accuracy (on X_train): 0.8688\n"
     ]
    }
   ],
   "source": [
    "from sklearn.naive_bayes import GaussianNB\n",
    "from sklearn.tree import DecisionTreeClassifier\n",
    "from sklearn.metrics import confusion_matrix, ConfusionMatrixDisplay, accuracy_score\n",
    "\n",
    "model = GaussianNB()\n",
    "model = model.fit(X_train, y_train)\n",
    "\n",
    "predictions_train = model.predict(X_train)\n",
    "\n",
    "print(f\"accuracy (on X_train): {accuracy_score(y_train, predictions_train):.4f}\")"
   ]
  },
  {
   "cell_type": "markdown",
   "id": "928e7533",
   "metadata": {
    "papermill": {
     "duration": 0.008236,
     "end_time": "2022-11-18T23:43:48.498459",
     "exception": false,
     "start_time": "2022-11-18T23:43:48.490223",
     "status": "completed"
    },
    "tags": []
   },
   "source": [
    "Our first run through the validation data was also significantly lower. 66.58% accuracy is also far lower than its Decision tree counterpart. "
   ]
  },
  {
   "cell_type": "code",
   "execution_count": 13,
   "id": "d81a3b59",
   "metadata": {
    "execution": {
     "iopub.execute_input": "2022-11-18T23:43:48.514487Z",
     "iopub.status.busy": "2022-11-18T23:43:48.514167Z",
     "iopub.status.idle": "2022-11-18T23:43:48.595329Z",
     "shell.execute_reply": "2022-11-18T23:43:48.594066Z"
    },
    "papermill": {
     "duration": 0.091418,
     "end_time": "2022-11-18T23:43:48.597437",
     "exception": false,
     "start_time": "2022-11-18T23:43:48.506019",
     "status": "completed"
    },
    "tags": []
   },
   "outputs": [
    {
     "name": "stdout",
     "output_type": "stream",
     "text": [
      "accuracy (on X_train): 0.6658\n"
     ]
    }
   ],
   "source": [
    "predictions_val = model.predict(X_val)\n",
    "print(f\"accuracy (on X_train): {accuracy_score(y_val, predictions_val):.4f}\")"
   ]
  },
  {
   "cell_type": "markdown",
   "id": "8a62a918",
   "metadata": {
    "papermill": {
     "duration": 0.007246,
     "end_time": "2022-11-18T23:43:48.612014",
     "exception": false,
     "start_time": "2022-11-18T23:43:48.604768",
     "status": "completed"
    },
    "tags": []
   },
   "source": [
    "_Let's tune the model to see if it can yield a more improvement than the Decision Tree model. The hyperparameter we will be tuning is the var_smoothing parameter._"
   ]
  },
  {
   "cell_type": "code",
   "execution_count": 14,
   "id": "5e583d99",
   "metadata": {
    "execution": {
     "iopub.execute_input": "2022-11-18T23:43:48.628154Z",
     "iopub.status.busy": "2022-11-18T23:43:48.627816Z",
     "iopub.status.idle": "2022-11-18T23:43:59.026062Z",
     "shell.execute_reply": "2022-11-18T23:43:59.025080Z"
    },
    "papermill": {
     "duration": 10.409076,
     "end_time": "2022-11-18T23:43:59.028551",
     "exception": false,
     "start_time": "2022-11-18T23:43:48.619475",
     "status": "completed"
    },
    "tags": []
   },
   "outputs": [],
   "source": [
    "from sklearn.metrics import log_loss\n",
    "\n",
    "tune_model = True # can change this to False once you've chosen a hyperparam value and before Saving your notebook with Kaggle\n",
    "intents = df['Intent'].unique()\n",
    "# A function to create and fit a RF with a specific number of trees\n",
    "def tuneModel(hyperparam_value):\n",
    "    rf_model = GaussianNB(var_smoothing=hyperparam_value)\n",
    "    rf_model.fit(X_train, y_train)\n",
    "    y_train_pred_prob = rf_model.predict_proba(X_train)\n",
    "    y_train_pred = rf_model.predict(X_train)\n",
    "    y_val_pred_prob = rf_model.predict_proba(X_val)\n",
    "    y_val_pred = rf_model.predict(X_val)\n",
    "    train_loss = log_loss(y_train, y_train_pred_prob, labels=intents)\n",
    "    train_acc = accuracy_score(y_train, y_train_pred)\n",
    "    val_loss = log_loss(y_val, y_val_pred_prob, labels=intents)\n",
    "    val_acc = accuracy_score(y_val, y_val_pred)\n",
    "    return (train_loss, val_loss, train_acc, val_acc)\n",
    "\n",
    "# Possible values for the hyperparameter are in the range of 5 to 150 (by 50)\n",
    "hyp_param_vals = list(range(39,43,1)) # good values for n_estimators\n",
    "hyp_param_vals = [2,3] + list(range(5, 50, 10)) # good values for min_samples_split\n",
    "metrics = []\n",
    "\n",
    "if tune_model:\n",
    "    for hp in hyp_param_vals:\n",
    "        metrics.append(tuneModel(hp))"
   ]
  },
  {
   "cell_type": "markdown",
   "id": "65ad637e",
   "metadata": {
    "papermill": {
     "duration": 0.007389,
     "end_time": "2022-11-18T23:43:59.043928",
     "exception": false,
     "start_time": "2022-11-18T23:43:59.036539",
     "status": "completed"
    },
    "tags": []
   },
   "source": [
    "After plotting these tuning runs, we can see that the Gaussian Naive Bayes is a far better fit for the data. The log loss and accuracy are far closer for the test and training data with this model over the Decision Tree Classifier."
   ]
  },
  {
   "cell_type": "code",
   "execution_count": 15,
   "id": "e2ab39e4",
   "metadata": {
    "execution": {
     "iopub.execute_input": "2022-11-18T23:43:59.060652Z",
     "iopub.status.busy": "2022-11-18T23:43:59.059555Z",
     "iopub.status.idle": "2022-11-18T23:43:59.438955Z",
     "shell.execute_reply": "2022-11-18T23:43:59.437912Z"
    },
    "papermill": {
     "duration": 0.390279,
     "end_time": "2022-11-18T23:43:59.441285",
     "exception": false,
     "start_time": "2022-11-18T23:43:59.051006",
     "status": "completed"
    },
    "tags": []
   },
   "outputs": [
    {
     "data": {
      "image/png": "[encoded data removed]",
      "text/plain": [
       "<Figure size 1152x288 with 2 Axes>"
      ]
     },
     "metadata": {
      "needs_background": "light"
     },
     "output_type": "display_data"
    }
   ],
   "source": [
    "import matplotlib.pyplot as plt\n",
    "\n",
    "if tune_model:\n",
    "    fig, (ax1, ax2) = plt.subplots(1, 2, figsize=(16, 4))\n",
    "\n",
    "    ax1.set_xticks(hyp_param_vals)\n",
    "    ax1.set(xlabel=\"var_smoothing\", ylabel=\"loss (lower is better)\")\n",
    "    ax1.plot(hyp_param_vals, [metric[1] for metric in metrics], '--ro') # validation loss\n",
    "    ax1.plot(hyp_param_vals, [metric[0] for metric in metrics], '--bo') # training loss\n",
    "    ax1.legend([\"Validation Loss\", \"Train Loss\"], loc=1)\n",
    "\n",
    "    ax2.set_xticks(hyp_param_vals)\n",
    "    ax2.set(xlabel=\"var_smoothing\", ylabel=\"accuracy (higher is better)\")\n",
    "    ax2.plot(hyp_param_vals, [metric[3] for metric in metrics], '--ro') # validation accuracy\n",
    "    ax2.plot(hyp_param_vals, [metric[2] for metric in metrics], '--bo') # training accuracy\n",
    "    ax2.legend([\"Validation Accuracy\", \"Train Accuracy\"], loc=4)"
   ]
  },
  {
   "cell_type": "markdown",
   "id": "42e28b6d",
   "metadata": {
    "papermill": {
     "duration": 0.007936,
     "end_time": "2022-11-18T23:43:59.457116",
     "exception": false,
     "start_time": "2022-11-18T23:43:59.449180",
     "status": "completed"
    },
    "tags": []
   },
   "source": [
    "Based on the results of the fitting, we can see that the best value for the var_smoothing variable is 5. It is the optimal balance between the log loss and accuracy. Below, we also disply the first couple of predictions for the Gaussian Naive Bayes model with this optimal value."
   ]
  },
  {
   "cell_type": "code",
   "execution_count": 16,
   "id": "30464b93",
   "metadata": {
    "execution": {
     "iopub.execute_input": "2022-11-18T23:43:59.474011Z",
     "iopub.status.busy": "2022-11-18T23:43:59.473713Z",
     "iopub.status.idle": "2022-11-18T23:44:00.351860Z",
     "shell.execute_reply": "2022-11-18T23:44:00.350831Z"
    },
    "papermill": {
     "duration": 0.889724,
     "end_time": "2022-11-18T23:44:00.354858",
     "exception": false,
     "start_time": "2022-11-18T23:43:59.465134",
     "status": "completed"
    },
    "tags": []
   },
   "outputs": [
    {
     "data": {
      "text/plain": [
       "array(['smalltalk_agent_bad', 'smalltalk_agent_clever',\n",
       "       'smalltalk_user_here', 'smalltalk_agent_crazy',\n",
       "       'smalltalk_user_likes_agent', 'smalltalk_agent_acquaintance',\n",
       "       'smalltalk_user_looks_like', 'smalltalk_agent_my_friend',\n",
       "       'smalltalk_user_here', 'smalltalk_agent_busy'], dtype='<U39')"
      ]
     },
     "execution_count": 16,
     "metadata": {},
     "output_type": "execute_result"
    }
   ],
   "source": [
    "# refit the model with the best hyperparameter value you found\n",
    "model = GaussianNB(var_smoothing=5)\n",
    "model = model.fit(X_train, y_train)\n",
    "\n",
    "# this make predictions for the test set\n",
    "predictions_train = model.predict(X_train)\n",
    "predictions_test = model.predict(X_val)\n",
    "predictions_test[:10]"
   ]
  },
  {
   "cell_type": "markdown",
   "id": "716f5788",
   "metadata": {
    "papermill": {
     "duration": 0.01208,
     "end_time": "2022-11-18T23:44:00.380028",
     "exception": false,
     "start_time": "2022-11-18T23:44:00.367948",
     "status": "completed"
    },
    "tags": []
   },
   "source": [
    "After the tuning and finding the proper hyperparemeter for the model, we now yield a more accurate model than the decision tree classifier. This improvement is far greater than the Decision Tree Classifier and the original untuned model. It will be interesting to see if a deep learning model can improve upon a 75.46% accuracy."
   ]
  },
  {
   "cell_type": "code",
   "execution_count": 17,
   "id": "ac91a20c",
   "metadata": {
    "execution": {
     "iopub.execute_input": "2022-11-18T23:44:00.405009Z",
     "iopub.status.busy": "2022-11-18T23:44:00.404595Z",
     "iopub.status.idle": "2022-11-18T23:44:00.418930Z",
     "shell.execute_reply": "2022-11-18T23:44:00.417114Z"
    },
    "papermill": {
     "duration": 0.031576,
     "end_time": "2022-11-18T23:44:00.423168",
     "exception": false,
     "start_time": "2022-11-18T23:44:00.391592",
     "status": "completed"
    },
    "tags": []
   },
   "outputs": [
    {
     "name": "stdout",
     "output_type": "stream",
     "text": [
      "accuracy (on X_train): 0.8965\n",
      "accuracy (on X_val): 0.7546\n"
     ]
    }
   ],
   "source": [
    "print(f\"accuracy (on X_train): {accuracy_score(y_train, predictions_train):.4f}\")\n",
    "print(f\"accuracy (on X_val): {accuracy_score(y_val, predictions_test):.4f}\")"
   ]
  }
 ],
 "metadata": {
  "kernelspec": {
   "display_name": "Python 3",
   "language": "python",
   "name": "python3"
  },
  "language_info": {
   "codemirror_mode": {
    "name": "ipython",
    "version": 3
   },
   "file_extension": ".py",
   "mimetype": "text/x-python",
   "name": "python",
   "nbconvert_exporter": "python",
   "pygments_lexer": "ipython3",
   "version": "3.7.12"
  },
  "papermill": {
   "default_parameters": {},
   "duration": 29.17144,
   "end_time": "2022-11-18T23:44:01.067618",
   "environment_variables": {},
   "exception": null,
   "input_path": "__notebook__.ipynb",
   "output_path": "__notebook__.ipynb",
   "parameters": {},
   "start_time": "2022-11-18T23:43:31.896178",
   "version": "2.3.4"
  }
 },
 "nbformat": 4,
 "nbformat_minor": 5
}
