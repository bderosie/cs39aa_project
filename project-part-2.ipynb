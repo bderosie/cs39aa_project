{
 "cells": [
  {
   "cell_type": "markdown",
   "id": "887514c9",
   "metadata": {
    "papermill": {
     "duration": 0.007812,
     "end_time": "2022-11-15T20:35:02.817321",
     "exception": false,
     "start_time": "2022-11-15T20:35:02.809509",
     "status": "completed"
    },
    "tags": []
   },
   "source": [
    "This first cell is added by Kaggle by default and contains some useful info/setup to be able to open the data files for the competition. "
   ]
  },
  {
   "cell_type": "code",
   "execution_count": 1,
   "id": "9ed1009a",
   "metadata": {
    "_cell_guid": "b1076dfc-b9ad-4769-8c92-a6c4dae69d19",
    "_uuid": "8f2839f25d086af736a60e9eeb907d3b93b6e0e5",
    "execution": {
     "iopub.execute_input": "2022-11-15T20:35:02.831981Z",
     "iopub.status.busy": "2022-11-15T20:35:02.831501Z",
     "iopub.status.idle": "2022-11-15T20:35:02.852287Z",
     "shell.execute_reply": "2022-11-15T20:35:02.851007Z"
    },
    "papermill": {
     "duration": 0.031538,
     "end_time": "2022-11-15T20:35:02.855265",
     "exception": false,
     "start_time": "2022-11-15T20:35:02.823727",
     "status": "completed"
    },
    "tags": []
   },
   "outputs": [
    {
     "name": "stdout",
     "output_type": "stream",
     "text": [
      "/kaggle/input/small-talk-intent-classification-data/Small_talk_Intent.csv\n"
     ]
    }
   ],
   "source": [
    "# This Python 3 environment comes with many helpful analytics libraries installed\n",
    "# It is defined by the kaggle/python Docker image: https://github.com/kaggle/docker-python\n",
    "# For example, here's several helpful packages to load\n",
    "\n",
    "import numpy as np # linear algebra\n",
    "import pandas as pd # data processing, CSV file I/O (e.g. pd.read_csv)\n",
    "\n",
    "# Input data files are available in the read-only \"../input/\" directory\n",
    "# For example, running this (by clicking run or pressing Shift+Enter) will list all files under the input directory\n",
    "\n",
    "import os\n",
    "for dirname, _, filenames in os.walk('/kaggle/input'):\n",
    "    for filename in filenames:\n",
    "        print(os.path.join(dirname, filename))\n",
    "\n",
    "# You can write up to 20GB to the current directory (/kaggle/working/) that gets preserved as output when you create a version using \"Save & Run All\" \n",
    "# You can also write temporary files to /kaggle/temp/, but they won't be saved outside of the current session"
   ]
  },
  {
   "cell_type": "markdown",
   "id": "ce34b6d4",
   "metadata": {
    "papermill": {
     "duration": 0.006045,
     "end_time": "2022-11-15T20:35:02.867694",
     "exception": false,
     "start_time": "2022-11-15T20:35:02.861649",
     "status": "completed"
    },
    "tags": []
   },
   "source": [
    "This is where we open the dataset for the competition. This can be confusing at first, which is why Kaggle prints out the path for us above. In the top right of the window the data files for this competition are also listed, so that is how we know to use `train.csv`. "
   ]
  },
  {
   "cell_type": "code",
   "execution_count": 2,
   "id": "4ea2aba8",
   "metadata": {
    "execution": {
     "iopub.execute_input": "2022-11-15T20:35:02.882268Z",
     "iopub.status.busy": "2022-11-15T20:35:02.881885Z",
     "iopub.status.idle": "2022-11-15T20:35:02.916486Z",
     "shell.execute_reply": "2022-11-15T20:35:02.915262Z"
    },
    "papermill": {
     "duration": 0.045057,
     "end_time": "2022-11-15T20:35:02.919017",
     "exception": false,
     "start_time": "2022-11-15T20:35:02.873960",
     "status": "completed"
    },
    "tags": []
   },
   "outputs": [
    {
     "data": {
      "text/html": [
       "<div>\n",
       "<style scoped>\n",
       "    .dataframe tbody tr th:only-of-type {\n",
       "        vertical-align: middle;\n",
       "    }\n",
       "\n",
       "    .dataframe tbody tr th {\n",
       "        vertical-align: top;\n",
       "    }\n",
       "\n",
       "    .dataframe thead th {\n",
       "        text-align: right;\n",
       "    }\n",
       "</style>\n",
       "<table border=\"1\" class=\"dataframe\">\n",
       "  <thead>\n",
       "    <tr style=\"text-align: right;\">\n",
       "      <th></th>\n",
       "      <th>Utterances</th>\n",
       "      <th>Intent</th>\n",
       "    </tr>\n",
       "  </thead>\n",
       "  <tbody>\n",
       "    <tr>\n",
       "      <th>0</th>\n",
       "      <td>who are you?</td>\n",
       "      <td>smalltalk_agent_acquaintance</td>\n",
       "    </tr>\n",
       "    <tr>\n",
       "      <th>1</th>\n",
       "      <td>all about you</td>\n",
       "      <td>smalltalk_agent_acquaintance</td>\n",
       "    </tr>\n",
       "    <tr>\n",
       "      <th>2</th>\n",
       "      <td>what is your personality</td>\n",
       "      <td>smalltalk_agent_acquaintance</td>\n",
       "    </tr>\n",
       "    <tr>\n",
       "      <th>3</th>\n",
       "      <td>define yourself</td>\n",
       "      <td>smalltalk_agent_acquaintance</td>\n",
       "    </tr>\n",
       "    <tr>\n",
       "      <th>4</th>\n",
       "      <td>what are you</td>\n",
       "      <td>smalltalk_agent_acquaintance</td>\n",
       "    </tr>\n",
       "  </tbody>\n",
       "</table>\n",
       "</div>"
      ],
      "text/plain": [
       "                 Utterances                        Intent\n",
       "0              who are you?  smalltalk_agent_acquaintance\n",
       "1             all about you  smalltalk_agent_acquaintance\n",
       "2  what is your personality  smalltalk_agent_acquaintance\n",
       "3           define yourself  smalltalk_agent_acquaintance\n",
       "4              what are you  smalltalk_agent_acquaintance"
      ]
     },
     "execution_count": 2,
     "metadata": {},
     "output_type": "execute_result"
    }
   ],
   "source": [
    "input_data_path = '../input/small-talk-intent-classification-data/Small_talk_Intent.csv'\n",
    "df = pd.read_csv(input_data_path)\n",
    "df.head()\n"
   ]
  },
  {
   "cell_type": "markdown",
   "id": "19d4c3a0",
   "metadata": {
    "papermill": {
     "duration": 0.006151,
     "end_time": "2022-11-15T20:35:02.931798",
     "exception": false,
     "start_time": "2022-11-15T20:35:02.925647",
     "status": "completed"
    },
    "tags": []
   },
   "source": [
    "Splitting the data early on to avoid data leakage is always a good idea. You can choose a different holdout percentage with the parameters `test_size` (common or typical values are 15% or 20% of your data, but can vary depending on how much data you have). "
   ]
  },
  {
   "cell_type": "code",
   "execution_count": 3,
   "id": "320d8787",
   "metadata": {
    "execution": {
     "iopub.execute_input": "2022-11-15T20:35:02.946387Z",
     "iopub.status.busy": "2022-11-15T20:35:02.945993Z",
     "iopub.status.idle": "2022-11-15T20:35:04.092089Z",
     "shell.execute_reply": "2022-11-15T20:35:04.090826Z"
    },
    "papermill": {
     "duration": 1.15653,
     "end_time": "2022-11-15T20:35:04.094799",
     "exception": false,
     "start_time": "2022-11-15T20:35:02.938269",
     "status": "completed"
    },
    "tags": []
   },
   "outputs": [
    {
     "data": {
      "text/plain": [
       "1801       have you been ready?     smalltalk_agent_ready\n",
       "1610    are you still working on it?     smalltalk_age...\n",
       "976          that is incorrect     smalltalk_dialog_wrong\n",
       "1264    it's my birthday today     smalltalk_user_has_...\n",
       "1765    do you want to be my best friend?     smalltal...\n",
       "dtype: object"
      ]
     },
     "execution_count": 3,
     "metadata": {},
     "output_type": "execute_result"
    }
   ],
   "source": [
    "# split data into train and validation sets: df_train and df_val\n",
    "from sklearn.model_selection import train_test_split\n",
    "\n",
    "X = df['Utterances'].copy()\n",
    "y = df['Intent'].copy()\n",
    "\n",
    "X_train_raw, X_val_raw, y_train, y_val = train_test_split(X, y, test_size=0.15, random_state=42)\n",
    "X_train_raw.head() + \"     \" + y_train.head()"
   ]
  },
  {
   "cell_type": "markdown",
   "id": "84f4ec5a",
   "metadata": {
    "papermill": {
     "duration": 0.006266,
     "end_time": "2022-11-15T20:35:04.107656",
     "exception": false,
     "start_time": "2022-11-15T20:35:04.101390",
     "status": "completed"
    },
    "tags": []
   },
   "source": [
    "Next is the vectorization of the data. Note that the tokenization is happening inside the `fit_transform` method as well. Parameters to the `TfidfVectorizer()` constructor can also change how the vectorization is done (e.g. limit vocabularly to __x__ most frequently occuring words, remove stopwords or not, etc.). There is lots there, so checking out the documentation for [TfidfVectorizer](https://scikit-learn.org/stable/modules/generated/sklearn.feature_extraction.text.TfidfVectorizer.html) is not a bad idea. "
   ]
  },
  {
   "cell_type": "code",
   "execution_count": 4,
   "id": "3b7110d4",
   "metadata": {
    "execution": {
     "iopub.execute_input": "2022-11-15T20:35:04.123243Z",
     "iopub.status.busy": "2022-11-15T20:35:04.122813Z",
     "iopub.status.idle": "2022-11-15T20:35:04.189124Z",
     "shell.execute_reply": "2022-11-15T20:35:04.187458Z"
    },
    "papermill": {
     "duration": 0.077997,
     "end_time": "2022-11-15T20:35:04.192086",
     "exception": false,
     "start_time": "2022-11-15T20:35:04.114089",
     "status": "completed"
    },
    "tags": []
   },
   "outputs": [
    {
     "name": "stdout",
     "output_type": "stream",
     "text": [
      "X_train.shape = (2164, 638)\n",
      "X_val.shape = (383, 638)\n"
     ]
    },
    {
     "data": {
      "text/plain": [
       "numpy.ndarray"
      ]
     },
     "execution_count": 4,
     "metadata": {},
     "output_type": "execute_result"
    }
   ],
   "source": [
    "from sklearn.feature_extraction.text import TfidfVectorizer\n",
    "#import seaborn as sns\n",
    "tfidf_vectorizer = TfidfVectorizer()\n",
    "X_train = tfidf_vectorizer.fit_transform(X_train_raw).toarray()\n",
    "\n",
    "# an alternative is to use term frequency:\n",
    "#from sklearn.feature_extraction.text import CountVectorizer\n",
    "#one_hot_vectorizer = CountVectorizer(binary=True)\n",
    "#X_train = one_hot_vectorizer.fit_transform(X_train_raw))\n",
    "\n",
    "print(f\"X_train.shape = {X_train.shape}\")\n",
    "X_val = tfidf_vectorizer.transform(X_val_raw).toarray()\n",
    "print(f\"X_val.shape = {X_val.shape}\")\n",
    "type(X_val)"
   ]
  },
  {
   "cell_type": "markdown",
   "id": "848281a8",
   "metadata": {
    "papermill": {
     "duration": 0.006477,
     "end_time": "2022-11-15T20:35:04.205518",
     "exception": false,
     "start_time": "2022-11-15T20:35:04.199041",
     "status": "completed"
    },
    "tags": []
   },
   "source": [
    "Finally, it's time to fit a model to the data. This is the main part of the assignment is to use a model __other than RandomForest__. Fortunately, this should not be too difficult of a chance to this notebook since Scikit Learn has many, many types of classification models, and they are easily interchangeable. Besides the RandomForestClassifier, there are:\n",
    "* [DecisionTreeClassifier](https://scikit-learn.org/stable/modules/generated/sklearn.tree.DecisionTreeClassifier.html)\n",
    "* [GradientBoostingClassifier](https://scikit-learn.org/stable/modules/generated/sklearn.ensemble.GradientBoostingClassifier.html)\n",
    "* [AdaBoostClassifier](https://scikit-learn.org/stable/modules/generated/sklearn.ensemble.AdaBoostClassifier.html)\n",
    "* [ExtraTreesClassifier](https://scikit-learn.org/stable/modules/generated/sklearn.ensemble.ExtraTreesClassifier.html)\n",
    "* [HistGradientBoostingClassifier](https://scikit-learn.org/stable/modules/generated/sklearn.ensemble.HistGradientBoostingClassifier.html)\n",
    "* [Gaussian Naive Bayes](https://scikit-learn.org/stable/modules/generated/sklearn.naive_bayes.GaussianNB.html)\n",
    "* [Naive Bayes Multinomial Classifier](https://scikit-learn.org/stable/modules/generated/sklearn.naive_bayes.MultinomialNB.html)\n",
    "\n",
    "and even more options. Feel free to choose another one. "
   ]
  },
  {
   "cell_type": "markdown",
   "id": "e2e00c3b",
   "metadata": {
    "papermill": {
     "duration": 0.006393,
     "end_time": "2022-11-15T20:35:04.218610",
     "exception": false,
     "start_time": "2022-11-15T20:35:04.212217",
     "status": "completed"
    },
    "tags": []
   },
   "source": [
    "# Model 1 (Decision Tree Classifier)"
   ]
  },
  {
   "cell_type": "code",
   "execution_count": 5,
   "id": "28b4645c",
   "metadata": {
    "execution": {
     "iopub.execute_input": "2022-11-15T20:35:04.234269Z",
     "iopub.status.busy": "2022-11-15T20:35:04.233847Z",
     "iopub.status.idle": "2022-11-15T20:35:04.601932Z",
     "shell.execute_reply": "2022-11-15T20:35:04.600136Z"
    },
    "papermill": {
     "duration": 0.379644,
     "end_time": "2022-11-15T20:35:04.605396",
     "exception": false,
     "start_time": "2022-11-15T20:35:04.225752",
     "status": "completed"
    },
    "tags": []
   },
   "outputs": [
    {
     "name": "stdout",
     "output_type": "stream",
     "text": [
      "accuracy (on X_train): 0.9940\n"
     ]
    }
   ],
   "source": [
    "from sklearn.tree import DecisionTreeClassifier\n",
    "from sklearn.metrics import confusion_matrix, ConfusionMatrixDisplay, accuracy_score\n",
    "\n",
    "model = DecisionTreeClassifier()\n",
    "model = model.fit(X_train, y_train)\n",
    "\n",
    "predictions_train = model.predict(X_train)\n",
    "\n",
    "print(f\"accuracy (on X_train): {accuracy_score(y_train, predictions_train):.4f}\")"
   ]
  },
  {
   "cell_type": "code",
   "execution_count": 6,
   "id": "11b3448f",
   "metadata": {
    "execution": {
     "iopub.execute_input": "2022-11-15T20:35:04.622203Z",
     "iopub.status.busy": "2022-11-15T20:35:04.620933Z",
     "iopub.status.idle": "2022-11-15T20:35:04.629697Z",
     "shell.execute_reply": "2022-11-15T20:35:04.628430Z"
    },
    "papermill": {
     "duration": 0.019816,
     "end_time": "2022-11-15T20:35:04.632578",
     "exception": false,
     "start_time": "2022-11-15T20:35:04.612762",
     "status": "completed"
    },
    "tags": []
   },
   "outputs": [
    {
     "name": "stdout",
     "output_type": "stream",
     "text": [
      "accuracy (on X_train): 0.7415\n"
     ]
    }
   ],
   "source": [
    "predictions_val = model.predict(X_val)\n",
    "print(f\"accuracy (on X_train): {accuracy_score(y_val, predictions_val):.4f}\")\n"
   ]
  },
  {
   "cell_type": "markdown",
   "id": "7da0f049",
   "metadata": {
    "papermill": {
     "duration": 0.006515,
     "end_time": "2022-11-15T20:35:04.646474",
     "exception": false,
     "start_time": "2022-11-15T20:35:04.639959",
     "status": "completed"
    },
    "tags": []
   },
   "source": [
    "As we did previously, let's now check to see if there is any hyperparameter tuning that can be done to further improve the model performance. We saw that for Random Forest there will not be much difference here, but hyperparameter choices for other types of the models can cause performance to vary much more. "
   ]
  },
  {
   "cell_type": "code",
   "execution_count": 7,
   "id": "17ba18b5",
   "metadata": {
    "execution": {
     "iopub.execute_input": "2022-11-15T20:35:04.663035Z",
     "iopub.status.busy": "2022-11-15T20:35:04.662596Z",
     "iopub.status.idle": "2022-11-15T20:35:06.271468Z",
     "shell.execute_reply": "2022-11-15T20:35:06.269696Z"
    },
    "papermill": {
     "duration": 1.620912,
     "end_time": "2022-11-15T20:35:06.274373",
     "exception": false,
     "start_time": "2022-11-15T20:35:04.653461",
     "status": "completed"
    },
    "tags": []
   },
   "outputs": [],
   "source": [
    "from sklearn.metrics import log_loss\n",
    "\n",
    "tune_model = True # can change this to False once you've chosen a hyperparam value and before Saving your notebook with Kaggle\n",
    "intents = df['Intent'].unique()\n",
    "# A function to create and fit a RF with a specific number of trees\n",
    "def tuneModel(hyperparam_value):\n",
    "    rf_model = DecisionTreeClassifier(min_samples_split=hyperparam_value)\n",
    "    rf_model.fit(X_train, y_train)\n",
    "    y_train_pred_prob = rf_model.predict_proba(X_train)\n",
    "    y_train_pred = rf_model.predict(X_train)\n",
    "    y_val_pred_prob = rf_model.predict_proba(X_val)\n",
    "    y_val_pred = rf_model.predict(X_val)\n",
    "    train_loss = log_loss(y_train, y_train_pred_prob, labels=intents)\n",
    "    train_acc = accuracy_score(y_train, y_train_pred)\n",
    "    val_loss = log_loss(y_val, y_val_pred_prob, labels=intents)\n",
    "    val_acc = accuracy_score(y_val, y_val_pred)\n",
    "    return (train_loss, val_loss, train_acc, val_acc)\n",
    "\n",
    "# Possible values for the hyperparameter are in the range of 5 to 150 (by 50)\n",
    "hyp_param_vals = list(range(39,43,1)) # good values for n_estimators\n",
    "hyp_param_vals = [2,3] + list(range(5, 50, 10)) # good values for min_samples_split\n",
    "metrics = []\n",
    "\n",
    "if tune_model:\n",
    "    for hp in hyp_param_vals:\n",
    "        metrics.append(tuneModel(hp))"
   ]
  },
  {
   "cell_type": "markdown",
   "id": "6b7e30c4",
   "metadata": {
    "papermill": {
     "duration": 0.006701,
     "end_time": "2022-11-15T20:35:06.288051",
     "exception": false,
     "start_time": "2022-11-15T20:35:06.281350",
     "status": "completed"
    },
    "tags": []
   },
   "source": [
    "Plot the results of the model performance for each hyperparameter value we looked at"
   ]
  },
  {
   "cell_type": "code",
   "execution_count": 8,
   "id": "f340ddf2",
   "metadata": {
    "execution": {
     "iopub.execute_input": "2022-11-15T20:35:06.304728Z",
     "iopub.status.busy": "2022-11-15T20:35:06.303466Z",
     "iopub.status.idle": "2022-11-15T20:35:06.730138Z",
     "shell.execute_reply": "2022-11-15T20:35:06.729309Z"
    },
    "papermill": {
     "duration": 0.437336,
     "end_time": "2022-11-15T20:35:06.732274",
     "exception": false,
     "start_time": "2022-11-15T20:35:06.294938",
     "status": "completed"
    },
    "tags": []
   },
   "outputs": [
    {
     "data": {
      "image/png": "[encoded data removed]",
      "text/plain": [
       "<Figure size 1152x288 with 2 Axes>"
      ]
     },
     "metadata": {
      "needs_background": "light"
     },
     "output_type": "display_data"
    }
   ],
   "source": [
    "import matplotlib.pyplot as plt\n",
    "\n",
    "if tune_model:\n",
    "    fig, (ax1, ax2) = plt.subplots(1, 2, figsize=(16, 4))\n",
    "\n",
    "    ax1.set_xticks(hyp_param_vals)\n",
    "    ax1.set(xlabel=\"min_samples_split\", ylabel=\"loss (lower is better)\")\n",
    "    ax1.plot(hyp_param_vals, [metric[1] for metric in metrics], '--ro') # validation loss\n",
    "    ax1.plot(hyp_param_vals, [metric[0] for metric in metrics], '--bo') # training loss\n",
    "    ax1.legend([\"Validation Loss\", \"Train Loss\"], loc=1)\n",
    "\n",
    "    ax2.set_xticks(hyp_param_vals)\n",
    "    ax2.set(xlabel=\"min_samples_split\", ylabel=\"accuracy (higher is better)\")\n",
    "    ax2.plot(hyp_param_vals, [metric[3] for metric in metrics], '--ro') # validation accuracy\n",
    "    ax2.plot(hyp_param_vals, [metric[2] for metric in metrics], '--bo') # training accuracy\n",
    "    ax2.legend([\"Validation Accuracy\", \"Train Accuracy\"], loc=4)"
   ]
  },
  {
   "cell_type": "markdown",
   "id": "438a6903",
   "metadata": {
    "papermill": {
     "duration": 0.007022,
     "end_time": "2022-11-15T20:35:06.746622",
     "exception": false,
     "start_time": "2022-11-15T20:35:06.739600",
     "status": "completed"
    },
    "tags": []
   },
   "source": [
    "To be certain, let's look at the table of values and see which hyperparameter value has the lowest."
   ]
  },
  {
   "cell_type": "code",
   "execution_count": 9,
   "id": "4d4d6641",
   "metadata": {
    "execution": {
     "iopub.execute_input": "2022-11-15T20:35:06.763475Z",
     "iopub.status.busy": "2022-11-15T20:35:06.762845Z",
     "iopub.status.idle": "2022-11-15T20:35:06.770313Z",
     "shell.execute_reply": "2022-11-15T20:35:06.768710Z"
    },
    "papermill": {
     "duration": 0.019029,
     "end_time": "2022-11-15T20:35:06.772930",
     "exception": false,
     "start_time": "2022-11-15T20:35:06.753901",
     "status": "completed"
    },
    "tags": []
   },
   "outputs": [
    {
     "name": "stdout",
     "output_type": "stream",
     "text": [
      "[[ 2.    3.    5.   15.   25.   35.   45.  ]\n",
      " [ 9.02  9.3   8.88  7.72  6.67  6.06  5.86]\n",
      " [ 0.74  0.72  0.72  0.7   0.69  0.68  0.67]]\n"
     ]
    }
   ],
   "source": [
    "# a simple matrix with first row containing hyperparam values, second row containing validation loss, third row containing validation accuracy\n",
    "# (this could be presented in an even nicer format using a pandas dataframe if you like)\n",
    "if tune_model:\n",
    "    tuning_results = np.array([hyp_param_vals, [round(metric[1],2) for metric in metrics], [round(metric[3],2) for metric in metrics]])\n",
    "    print(tuning_results)"
   ]
  },
  {
   "cell_type": "code",
   "execution_count": 10,
   "id": "d1ac2190",
   "metadata": {
    "execution": {
     "iopub.execute_input": "2022-11-15T20:35:06.790773Z",
     "iopub.status.busy": "2022-11-15T20:35:06.790311Z",
     "iopub.status.idle": "2022-11-15T20:35:07.010345Z",
     "shell.execute_reply": "2022-11-15T20:35:07.009215Z"
    },
    "papermill": {
     "duration": 0.232223,
     "end_time": "2022-11-15T20:35:07.013017",
     "exception": false,
     "start_time": "2022-11-15T20:35:06.780794",
     "status": "completed"
    },
    "tags": []
   },
   "outputs": [
    {
     "data": {
      "text/plain": [
       "array(['smalltalk_agent_good', 'smalltalk_agent_clever',\n",
       "       'smalltalk_user_here', 'smalltalk_agent_crazy',\n",
       "       'smalltalk_user_likes_agent', 'smalltalk_user_needs_advice',\n",
       "       'smalltalk_agent_beautiful', 'smalltalk_confirmation_yes',\n",
       "       'smalltalk_user_here', 'smalltalk_agent_busy'], dtype=object)"
      ]
     },
     "execution_count": 10,
     "metadata": {},
     "output_type": "execute_result"
    }
   ],
   "source": [
    "# refit the model with the best hyperparameter value you found\n",
    "model = DecisionTreeClassifier(min_samples_split=3)\n",
    "model = model.fit(X_train, y_train)\n",
    "\n",
    "# this make predictions for the test set\n",
    "predictions_train = model.predict(X_train)\n",
    "predictions_test = model.predict(X_val)\n",
    "predictions_test[:10]"
   ]
  },
  {
   "cell_type": "markdown",
   "id": "054cb83b",
   "metadata": {
    "papermill": {
     "duration": 0.007414,
     "end_time": "2022-11-15T20:35:07.028119",
     "exception": false,
     "start_time": "2022-11-15T20:35:07.020705",
     "status": "completed"
    },
    "tags": []
   },
   "source": [
    "Now append the predictions to the `df_test` data frame as a new column and peek at some of those to see if the predictions look decent. "
   ]
  },
  {
   "cell_type": "code",
   "execution_count": 11,
   "id": "9524ab0d",
   "metadata": {
    "execution": {
     "iopub.execute_input": "2022-11-15T20:35:07.045389Z",
     "iopub.status.busy": "2022-11-15T20:35:07.044562Z",
     "iopub.status.idle": "2022-11-15T20:35:07.055169Z",
     "shell.execute_reply": "2022-11-15T20:35:07.053766Z"
    },
    "papermill": {
     "duration": 0.02226,
     "end_time": "2022-11-15T20:35:07.057987",
     "exception": false,
     "start_time": "2022-11-15T20:35:07.035727",
     "status": "completed"
    },
    "tags": []
   },
   "outputs": [
    {
     "name": "stdout",
     "output_type": "stream",
     "text": [
      "accuracy (on X_train): 0.9829\n",
      "accuracy (on X_val): 0.7467\n"
     ]
    }
   ],
   "source": [
    "print(f\"accuracy (on X_train): {accuracy_score(y_train, predictions_train):.4f}\")\n",
    "print(f\"accuracy (on X_val): {accuracy_score(y_val, predictions_test):.4f}\")"
   ]
  },
  {
   "cell_type": "markdown",
   "id": "58736fed",
   "metadata": {
    "papermill": {
     "duration": 0.007366,
     "end_time": "2022-11-15T20:35:07.074014",
     "exception": false,
     "start_time": "2022-11-15T20:35:07.066648",
     "status": "completed"
    },
    "tags": []
   },
   "source": [
    "# Model 2 (Gaussian Naive Bayes)"
   ]
  },
  {
   "cell_type": "code",
   "execution_count": 12,
   "id": "e4eab1d9",
   "metadata": {
    "execution": {
     "iopub.execute_input": "2022-11-15T20:35:07.091030Z",
     "iopub.status.busy": "2022-11-15T20:35:07.090597Z",
     "iopub.status.idle": "2022-11-15T20:35:08.022268Z",
     "shell.execute_reply": "2022-11-15T20:35:08.019920Z"
    },
    "papermill": {
     "duration": 0.943939,
     "end_time": "2022-11-15T20:35:08.025524",
     "exception": false,
     "start_time": "2022-11-15T20:35:07.081585",
     "status": "completed"
    },
    "tags": []
   },
   "outputs": [
    {
     "name": "stdout",
     "output_type": "stream",
     "text": [
      "accuracy (on X_train): 0.8688\n"
     ]
    }
   ],
   "source": [
    "from sklearn.naive_bayes import GaussianNB\n",
    "from sklearn.tree import DecisionTreeClassifier\n",
    "from sklearn.metrics import confusion_matrix, ConfusionMatrixDisplay, accuracy_score\n",
    "\n",
    "model = GaussianNB()\n",
    "model = model.fit(X_train, y_train)\n",
    "\n",
    "predictions_train = model.predict(X_train)\n",
    "\n",
    "print(f\"accuracy (on X_train): {accuracy_score(y_train, predictions_train):.4f}\")"
   ]
  },
  {
   "cell_type": "code",
   "execution_count": 13,
   "id": "a0b8afe8",
   "metadata": {
    "execution": {
     "iopub.execute_input": "2022-11-15T20:35:08.046485Z",
     "iopub.status.busy": "2022-11-15T20:35:08.046071Z",
     "iopub.status.idle": "2022-11-15T20:35:08.136129Z",
     "shell.execute_reply": "2022-11-15T20:35:08.134748Z"
    },
    "papermill": {
     "duration": 0.104855,
     "end_time": "2022-11-15T20:35:08.139081",
     "exception": false,
     "start_time": "2022-11-15T20:35:08.034226",
     "status": "completed"
    },
    "tags": []
   },
   "outputs": [
    {
     "name": "stdout",
     "output_type": "stream",
     "text": [
      "accuracy (on X_train): 0.6658\n"
     ]
    }
   ],
   "source": [
    "predictions_val = model.predict(X_val)\n",
    "print(f\"accuracy (on X_train): {accuracy_score(y_val, predictions_val):.4f}\")"
   ]
  },
  {
   "cell_type": "code",
   "execution_count": 14,
   "id": "127959e3",
   "metadata": {
    "execution": {
     "iopub.execute_input": "2022-11-15T20:35:08.162413Z",
     "iopub.status.busy": "2022-11-15T20:35:08.161556Z",
     "iopub.status.idle": "2022-11-15T20:35:22.461359Z",
     "shell.execute_reply": "2022-11-15T20:35:22.460098Z"
    },
    "papermill": {
     "duration": 14.312416,
     "end_time": "2022-11-15T20:35:22.464539",
     "exception": false,
     "start_time": "2022-11-15T20:35:08.152123",
     "status": "completed"
    },
    "tags": []
   },
   "outputs": [],
   "source": [
    "from sklearn.metrics import log_loss\n",
    "\n",
    "tune_model = True # can change this to False once you've chosen a hyperparam value and before Saving your notebook with Kaggle\n",
    "intents = df['Intent'].unique()\n",
    "# A function to create and fit a RF with a specific number of trees\n",
    "def tuneModel(hyperparam_value):\n",
    "    rf_model = GaussianNB(var_smoothing=hyperparam_value)\n",
    "    rf_model.fit(X_train, y_train)\n",
    "    y_train_pred_prob = rf_model.predict_proba(X_train)\n",
    "    y_train_pred = rf_model.predict(X_train)\n",
    "    y_val_pred_prob = rf_model.predict_proba(X_val)\n",
    "    y_val_pred = rf_model.predict(X_val)\n",
    "    train_loss = log_loss(y_train, y_train_pred_prob, labels=intents)\n",
    "    train_acc = accuracy_score(y_train, y_train_pred)\n",
    "    val_loss = log_loss(y_val, y_val_pred_prob, labels=intents)\n",
    "    val_acc = accuracy_score(y_val, y_val_pred)\n",
    "    return (train_loss, val_loss, train_acc, val_acc)\n",
    "\n",
    "# Possible values for the hyperparameter are in the range of 5 to 150 (by 50)\n",
    "hyp_param_vals = list(range(39,43,1)) # good values for n_estimators\n",
    "hyp_param_vals = [2,3] + list(range(5, 50, 10)) # good values for min_samples_split\n",
    "metrics = []\n",
    "\n",
    "if tune_model:\n",
    "    for hp in hyp_param_vals:\n",
    "        metrics.append(tuneModel(hp))"
   ]
  },
  {
   "cell_type": "code",
   "execution_count": 15,
   "id": "14369e21",
   "metadata": {
    "execution": {
     "iopub.execute_input": "2022-11-15T20:35:22.483113Z",
     "iopub.status.busy": "2022-11-15T20:35:22.482689Z",
     "iopub.status.idle": "2022-11-15T20:35:22.896844Z",
     "shell.execute_reply": "2022-11-15T20:35:22.895856Z"
    },
    "papermill": {
     "duration": 0.426618,
     "end_time": "2022-11-15T20:35:22.899452",
     "exception": false,
     "start_time": "2022-11-15T20:35:22.472834",
     "status": "completed"
    },
    "tags": []
   },
   "outputs": [
    {
     "data": {
      "image/png": "[encoded data removed]",
      "text/plain": [
       "<Figure size 1152x288 with 2 Axes>"
      ]
     },
     "metadata": {
      "needs_background": "light"
     },
     "output_type": "display_data"
    }
   ],
   "source": [
    "import matplotlib.pyplot as plt\n",
    "\n",
    "if tune_model:\n",
    "    fig, (ax1, ax2) = plt.subplots(1, 2, figsize=(16, 4))\n",
    "\n",
    "    ax1.set_xticks(hyp_param_vals)\n",
    "    ax1.set(xlabel=\"var_smoothing\", ylabel=\"loss (lower is better)\")\n",
    "    ax1.plot(hyp_param_vals, [metric[1] for metric in metrics], '--ro') # validation loss\n",
    "    ax1.plot(hyp_param_vals, [metric[0] for metric in metrics], '--bo') # training loss\n",
    "    ax1.legend([\"Validation Loss\", \"Train Loss\"], loc=1)\n",
    "\n",
    "    ax2.set_xticks(hyp_param_vals)\n",
    "    ax2.set(xlabel=\"var_smoothing\", ylabel=\"accuracy (higher is better)\")\n",
    "    ax2.plot(hyp_param_vals, [metric[3] for metric in metrics], '--ro') # validation accuracy\n",
    "    ax2.plot(hyp_param_vals, [metric[2] for metric in metrics], '--bo') # training accuracy\n",
    "    ax2.legend([\"Validation Accuracy\", \"Train Accuracy\"], loc=4)"
   ]
  },
  {
   "cell_type": "code",
   "execution_count": 16,
   "id": "8cf2b751",
   "metadata": {
    "execution": {
     "iopub.execute_input": "2022-11-15T20:35:22.919428Z",
     "iopub.status.busy": "2022-11-15T20:35:22.919043Z",
     "iopub.status.idle": "2022-11-15T20:35:24.017009Z",
     "shell.execute_reply": "2022-11-15T20:35:24.015827Z"
    },
    "papermill": {
     "duration": 1.11072,
     "end_time": "2022-11-15T20:35:24.019463",
     "exception": false,
     "start_time": "2022-11-15T20:35:22.908743",
     "status": "completed"
    },
    "tags": []
   },
   "outputs": [
    {
     "data": {
      "text/plain": [
       "array(['smalltalk_agent_bad', 'smalltalk_agent_clever',\n",
       "       'smalltalk_user_here', 'smalltalk_agent_crazy',\n",
       "       'smalltalk_user_likes_agent', 'smalltalk_agent_acquaintance',\n",
       "       'smalltalk_user_looks_like', 'smalltalk_agent_my_friend',\n",
       "       'smalltalk_user_here', 'smalltalk_agent_busy'], dtype='<U39')"
      ]
     },
     "execution_count": 16,
     "metadata": {},
     "output_type": "execute_result"
    }
   ],
   "source": [
    "# refit the model with the best hyperparameter value you found\n",
    "model = GaussianNB(var_smoothing=5)\n",
    "model = model.fit(X_train, y_train)\n",
    "\n",
    "# this make predictions for the test set\n",
    "predictions_train = model.predict(X_train)\n",
    "predictions_test = model.predict(X_val)\n",
    "predictions_test[:10]"
   ]
  },
  {
   "cell_type": "code",
   "execution_count": 17,
   "id": "b6460e37",
   "metadata": {
    "execution": {
     "iopub.execute_input": "2022-11-15T20:35:24.039169Z",
     "iopub.status.busy": "2022-11-15T20:35:24.038764Z",
     "iopub.status.idle": "2022-11-15T20:35:24.048909Z",
     "shell.execute_reply": "2022-11-15T20:35:24.047574Z"
    },
    "papermill": {
     "duration": 0.023364,
     "end_time": "2022-11-15T20:35:24.051878",
     "exception": false,
     "start_time": "2022-11-15T20:35:24.028514",
     "status": "completed"
    },
    "tags": []
   },
   "outputs": [
    {
     "name": "stdout",
     "output_type": "stream",
     "text": [
      "accuracy (on X_train): 0.8965\n",
      "accuracy (on X_val): 0.7546\n"
     ]
    }
   ],
   "source": [
    "print(f\"accuracy (on X_train): {accuracy_score(y_train, predictions_train):.4f}\")\n",
    "print(f\"accuracy (on X_val): {accuracy_score(y_val, predictions_test):.4f}\")"
   ]
  }
 ],
 "metadata": {
  "kernelspec": {
   "display_name": "Python 3",
   "language": "python",
   "name": "python3"
  },
  "language_info": {
   "codemirror_mode": {
    "name": "ipython",
    "version": 3
   },
   "file_extension": ".py",
   "mimetype": "text/x-python",
   "name": "python",
   "nbconvert_exporter": "python",
   "pygments_lexer": "ipython3",
   "version": "3.7.12"
  },
  "papermill": {
   "default_parameters": {},
   "duration": 30.774945,
   "end_time": "2022-11-15T20:35:24.884238",
   "environment_variables": {},
   "exception": null,
   "input_path": "__notebook__.ipynb",
   "output_path": "__notebook__.ipynb",
   "parameters": {},
   "start_time": "2022-11-15T20:34:54.109293",
   "version": "2.3.4"
  }
 },
 "nbformat": 4,
 "nbformat_minor": 5
}
