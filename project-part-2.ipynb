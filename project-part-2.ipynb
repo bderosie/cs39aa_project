{
 "cells": [
  {
   "cell_type": "markdown",
   "id": "c87b2406",
   "metadata": {
    "papermill": {
     "duration": 0.007202,
     "end_time": "2022-11-18T23:51:28.197466",
     "exception": false,
     "start_time": "2022-11-18T23:51:28.190264",
     "status": "completed"
    },
    "tags": []
   },
   "source": [
    "This first cell is added by Kaggle by default and contains some useful info/setup to be able to open the data files for the project. "
   ]
  },
  {
   "cell_type": "code",
   "execution_count": 1,
   "id": "c1314be7",
   "metadata": {
    "_cell_guid": "b1076dfc-b9ad-4769-8c92-a6c4dae69d19",
    "_uuid": "8f2839f25d086af736a60e9eeb907d3b93b6e0e5",
    "execution": {
     "iopub.execute_input": "2022-11-18T23:51:28.211304Z",
     "iopub.status.busy": "2022-11-18T23:51:28.210476Z",
     "iopub.status.idle": "2022-11-18T23:51:28.227042Z",
     "shell.execute_reply": "2022-11-18T23:51:28.226142Z"
    },
    "papermill": {
     "duration": 0.025866,
     "end_time": "2022-11-18T23:51:28.229341",
     "exception": false,
     "start_time": "2022-11-18T23:51:28.203475",
     "status": "completed"
    },
    "tags": []
   },
   "outputs": [
    {
     "name": "stdout",
     "output_type": "stream",
     "text": [
      "/kaggle/input/small-talk-intent-classification-data/Small_talk_Intent.csv\n"
     ]
    }
   ],
   "source": [
    "# This Python 3 environment comes with many helpful analytics libraries installed\n",
    "# It is defined by the kaggle/python Docker image: https://github.com/kaggle/docker-python\n",
    "# For example, here's several helpful packages to load\n",
    "\n",
    "import numpy as np # linear algebra\n",
    "import pandas as pd # data processing, CSV file I/O (e.g. pd.read_csv)\n",
    "\n",
    "# Input data files are available in the read-only \"../input/\" directory\n",
    "# For example, running this (by clicking run or pressing Shift+Enter) will list all files under the input directory\n",
    "\n",
    "import os\n",
    "for dirname, _, filenames in os.walk('/kaggle/input'):\n",
    "    for filename in filenames:\n",
    "        print(os.path.join(dirname, filename))\n",
    "\n",
    "# You can write up to 20GB to the current directory (/kaggle/working/) that gets preserved as output when you create a version using \"Save & Run All\" \n",
    "# You can also write temporary files to /kaggle/temp/, but they won't be saved outside of the current session"
   ]
  },
  {
   "cell_type": "markdown",
   "id": "fca28ec7",
   "metadata": {
    "papermill": {
     "duration": 0.006059,
     "end_time": "2022-11-18T23:51:28.242547",
     "exception": false,
     "start_time": "2022-11-18T23:51:28.236488",
     "status": "completed"
    },
    "tags": []
   },
   "source": [
    "_Now, we read in the data from the csv file that data is held in._"
   ]
  },
  {
   "cell_type": "code",
   "execution_count": 2,
   "id": "fe91b7e0",
   "metadata": {
    "execution": {
     "iopub.execute_input": "2022-11-18T23:51:28.255859Z",
     "iopub.status.busy": "2022-11-18T23:51:28.255253Z",
     "iopub.status.idle": "2022-11-18T23:51:28.299193Z",
     "shell.execute_reply": "2022-11-18T23:51:28.298176Z"
    },
    "papermill": {
     "duration": 0.052795,
     "end_time": "2022-11-18T23:51:28.301191",
     "exception": false,
     "start_time": "2022-11-18T23:51:28.248396",
     "status": "completed"
    },
    "tags": []
   },
   "outputs": [
    {
     "data": {
      "text/html": [
       "<div>\n",
       "<style scoped>\n",
       "    .dataframe tbody tr th:only-of-type {\n",
       "        vertical-align: middle;\n",
       "    }\n",
       "\n",
       "    .dataframe tbody tr th {\n",
       "        vertical-align: top;\n",
       "    }\n",
       "\n",
       "    .dataframe thead th {\n",
       "        text-align: right;\n",
       "    }\n",
       "</style>\n",
       "<table border=\"1\" class=\"dataframe\">\n",
       "  <thead>\n",
       "    <tr style=\"text-align: right;\">\n",
       "      <th></th>\n",
       "      <th>Utterances</th>\n",
       "      <th>Intent</th>\n",
       "    </tr>\n",
       "  </thead>\n",
       "  <tbody>\n",
       "    <tr>\n",
       "      <th>0</th>\n",
       "      <td>who are you?</td>\n",
       "      <td>smalltalk_agent_acquaintance</td>\n",
       "    </tr>\n",
       "    <tr>\n",
       "      <th>1</th>\n",
       "      <td>all about you</td>\n",
       "      <td>smalltalk_agent_acquaintance</td>\n",
       "    </tr>\n",
       "    <tr>\n",
       "      <th>2</th>\n",
       "      <td>what is your personality</td>\n",
       "      <td>smalltalk_agent_acquaintance</td>\n",
       "    </tr>\n",
       "    <tr>\n",
       "      <th>3</th>\n",
       "      <td>define yourself</td>\n",
       "      <td>smalltalk_agent_acquaintance</td>\n",
       "    </tr>\n",
       "    <tr>\n",
       "      <th>4</th>\n",
       "      <td>what are you</td>\n",
       "      <td>smalltalk_agent_acquaintance</td>\n",
       "    </tr>\n",
       "  </tbody>\n",
       "</table>\n",
       "</div>"
      ],
      "text/plain": [
       "                 Utterances                        Intent\n",
       "0              who are you?  smalltalk_agent_acquaintance\n",
       "1             all about you  smalltalk_agent_acquaintance\n",
       "2  what is your personality  smalltalk_agent_acquaintance\n",
       "3           define yourself  smalltalk_agent_acquaintance\n",
       "4              what are you  smalltalk_agent_acquaintance"
      ]
     },
     "execution_count": 2,
     "metadata": {},
     "output_type": "execute_result"
    }
   ],
   "source": [
    "input_data_path = '../input/small-talk-intent-classification-data/Small_talk_Intent.csv'\n",
    "df = pd.read_csv(input_data_path)\n",
    "df.head()\n"
   ]
  },
  {
   "cell_type": "markdown",
   "id": "8e2196d9",
   "metadata": {
    "papermill": {
     "duration": 0.006209,
     "end_time": "2022-11-18T23:51:28.313409",
     "exception": false,
     "start_time": "2022-11-18T23:51:28.307200",
     "status": "completed"
    },
    "tags": []
   },
   "source": [
    "We split the data here to prevent data leakages. I choose a holdout of 15% percentage with the parameters `test_size` for validation data for testing the model. "
   ]
  },
  {
   "cell_type": "code",
   "execution_count": 3,
   "id": "7f52d79f",
   "metadata": {
    "execution": {
     "iopub.execute_input": "2022-11-18T23:51:28.327308Z",
     "iopub.status.busy": "2022-11-18T23:51:28.326402Z",
     "iopub.status.idle": "2022-11-18T23:51:30.042569Z",
     "shell.execute_reply": "2022-11-18T23:51:30.041576Z"
    },
    "papermill": {
     "duration": 1.725429,
     "end_time": "2022-11-18T23:51:30.044782",
     "exception": false,
     "start_time": "2022-11-18T23:51:28.319353",
     "status": "completed"
    },
    "tags": []
   },
   "outputs": [
    {
     "data": {
      "text/plain": [
       "1801       have you been ready?     smalltalk_agent_ready\n",
       "1610    are you still working on it?     smalltalk_age...\n",
       "976          that is incorrect     smalltalk_dialog_wrong\n",
       "1264    it's my birthday today     smalltalk_user_has_...\n",
       "1765    do you want to be my best friend?     smalltal...\n",
       "dtype: object"
      ]
     },
     "execution_count": 3,
     "metadata": {},
     "output_type": "execute_result"
    }
   ],
   "source": [
    "# split data into train and validation sets: df_train and df_val\n",
    "from sklearn.model_selection import train_test_split\n",
    "\n",
    "X = df['Utterances'].copy()\n",
    "y = df['Intent'].copy()\n",
    "\n",
    "X_train_raw, X_val_raw, y_train, y_val = train_test_split(X, y, test_size=0.15, random_state=42)\n",
    "X_train_raw.head() + \"     \" + y_train.head()"
   ]
  },
  {
   "cell_type": "markdown",
   "id": "8ea61858",
   "metadata": {
    "papermill": {
     "duration": 0.006032,
     "end_time": "2022-11-18T23:51:30.057052",
     "exception": false,
     "start_time": "2022-11-18T23:51:30.051020",
     "status": "completed"
    },
    "tags": []
   },
   "source": [
    "Here we are vectorizing the data. We are using the TfidfVectorizer() which vectorizies by term-frequency inverse document frequency. In this implementation, we are not removing stop words because the observation are so small. "
   ]
  },
  {
   "cell_type": "code",
   "execution_count": 4,
   "id": "098d55ff",
   "metadata": {
    "execution": {
     "iopub.execute_input": "2022-11-18T23:51:30.072105Z",
     "iopub.status.busy": "2022-11-18T23:51:30.071087Z",
     "iopub.status.idle": "2022-11-18T23:51:30.139766Z",
     "shell.execute_reply": "2022-11-18T23:51:30.137381Z"
    },
    "papermill": {
     "duration": 0.079648,
     "end_time": "2022-11-18T23:51:30.142751",
     "exception": false,
     "start_time": "2022-11-18T23:51:30.063103",
     "status": "completed"
    },
    "tags": []
   },
   "outputs": [
    {
     "name": "stdout",
     "output_type": "stream",
     "text": [
      "X_train.shape = (2164, 638)\n",
      "X_val.shape = (383, 638)\n"
     ]
    },
    {
     "data": {
      "text/plain": [
       "numpy.ndarray"
      ]
     },
     "execution_count": 4,
     "metadata": {},
     "output_type": "execute_result"
    }
   ],
   "source": [
    "from sklearn.feature_extraction.text import TfidfVectorizer\n",
    "tfidf_vectorizer = TfidfVectorizer()\n",
    "X_train = tfidf_vectorizer.fit_transform(X_train_raw).toarray()\n",
    "\n",
    "print(f\"X_train.shape = {X_train.shape}\")\n",
    "X_val = tfidf_vectorizer.transform(X_val_raw).toarray()\n",
    "print(f\"X_val.shape = {X_val.shape}\")\n",
    "type(X_val)"
   ]
  },
  {
   "cell_type": "markdown",
   "id": "5624dc67",
   "metadata": {
    "papermill": {
     "duration": 0.00649,
     "end_time": "2022-11-18T23:51:30.155855",
     "exception": false,
     "start_time": "2022-11-18T23:51:30.149365",
     "status": "completed"
    },
    "tags": []
   },
   "source": [
    "# Model 1 (Decision Tree Classifier)\n",
    "\n",
    "_The first model I wanted to test was the Decision Tree Classifier. When training, we can see that it fits the training data very well. 99.4% accuracy might be too good of a fit so it will be interesting to see how well it fits the validation data._"
   ]
  },
  {
   "cell_type": "code",
   "execution_count": 5,
   "id": "06b9fec5",
   "metadata": {
    "execution": {
     "iopub.execute_input": "2022-11-18T23:51:30.169780Z",
     "iopub.status.busy": "2022-11-18T23:51:30.169087Z",
     "iopub.status.idle": "2022-11-18T23:51:30.623386Z",
     "shell.execute_reply": "2022-11-18T23:51:30.622233Z"
    },
    "papermill": {
     "duration": 0.464195,
     "end_time": "2022-11-18T23:51:30.626309",
     "exception": false,
     "start_time": "2022-11-18T23:51:30.162114",
     "status": "completed"
    },
    "tags": []
   },
   "outputs": [
    {
     "name": "stdout",
     "output_type": "stream",
     "text": [
      "accuracy (on X_train): 0.9940\n"
     ]
    }
   ],
   "source": [
    "from sklearn.tree import DecisionTreeClassifier\n",
    "from sklearn.metrics import confusion_matrix, ConfusionMatrixDisplay, accuracy_score\n",
    "\n",
    "model = DecisionTreeClassifier()\n",
    "model = model.fit(X_train, y_train)\n",
    "\n",
    "predictions_train = model.predict(X_train)\n",
    "\n",
    "print(f\"accuracy (on X_train): {accuracy_score(y_train, predictions_train):.4f}\")"
   ]
  },
  {
   "cell_type": "code",
   "execution_count": 6,
   "id": "49999a50",
   "metadata": {
    "execution": {
     "iopub.execute_input": "2022-11-18T23:51:30.640541Z",
     "iopub.status.busy": "2022-11-18T23:51:30.640258Z",
     "iopub.status.idle": "2022-11-18T23:51:30.648487Z",
     "shell.execute_reply": "2022-11-18T23:51:30.647265Z"
    },
    "papermill": {
     "duration": 0.017715,
     "end_time": "2022-11-18T23:51:30.650575",
     "exception": false,
     "start_time": "2022-11-18T23:51:30.632860",
     "status": "completed"
    },
    "tags": []
   },
   "outputs": [
    {
     "name": "stdout",
     "output_type": "stream",
     "text": [
      "accuracy (on X_train): 0.7050\n"
     ]
    }
   ],
   "source": [
    "predictions_val = model.predict(X_val)\n",
    "print(f\"accuracy (on X_train): {accuracy_score(y_val, predictions_val):.4f}\")\n"
   ]
  },
  {
   "cell_type": "markdown",
   "id": "d13841d9",
   "metadata": {
    "papermill": {
     "duration": 0.006607,
     "end_time": "2022-11-18T23:51:30.663826",
     "exception": false,
     "start_time": "2022-11-18T23:51:30.657219",
     "status": "completed"
    },
    "tags": []
   },
   "source": [
    "71.80% accuracy is a pretty good fit for the validation data. Let's see if we can improve that number by tuning a hyperparameter. For this model, we will tune the min_samples_split."
   ]
  },
  {
   "cell_type": "code",
   "execution_count": 7,
   "id": "55208fbf",
   "metadata": {
    "execution": {
     "iopub.execute_input": "2022-11-18T23:51:30.677763Z",
     "iopub.status.busy": "2022-11-18T23:51:30.677476Z",
     "iopub.status.idle": "2022-11-18T23:51:32.117332Z",
     "shell.execute_reply": "2022-11-18T23:51:32.116311Z"
    },
    "papermill": {
     "duration": 1.449703,
     "end_time": "2022-11-18T23:51:32.120090",
     "exception": false,
     "start_time": "2022-11-18T23:51:30.670387",
     "status": "completed"
    },
    "tags": []
   },
   "outputs": [],
   "source": [
    "from sklearn.metrics import log_loss\n",
    "\n",
    "tune_model = True # can change this to False once you've chosen a hyperparam value and before Saving your notebook with Kaggle\n",
    "intents = df['Intent'].unique()\n",
    "# A function to create and fit a RF with a specific number of trees\n",
    "def tuneModel(hyperparam_value):\n",
    "    rf_model = DecisionTreeClassifier(min_samples_split=hyperparam_value)\n",
    "    rf_model.fit(X_train, y_train)\n",
    "    y_train_pred_prob = rf_model.predict_proba(X_train)\n",
    "    y_train_pred = rf_model.predict(X_train)\n",
    "    y_val_pred_prob = rf_model.predict_proba(X_val)\n",
    "    y_val_pred = rf_model.predict(X_val)\n",
    "    train_loss = log_loss(y_train, y_train_pred_prob, labels=intents)\n",
    "    train_acc = accuracy_score(y_train, y_train_pred)\n",
    "    val_loss = log_loss(y_val, y_val_pred_prob, labels=intents)\n",
    "    val_acc = accuracy_score(y_val, y_val_pred)\n",
    "    return (train_loss, val_loss, train_acc, val_acc)\n",
    "\n",
    "# Possible values for the hyperparameter are in the range of 5 to 150 (by 50)\n",
    "hyp_param_vals = list(range(39,43,1)) # good values for n_estimators\n",
    "hyp_param_vals = [2,3] + list(range(5, 50, 10)) # good values for min_samples_split\n",
    "metrics = []\n",
    "\n",
    "if tune_model:\n",
    "    for hp in hyp_param_vals:\n",
    "        metrics.append(tuneModel(hp))"
   ]
  },
  {
   "cell_type": "markdown",
   "id": "a7baaf3f",
   "metadata": {
    "papermill": {
     "duration": 0.006554,
     "end_time": "2022-11-18T23:51:32.133494",
     "exception": false,
     "start_time": "2022-11-18T23:51:32.126940",
     "status": "completed"
    },
    "tags": []
   },
   "source": [
    "Plot the results of the Decision Tree model performance for the hyperparameter value we looked at which was min_samples_split. Below, you will see that the validation and training data are rather far apart for my liking. It might suggest that there may be a better model to fit the data that does not overfit the training data."
   ]
  },
  {
   "cell_type": "code",
   "execution_count": 8,
   "id": "f8d2062c",
   "metadata": {
    "execution": {
     "iopub.execute_input": "2022-11-18T23:51:32.148156Z",
     "iopub.status.busy": "2022-11-18T23:51:32.147492Z",
     "iopub.status.idle": "2022-11-18T23:51:32.548533Z",
     "shell.execute_reply": "2022-11-18T23:51:32.547697Z"
    },
    "papermill": {
     "duration": 0.410672,
     "end_time": "2022-11-18T23:51:32.550755",
     "exception": false,
     "start_time": "2022-11-18T23:51:32.140083",
     "status": "completed"
    },
    "tags": []
   },
   "outputs": [
    {
     "data": {
      "image/png": "[encoded data removed]",
      "text/plain": [
       "<Figure size 1152x288 with 2 Axes>"
      ]
     },
     "metadata": {
      "needs_background": "light"
     },
     "output_type": "display_data"
    }
   ],
   "source": [
    "import matplotlib.pyplot as plt\n",
    "\n",
    "if tune_model:\n",
    "    fig, (ax1, ax2) = plt.subplots(1, 2, figsize=(16, 4))\n",
    "\n",
    "    ax1.set_xticks(hyp_param_vals)\n",
    "    ax1.set(xlabel=\"min_samples_split\", ylabel=\"loss (lower is better)\")\n",
    "    ax1.plot(hyp_param_vals, [metric[1] for metric in metrics], '--ro') # validation loss\n",
    "    ax1.plot(hyp_param_vals, [metric[0] for metric in metrics], '--bo') # training loss\n",
    "    ax1.legend([\"Validation Loss\", \"Train Loss\"], loc=1)\n",
    "\n",
    "    ax2.set_xticks(hyp_param_vals)\n",
    "    ax2.set(xlabel=\"min_samples_split\", ylabel=\"accuracy (higher is better)\")\n",
    "    ax2.plot(hyp_param_vals, [metric[3] for metric in metrics], '--ro') # validation accuracy\n",
    "    ax2.plot(hyp_param_vals, [metric[2] for metric in metrics], '--bo') # training accuracy\n",
    "    ax2.legend([\"Validation Accuracy\", \"Train Accuracy\"], loc=4)"
   ]
  },
  {
   "cell_type": "markdown",
   "id": "b1fe86b5",
   "metadata": {
    "papermill": {
     "duration": 0.006614,
     "end_time": "2022-11-18T23:51:32.564321",
     "exception": false,
     "start_time": "2022-11-18T23:51:32.557707",
     "status": "completed"
    },
    "tags": []
   },
   "source": [
    "To be certain, let's look at the table of values and see which hyperparameter value has the lowest."
   ]
  },
  {
   "cell_type": "code",
   "execution_count": 9,
   "id": "63c13880",
   "metadata": {
    "execution": {
     "iopub.execute_input": "2022-11-18T23:51:32.578726Z",
     "iopub.status.busy": "2022-11-18T23:51:32.578408Z",
     "iopub.status.idle": "2022-11-18T23:51:32.585210Z",
     "shell.execute_reply": "2022-11-18T23:51:32.584096Z"
    },
    "papermill": {
     "duration": 0.018387,
     "end_time": "2022-11-18T23:51:32.589277",
     "exception": false,
     "start_time": "2022-11-18T23:51:32.570890",
     "status": "completed"
    },
    "tags": []
   },
   "outputs": [
    {
     "name": "stdout",
     "output_type": "stream",
     "text": [
      "[[ 2.    3.    5.   15.   25.   35.   45.  ]\n",
      " [ 9.47  9.3   9.06  7.44  6.49  6.26  5.86]\n",
      " [ 0.72  0.72  0.71  0.71  0.69  0.67  0.67]]\n"
     ]
    }
   ],
   "source": [
    "# a simple matrix with first row containing hyperparam values, second row containing validation loss, third row containing validation accuracy\n",
    "# (this could be presented in an even nicer format using a pandas dataframe if you like)\n",
    "if tune_model:\n",
    "    tuning_results = np.array([hyp_param_vals, [round(metric[1],2) for metric in metrics], [round(metric[3],2) for metric in metrics]])\n",
    "    print(tuning_results)"
   ]
  },
  {
   "cell_type": "markdown",
   "id": "a620cb97",
   "metadata": {
    "papermill": {
     "duration": 0.007178,
     "end_time": "2022-11-18T23:51:32.604505",
     "exception": false,
     "start_time": "2022-11-18T23:51:32.597327",
     "status": "completed"
    },
    "tags": []
   },
   "source": [
    "After brief analysis of the graphs plotted and the data displayed, we can see that our best choice for min_samples_split was to choose a lower value. For our new value, we will use 2 as the min_samples_split. Also displayed below will be our first couple of predictions."
   ]
  },
  {
   "cell_type": "code",
   "execution_count": 10,
   "id": "56c1fdb3",
   "metadata": {
    "execution": {
     "iopub.execute_input": "2022-11-18T23:51:32.620185Z",
     "iopub.status.busy": "2022-11-18T23:51:32.619369Z",
     "iopub.status.idle": "2022-11-18T23:51:32.824733Z",
     "shell.execute_reply": "2022-11-18T23:51:32.823644Z"
    },
    "papermill": {
     "duration": 0.215313,
     "end_time": "2022-11-18T23:51:32.826951",
     "exception": false,
     "start_time": "2022-11-18T23:51:32.611638",
     "status": "completed"
    },
    "tags": []
   },
   "outputs": [
    {
     "data": {
      "text/plain": [
       "array(['smalltalk_agent_good', 'smalltalk_agent_clever',\n",
       "       'smalltalk_user_here', 'smalltalk_agent_crazy',\n",
       "       'smalltalk_user_likes_agent', 'smalltalk_user_needs_advice',\n",
       "       'smalltalk_agent_beautiful', 'smalltalk_confirmation_yes',\n",
       "       'smalltalk_user_here', 'smalltalk_agent_busy'], dtype=object)"
      ]
     },
     "execution_count": 10,
     "metadata": {},
     "output_type": "execute_result"
    }
   ],
   "source": [
    "# refit the model with the best hyperparameter value you found\n",
    "model = DecisionTreeClassifier(min_samples_split=2)\n",
    "model = model.fit(X_train, y_train)\n",
    "\n",
    "# this make predictions for the test set\n",
    "predictions_train = model.predict(X_train)\n",
    "predictions_test = model.predict(X_val)\n",
    "predictions_test[:10]"
   ]
  },
  {
   "cell_type": "markdown",
   "id": "74a06ece",
   "metadata": {
    "papermill": {
     "duration": 0.007176,
     "end_time": "2022-11-18T23:51:32.841693",
     "exception": false,
     "start_time": "2022-11-18T23:51:32.834517",
     "status": "completed"
    },
    "tags": []
   },
   "source": [
    "Let's do one last test of the accuracy. After running the accuracy test we can see marginal improvement as our validation accuracy moved from 71.8% to 73.11%. This move is small but does show some improvement from our tuning."
   ]
  },
  {
   "cell_type": "code",
   "execution_count": 11,
   "id": "fd40f5e1",
   "metadata": {
    "execution": {
     "iopub.execute_input": "2022-11-18T23:51:32.857834Z",
     "iopub.status.busy": "2022-11-18T23:51:32.856827Z",
     "iopub.status.idle": "2022-11-18T23:51:32.866062Z",
     "shell.execute_reply": "2022-11-18T23:51:32.864806Z"
    },
    "papermill": {
     "duration": 0.019663,
     "end_time": "2022-11-18T23:51:32.868605",
     "exception": false,
     "start_time": "2022-11-18T23:51:32.848942",
     "status": "completed"
    },
    "tags": []
   },
   "outputs": [
    {
     "name": "stdout",
     "output_type": "stream",
     "text": [
      "accuracy (on X_train): 0.9940\n",
      "accuracy (on X_val): 0.7389\n"
     ]
    }
   ],
   "source": [
    "print(f\"accuracy (on X_train): {accuracy_score(y_train, predictions_train):.4f}\")\n",
    "print(f\"accuracy (on X_val): {accuracy_score(y_val, predictions_test):.4f}\")"
   ]
  },
  {
   "cell_type": "markdown",
   "id": "dde82da3",
   "metadata": {
    "papermill": {
     "duration": 0.006769,
     "end_time": "2022-11-18T23:51:32.882722",
     "exception": false,
     "start_time": "2022-11-18T23:51:32.875953",
     "status": "completed"
    },
    "tags": []
   },
   "source": [
    "# Model 2 (Gaussian Naive Bayes)\n",
    "\n",
    "_Since the first model seemed to overfit the data a little bit, I wanted to test a second model. The model I chose for this second run was Gaussian Naive Bayes. Below we import the model and train on the same training data that we did before. On intially testing, we can see that we get a significantly lower. Our intially training accuracy was 86.88% which is 12.52% lower than the Decision Tree model._ "
   ]
  },
  {
   "cell_type": "code",
   "execution_count": 12,
   "id": "ac4e69c2",
   "metadata": {
    "execution": {
     "iopub.execute_input": "2022-11-18T23:51:32.898514Z",
     "iopub.status.busy": "2022-11-18T23:51:32.897608Z",
     "iopub.status.idle": "2022-11-18T23:51:33.617240Z",
     "shell.execute_reply": "2022-11-18T23:51:33.615174Z"
    },
    "papermill": {
     "duration": 0.731756,
     "end_time": "2022-11-18T23:51:33.621302",
     "exception": false,
     "start_time": "2022-11-18T23:51:32.889546",
     "status": "completed"
    },
    "tags": []
   },
   "outputs": [
    {
     "name": "stdout",
     "output_type": "stream",
     "text": [
      "accuracy (on X_train): 0.8688\n"
     ]
    }
   ],
   "source": [
    "from sklearn.naive_bayes import GaussianNB\n",
    "from sklearn.tree import DecisionTreeClassifier\n",
    "from sklearn.metrics import confusion_matrix, ConfusionMatrixDisplay, accuracy_score\n",
    "\n",
    "model = GaussianNB()\n",
    "model = model.fit(X_train, y_train)\n",
    "\n",
    "predictions_train = model.predict(X_train)\n",
    "\n",
    "print(f\"accuracy (on X_train): {accuracy_score(y_train, predictions_train):.4f}\")"
   ]
  },
  {
   "cell_type": "markdown",
   "id": "b33ff335",
   "metadata": {
    "papermill": {
     "duration": 0.007473,
     "end_time": "2022-11-18T23:51:33.637939",
     "exception": false,
     "start_time": "2022-11-18T23:51:33.630466",
     "status": "completed"
    },
    "tags": []
   },
   "source": [
    "Our first run through the validation data was also significantly lower. 66.58% accuracy is also far lower than its Decision tree counterpart. "
   ]
  },
  {
   "cell_type": "code",
   "execution_count": 13,
   "id": "2319b197",
   "metadata": {
    "execution": {
     "iopub.execute_input": "2022-11-18T23:51:33.654373Z",
     "iopub.status.busy": "2022-11-18T23:51:33.654076Z",
     "iopub.status.idle": "2022-11-18T23:51:33.730755Z",
     "shell.execute_reply": "2022-11-18T23:51:33.729590Z"
    },
    "papermill": {
     "duration": 0.087099,
     "end_time": "2022-11-18T23:51:33.733167",
     "exception": false,
     "start_time": "2022-11-18T23:51:33.646068",
     "status": "completed"
    },
    "tags": []
   },
   "outputs": [
    {
     "name": "stdout",
     "output_type": "stream",
     "text": [
      "accuracy (on X_train): 0.6658\n"
     ]
    }
   ],
   "source": [
    "predictions_val = model.predict(X_val)\n",
    "print(f\"accuracy (on X_train): {accuracy_score(y_val, predictions_val):.4f}\")"
   ]
  },
  {
   "cell_type": "markdown",
   "id": "5f068c94",
   "metadata": {
    "papermill": {
     "duration": 0.007093,
     "end_time": "2022-11-18T23:51:33.747038",
     "exception": false,
     "start_time": "2022-11-18T23:51:33.739945",
     "status": "completed"
    },
    "tags": []
   },
   "source": [
    "_Let's tune the model to see if it can yield a more improvement than the Decision Tree model. The hyperparameter we will be tuning is the var_smoothing parameter._"
   ]
  },
  {
   "cell_type": "code",
   "execution_count": 14,
   "id": "ae165734",
   "metadata": {
    "execution": {
     "iopub.execute_input": "2022-11-18T23:51:33.763106Z",
     "iopub.status.busy": "2022-11-18T23:51:33.761976Z",
     "iopub.status.idle": "2022-11-18T23:51:44.777751Z",
     "shell.execute_reply": "2022-11-18T23:51:44.776640Z"
    },
    "papermill": {
     "duration": 11.026199,
     "end_time": "2022-11-18T23:51:44.780304",
     "exception": false,
     "start_time": "2022-11-18T23:51:33.754105",
     "status": "completed"
    },
    "tags": []
   },
   "outputs": [],
   "source": [
    "from sklearn.metrics import log_loss\n",
    "\n",
    "tune_model = True # can change this to False once you've chosen a hyperparam value and before Saving your notebook with Kaggle\n",
    "intents = df['Intent'].unique()\n",
    "# A function to create and fit a RF with a specific number of trees\n",
    "def tuneModel(hyperparam_value):\n",
    "    rf_model = GaussianNB(var_smoothing=hyperparam_value)\n",
    "    rf_model.fit(X_train, y_train)\n",
    "    y_train_pred_prob = rf_model.predict_proba(X_train)\n",
    "    y_train_pred = rf_model.predict(X_train)\n",
    "    y_val_pred_prob = rf_model.predict_proba(X_val)\n",
    "    y_val_pred = rf_model.predict(X_val)\n",
    "    train_loss = log_loss(y_train, y_train_pred_prob, labels=intents)\n",
    "    train_acc = accuracy_score(y_train, y_train_pred)\n",
    "    val_loss = log_loss(y_val, y_val_pred_prob, labels=intents)\n",
    "    val_acc = accuracy_score(y_val, y_val_pred)\n",
    "    return (train_loss, val_loss, train_acc, val_acc)\n",
    "\n",
    "# Possible values for the hyperparameter are in the range of 5 to 150 (by 50)\n",
    "hyp_param_vals = list(range(39,43,1)) # good values for n_estimators\n",
    "hyp_param_vals = [2,3] + list(range(5, 50, 10)) # good values for min_samples_split\n",
    "metrics = []\n",
    "\n",
    "if tune_model:\n",
    "    for hp in hyp_param_vals:\n",
    "        metrics.append(tuneModel(hp))"
   ]
  },
  {
   "cell_type": "markdown",
   "id": "8ef66885",
   "metadata": {
    "papermill": {
     "duration": 0.007023,
     "end_time": "2022-11-18T23:51:44.794820",
     "exception": false,
     "start_time": "2022-11-18T23:51:44.787797",
     "status": "completed"
    },
    "tags": []
   },
   "source": [
    "After plotting these tuning runs, we can see that the Gaussian Naive Bayes is a far better fit for the data. The log loss and accuracy are far closer for the test and training data with this model over the Decision Tree Classifier."
   ]
  },
  {
   "cell_type": "code",
   "execution_count": 15,
   "id": "0e0584a7",
   "metadata": {
    "execution": {
     "iopub.execute_input": "2022-11-18T23:51:44.810453Z",
     "iopub.status.busy": "2022-11-18T23:51:44.810160Z",
     "iopub.status.idle": "2022-11-18T23:51:45.181944Z",
     "shell.execute_reply": "2022-11-18T23:51:45.180960Z"
    },
    "papermill": {
     "duration": 0.382068,
     "end_time": "2022-11-18T23:51:45.184142",
     "exception": false,
     "start_time": "2022-11-18T23:51:44.802074",
     "status": "completed"
    },
    "tags": []
   },
   "outputs": [
    {
     "data": {
      "image/png": "[encoded data removed]",
      "text/plain": [
       "<Figure size 1152x288 with 2 Axes>"
      ]
     },
     "metadata": {
      "needs_background": "light"
     },
     "output_type": "display_data"
    }
   ],
   "source": [
    "import matplotlib.pyplot as plt\n",
    "\n",
    "if tune_model:\n",
    "    fig, (ax1, ax2) = plt.subplots(1, 2, figsize=(16, 4))\n",
    "\n",
    "    ax1.set_xticks(hyp_param_vals)\n",
    "    ax1.set(xlabel=\"var_smoothing\", ylabel=\"loss (lower is better)\")\n",
    "    ax1.plot(hyp_param_vals, [metric[1] for metric in metrics], '--ro') # validation loss\n",
    "    ax1.plot(hyp_param_vals, [metric[0] for metric in metrics], '--bo') # training loss\n",
    "    ax1.legend([\"Validation Loss\", \"Train Loss\"], loc=1)\n",
    "\n",
    "    ax2.set_xticks(hyp_param_vals)\n",
    "    ax2.set(xlabel=\"var_smoothing\", ylabel=\"accuracy (higher is better)\")\n",
    "    ax2.plot(hyp_param_vals, [metric[3] for metric in metrics], '--ro') # validation accuracy\n",
    "    ax2.plot(hyp_param_vals, [metric[2] for metric in metrics], '--bo') # training accuracy\n",
    "    ax2.legend([\"Validation Accuracy\", \"Train Accuracy\"], loc=4)"
   ]
  },
  {
   "cell_type": "markdown",
   "id": "450a8221",
   "metadata": {
    "papermill": {
     "duration": 0.007508,
     "end_time": "2022-11-18T23:51:45.199441",
     "exception": false,
     "start_time": "2022-11-18T23:51:45.191933",
     "status": "completed"
    },
    "tags": []
   },
   "source": [
    "Based on the results of the fitting, we can see that the best value for the var_smoothing variable is 5. It is the optimal balance between the log loss and accuracy. Below, we also disply the first couple of predictions for the Gaussian Naive Bayes model with this optimal value."
   ]
  },
  {
   "cell_type": "code",
   "execution_count": 16,
   "id": "dc6e5221",
   "metadata": {
    "execution": {
     "iopub.execute_input": "2022-11-18T23:51:45.217423Z",
     "iopub.status.busy": "2022-11-18T23:51:45.215750Z",
     "iopub.status.idle": "2022-11-18T23:51:46.200698Z",
     "shell.execute_reply": "2022-11-18T23:51:46.199801Z"
    },
    "papermill": {
     "duration": 0.996013,
     "end_time": "2022-11-18T23:51:46.203060",
     "exception": false,
     "start_time": "2022-11-18T23:51:45.207047",
     "status": "completed"
    },
    "tags": []
   },
   "outputs": [
    {
     "data": {
      "text/plain": [
       "array(['smalltalk_agent_bad', 'smalltalk_agent_clever',\n",
       "       'smalltalk_user_here', 'smalltalk_agent_crazy',\n",
       "       'smalltalk_user_likes_agent', 'smalltalk_agent_acquaintance',\n",
       "       'smalltalk_user_looks_like', 'smalltalk_agent_my_friend',\n",
       "       'smalltalk_user_here', 'smalltalk_agent_busy'], dtype='<U39')"
      ]
     },
     "execution_count": 16,
     "metadata": {},
     "output_type": "execute_result"
    }
   ],
   "source": [
    "# refit the model with the best hyperparameter value you found\n",
    "model = GaussianNB(var_smoothing=5)\n",
    "model = model.fit(X_train, y_train)\n",
    "\n",
    "# this make predictions for the test set\n",
    "predictions_train = model.predict(X_train)\n",
    "predictions_test = model.predict(X_val)\n",
    "predictions_test[:10]"
   ]
  },
  {
   "cell_type": "markdown",
   "id": "aaba00a0",
   "metadata": {
    "papermill": {
     "duration": 0.007701,
     "end_time": "2022-11-18T23:51:46.218525",
     "exception": false,
     "start_time": "2022-11-18T23:51:46.210824",
     "status": "completed"
    },
    "tags": []
   },
   "source": [
    "After the tuning and finding the proper hyperparemeter for the model, we now yield a more accurate model than the decision tree classifier. This improvement is far greater than the Decision Tree Classifier and the original untuned model. It will be interesting to see if a deep learning model can improve upon a 75.46% accuracy."
   ]
  },
  {
   "cell_type": "code",
   "execution_count": 17,
   "id": "62e3c9be",
   "metadata": {
    "execution": {
     "iopub.execute_input": "2022-11-18T23:51:46.235068Z",
     "iopub.status.busy": "2022-11-18T23:51:46.234769Z",
     "iopub.status.idle": "2022-11-18T23:51:46.244249Z",
     "shell.execute_reply": "2022-11-18T23:51:46.243356Z"
    },
    "papermill": {
     "duration": 0.020221,
     "end_time": "2022-11-18T23:51:46.246326",
     "exception": false,
     "start_time": "2022-11-18T23:51:46.226105",
     "status": "completed"
    },
    "tags": []
   },
   "outputs": [
    {
     "name": "stdout",
     "output_type": "stream",
     "text": [
      "accuracy (on X_train): 0.8965\n",
      "accuracy (on X_val): 0.7546\n"
     ]
    }
   ],
   "source": [
    "print(f\"accuracy (on X_train): {accuracy_score(y_train, predictions_train):.4f}\")\n",
    "print(f\"accuracy (on X_val): {accuracy_score(y_val, predictions_test):.4f}\")"
   ]
  }
 ],
 "metadata": {
  "kernelspec": {
   "display_name": "Python 3",
   "language": "python",
   "name": "python3"
  },
  "language_info": {
   "codemirror_mode": {
    "name": "ipython",
    "version": 3
   },
   "file_extension": ".py",
   "mimetype": "text/x-python",
   "name": "python",
   "nbconvert_exporter": "python",
   "pygments_lexer": "ipython3",
   "version": "3.7.12"
  },
  "papermill": {
   "default_parameters": {},
   "duration": 29.260909,
   "end_time": "2022-11-18T23:51:46.778961",
   "environment_variables": {},
   "exception": null,
   "input_path": "__notebook__.ipynb",
   "output_path": "__notebook__.ipynb",
   "parameters": {},
   "start_time": "2022-11-18T23:51:17.518052",
   "version": "2.3.4"
  }
 },
 "nbformat": 4,
 "nbformat_minor": 5
}
