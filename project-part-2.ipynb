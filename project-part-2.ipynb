{
 "cells": [
  {
   "cell_type": "markdown",
   "id": "4ac0d0a3",
   "metadata": {
    "papermill": {
     "duration": 0.007143,
     "end_time": "2022-11-18T23:55:24.707035",
     "exception": false,
     "start_time": "2022-11-18T23:55:24.699892",
     "status": "completed"
    },
    "tags": []
   },
   "source": [
    "This first cell is added by Kaggle by default and contains some useful info/setup to be able to open the data files for the project. "
   ]
  },
  {
   "cell_type": "code",
   "execution_count": 1,
   "id": "58ec5637",
   "metadata": {
    "_cell_guid": "b1076dfc-b9ad-4769-8c92-a6c4dae69d19",
    "_uuid": "8f2839f25d086af736a60e9eeb907d3b93b6e0e5",
    "execution": {
     "iopub.execute_input": "2022-11-18T23:55:24.720549Z",
     "iopub.status.busy": "2022-11-18T23:55:24.720059Z",
     "iopub.status.idle": "2022-11-18T23:55:24.738881Z",
     "shell.execute_reply": "2022-11-18T23:55:24.737942Z"
    },
    "papermill": {
     "duration": 0.028715,
     "end_time": "2022-11-18T23:55:24.741765",
     "exception": false,
     "start_time": "2022-11-18T23:55:24.713050",
     "status": "completed"
    },
    "tags": []
   },
   "outputs": [
    {
     "name": "stdout",
     "output_type": "stream",
     "text": [
      "/kaggle/input/small-talk-intent-classification-data/Small_talk_Intent.csv\n"
     ]
    }
   ],
   "source": [
    "# This Python 3 environment comes with many helpful analytics libraries installed\n",
    "# It is defined by the kaggle/python Docker image: https://github.com/kaggle/docker-python\n",
    "# For example, here's several helpful packages to load\n",
    "\n",
    "import numpy as np # linear algebra\n",
    "import pandas as pd # data processing, CSV file I/O (e.g. pd.read_csv)\n",
    "\n",
    "# Input data files are available in the read-only \"../input/\" directory\n",
    "# For example, running this (by clicking run or pressing Shift+Enter) will list all files under the input directory\n",
    "\n",
    "import os\n",
    "for dirname, _, filenames in os.walk('/kaggle/input'):\n",
    "    for filename in filenames:\n",
    "        print(os.path.join(dirname, filename))\n",
    "\n",
    "# You can write up to 20GB to the current directory (/kaggle/working/) that gets preserved as output when you create a version using \"Save & Run All\" \n",
    "# You can also write temporary files to /kaggle/temp/, but they won't be saved outside of the current session"
   ]
  },
  {
   "cell_type": "markdown",
   "id": "7706f1b3",
   "metadata": {
    "papermill": {
     "duration": 0.006118,
     "end_time": "2022-11-18T23:55:24.754432",
     "exception": false,
     "start_time": "2022-11-18T23:55:24.748314",
     "status": "completed"
    },
    "tags": []
   },
   "source": [
    "_Now, we read in the data from the csv file that data is held in._"
   ]
  },
  {
   "cell_type": "code",
   "execution_count": 2,
   "id": "6ab755ae",
   "metadata": {
    "execution": {
     "iopub.execute_input": "2022-11-18T23:55:24.768169Z",
     "iopub.status.busy": "2022-11-18T23:55:24.767215Z",
     "iopub.status.idle": "2022-11-18T23:55:24.810890Z",
     "shell.execute_reply": "2022-11-18T23:55:24.810022Z"
    },
    "papermill": {
     "duration": 0.052734,
     "end_time": "2022-11-18T23:55:24.812906",
     "exception": false,
     "start_time": "2022-11-18T23:55:24.760172",
     "status": "completed"
    },
    "tags": []
   },
   "outputs": [
    {
     "data": {
      "text/html": [
       "<div>\n",
       "<style scoped>\n",
       "    .dataframe tbody tr th:only-of-type {\n",
       "        vertical-align: middle;\n",
       "    }\n",
       "\n",
       "    .dataframe tbody tr th {\n",
       "        vertical-align: top;\n",
       "    }\n",
       "\n",
       "    .dataframe thead th {\n",
       "        text-align: right;\n",
       "    }\n",
       "</style>\n",
       "<table border=\"1\" class=\"dataframe\">\n",
       "  <thead>\n",
       "    <tr style=\"text-align: right;\">\n",
       "      <th></th>\n",
       "      <th>Utterances</th>\n",
       "      <th>Intent</th>\n",
       "    </tr>\n",
       "  </thead>\n",
       "  <tbody>\n",
       "    <tr>\n",
       "      <th>0</th>\n",
       "      <td>who are you?</td>\n",
       "      <td>smalltalk_agent_acquaintance</td>\n",
       "    </tr>\n",
       "    <tr>\n",
       "      <th>1</th>\n",
       "      <td>all about you</td>\n",
       "      <td>smalltalk_agent_acquaintance</td>\n",
       "    </tr>\n",
       "    <tr>\n",
       "      <th>2</th>\n",
       "      <td>what is your personality</td>\n",
       "      <td>smalltalk_agent_acquaintance</td>\n",
       "    </tr>\n",
       "    <tr>\n",
       "      <th>3</th>\n",
       "      <td>define yourself</td>\n",
       "      <td>smalltalk_agent_acquaintance</td>\n",
       "    </tr>\n",
       "    <tr>\n",
       "      <th>4</th>\n",
       "      <td>what are you</td>\n",
       "      <td>smalltalk_agent_acquaintance</td>\n",
       "    </tr>\n",
       "  </tbody>\n",
       "</table>\n",
       "</div>"
      ],
      "text/plain": [
       "                 Utterances                        Intent\n",
       "0              who are you?  smalltalk_agent_acquaintance\n",
       "1             all about you  smalltalk_agent_acquaintance\n",
       "2  what is your personality  smalltalk_agent_acquaintance\n",
       "3           define yourself  smalltalk_agent_acquaintance\n",
       "4              what are you  smalltalk_agent_acquaintance"
      ]
     },
     "execution_count": 2,
     "metadata": {},
     "output_type": "execute_result"
    }
   ],
   "source": [
    "input_data_path = '../input/small-talk-intent-classification-data/Small_talk_Intent.csv'\n",
    "df = pd.read_csv(input_data_path)\n",
    "df.head()\n"
   ]
  },
  {
   "cell_type": "markdown",
   "id": "03ea0724",
   "metadata": {
    "papermill": {
     "duration": 0.00595,
     "end_time": "2022-11-18T23:55:24.825191",
     "exception": false,
     "start_time": "2022-11-18T23:55:24.819241",
     "status": "completed"
    },
    "tags": []
   },
   "source": [
    "We split the data here to prevent data leakages. I choose a holdout of 15% percentage with the parameters `test_size` for validation data for testing the model. "
   ]
  },
  {
   "cell_type": "code",
   "execution_count": 3,
   "id": "0cf8099d",
   "metadata": {
    "execution": {
     "iopub.execute_input": "2022-11-18T23:55:24.839034Z",
     "iopub.status.busy": "2022-11-18T23:55:24.838765Z",
     "iopub.status.idle": "2022-11-18T23:55:26.409825Z",
     "shell.execute_reply": "2022-11-18T23:55:26.408858Z"
    },
    "papermill": {
     "duration": 1.580425,
     "end_time": "2022-11-18T23:55:26.411947",
     "exception": false,
     "start_time": "2022-11-18T23:55:24.831522",
     "status": "completed"
    },
    "tags": []
   },
   "outputs": [
    {
     "data": {
      "text/plain": [
       "1801       have you been ready?     smalltalk_agent_ready\n",
       "1610    are you still working on it?     smalltalk_age...\n",
       "976          that is incorrect     smalltalk_dialog_wrong\n",
       "1264    it's my birthday today     smalltalk_user_has_...\n",
       "1765    do you want to be my best friend?     smalltal...\n",
       "dtype: object"
      ]
     },
     "execution_count": 3,
     "metadata": {},
     "output_type": "execute_result"
    }
   ],
   "source": [
    "# split data into train and validation sets: df_train and df_val\n",
    "from sklearn.model_selection import train_test_split\n",
    "\n",
    "X = df['Utterances'].copy()\n",
    "y = df['Intent'].copy()\n",
    "\n",
    "X_train_raw, X_val_raw, y_train, y_val = train_test_split(X, y, test_size=0.15, random_state=42)\n",
    "X_train_raw.head() + \"     \" + y_train.head()"
   ]
  },
  {
   "cell_type": "markdown",
   "id": "4dfe5c93",
   "metadata": {
    "papermill": {
     "duration": 0.005846,
     "end_time": "2022-11-18T23:55:26.423913",
     "exception": false,
     "start_time": "2022-11-18T23:55:26.418067",
     "status": "completed"
    },
    "tags": []
   },
   "source": [
    "Here we are vectorizing the data. We are using the TfidfVectorizer() which vectorizies by term-frequency inverse document frequency. In this implementation, we are not removing stop words because the observation are so small. "
   ]
  },
  {
   "cell_type": "code",
   "execution_count": 4,
   "id": "7407977e",
   "metadata": {
    "execution": {
     "iopub.execute_input": "2022-11-18T23:55:26.438419Z",
     "iopub.status.busy": "2022-11-18T23:55:26.437751Z",
     "iopub.status.idle": "2022-11-18T23:55:26.504720Z",
     "shell.execute_reply": "2022-11-18T23:55:26.503701Z"
    },
    "papermill": {
     "duration": 0.077006,
     "end_time": "2022-11-18T23:55:26.506796",
     "exception": false,
     "start_time": "2022-11-18T23:55:26.429790",
     "status": "completed"
    },
    "tags": []
   },
   "outputs": [
    {
     "name": "stdout",
     "output_type": "stream",
     "text": [
      "X_train.shape = (2164, 638)\n",
      "X_val.shape = (383, 638)\n"
     ]
    },
    {
     "data": {
      "text/plain": [
       "numpy.ndarray"
      ]
     },
     "execution_count": 4,
     "metadata": {},
     "output_type": "execute_result"
    }
   ],
   "source": [
    "from sklearn.feature_extraction.text import TfidfVectorizer\n",
    "tfidf_vectorizer = TfidfVectorizer()\n",
    "X_train = tfidf_vectorizer.fit_transform(X_train_raw).toarray()\n",
    "\n",
    "print(f\"X_train.shape = {X_train.shape}\")\n",
    "X_val = tfidf_vectorizer.transform(X_val_raw).toarray()\n",
    "print(f\"X_val.shape = {X_val.shape}\")\n",
    "type(X_val)"
   ]
  },
  {
   "cell_type": "markdown",
   "id": "44f38ff1",
   "metadata": {
    "papermill": {
     "duration": 0.006009,
     "end_time": "2022-11-18T23:55:26.518999",
     "exception": false,
     "start_time": "2022-11-18T23:55:26.512990",
     "status": "completed"
    },
    "tags": []
   },
   "source": [
    "# Model 1 (Decision Tree Classifier)\n",
    "\n",
    "_The first model I wanted to test was the Decision Tree Classifier. When training, we can see that it fits the training data very well. 99.4% accuracy might be too good of a fit so it will be interesting to see how well it fits the validation data._"
   ]
  },
  {
   "cell_type": "code",
   "execution_count": 5,
   "id": "fa82a76a",
   "metadata": {
    "execution": {
     "iopub.execute_input": "2022-11-18T23:55:26.533057Z",
     "iopub.status.busy": "2022-11-18T23:55:26.532324Z",
     "iopub.status.idle": "2022-11-18T23:55:26.989437Z",
     "shell.execute_reply": "2022-11-18T23:55:26.988059Z"
    },
    "papermill": {
     "duration": 0.466821,
     "end_time": "2022-11-18T23:55:26.992152",
     "exception": false,
     "start_time": "2022-11-18T23:55:26.525331",
     "status": "completed"
    },
    "tags": []
   },
   "outputs": [
    {
     "name": "stdout",
     "output_type": "stream",
     "text": [
      "accuracy (on X_train): 0.9940\n"
     ]
    }
   ],
   "source": [
    "from sklearn.tree import DecisionTreeClassifier\n",
    "from sklearn.metrics import confusion_matrix, ConfusionMatrixDisplay, accuracy_score\n",
    "\n",
    "model = DecisionTreeClassifier()\n",
    "model = model.fit(X_train, y_train)\n",
    "\n",
    "predictions_train = model.predict(X_train)\n",
    "\n",
    "print(f\"accuracy (on X_train): {accuracy_score(y_train, predictions_train):.4f}\")"
   ]
  },
  {
   "cell_type": "code",
   "execution_count": 6,
   "id": "d0e44053",
   "metadata": {
    "execution": {
     "iopub.execute_input": "2022-11-18T23:55:27.007069Z",
     "iopub.status.busy": "2022-11-18T23:55:27.006642Z",
     "iopub.status.idle": "2022-11-18T23:55:27.013598Z",
     "shell.execute_reply": "2022-11-18T23:55:27.012580Z"
    },
    "papermill": {
     "duration": 0.017134,
     "end_time": "2022-11-18T23:55:27.016141",
     "exception": false,
     "start_time": "2022-11-18T23:55:26.999007",
     "status": "completed"
    },
    "tags": []
   },
   "outputs": [
    {
     "name": "stdout",
     "output_type": "stream",
     "text": [
      "accuracy (on X_train): 0.7206\n"
     ]
    }
   ],
   "source": [
    "predictions_val = model.predict(X_val)\n",
    "print(f\"accuracy (on X_train): {accuracy_score(y_val, predictions_val):.4f}\")\n"
   ]
  },
  {
   "cell_type": "markdown",
   "id": "6ccaa754",
   "metadata": {
    "papermill": {
     "duration": 0.006298,
     "end_time": "2022-11-18T23:55:27.029232",
     "exception": false,
     "start_time": "2022-11-18T23:55:27.022934",
     "status": "completed"
    },
    "tags": []
   },
   "source": [
    "This result is a pretty good fit for the validation data. I am a little surprised based upon how well the model fit the training data because it felt like the model was going to be overfit. Let's see if we can improve that number by tuning a hyperparameter. For this model, we will tune the min_samples_split."
   ]
  },
  {
   "cell_type": "code",
   "execution_count": 7,
   "id": "bcf12cf9",
   "metadata": {
    "execution": {
     "iopub.execute_input": "2022-11-18T23:55:27.043199Z",
     "iopub.status.busy": "2022-11-18T23:55:27.042921Z",
     "iopub.status.idle": "2022-11-18T23:55:28.529008Z",
     "shell.execute_reply": "2022-11-18T23:55:28.527979Z"
    },
    "papermill": {
     "duration": 1.49576,
     "end_time": "2022-11-18T23:55:28.531463",
     "exception": false,
     "start_time": "2022-11-18T23:55:27.035703",
     "status": "completed"
    },
    "tags": []
   },
   "outputs": [],
   "source": [
    "from sklearn.metrics import log_loss\n",
    "\n",
    "tune_model = True # can change this to False once you've chosen a hyperparam value and before Saving your notebook with Kaggle\n",
    "intents = df['Intent'].unique()\n",
    "# A function to create and fit a RF with a specific number of trees\n",
    "def tuneModel(hyperparam_value):\n",
    "    rf_model = DecisionTreeClassifier(min_samples_split=hyperparam_value)\n",
    "    rf_model.fit(X_train, y_train)\n",
    "    y_train_pred_prob = rf_model.predict_proba(X_train)\n",
    "    y_train_pred = rf_model.predict(X_train)\n",
    "    y_val_pred_prob = rf_model.predict_proba(X_val)\n",
    "    y_val_pred = rf_model.predict(X_val)\n",
    "    train_loss = log_loss(y_train, y_train_pred_prob, labels=intents)\n",
    "    train_acc = accuracy_score(y_train, y_train_pred)\n",
    "    val_loss = log_loss(y_val, y_val_pred_prob, labels=intents)\n",
    "    val_acc = accuracy_score(y_val, y_val_pred)\n",
    "    return (train_loss, val_loss, train_acc, val_acc)\n",
    "\n",
    "# Possible values for the hyperparameter are in the range of 5 to 150 (by 50)\n",
    "hyp_param_vals = list(range(39,43,1)) # good values for n_estimators\n",
    "hyp_param_vals = [2,3] + list(range(5, 50, 10)) # good values for min_samples_split\n",
    "metrics = []\n",
    "\n",
    "if tune_model:\n",
    "    for hp in hyp_param_vals:\n",
    "        metrics.append(tuneModel(hp))"
   ]
  },
  {
   "cell_type": "markdown",
   "id": "c8777c1c",
   "metadata": {
    "papermill": {
     "duration": 0.006658,
     "end_time": "2022-11-18T23:55:28.545146",
     "exception": false,
     "start_time": "2022-11-18T23:55:28.538488",
     "status": "completed"
    },
    "tags": []
   },
   "source": [
    "Plot the results of the Decision Tree model performance for the hyperparameter value we looked at which was min_samples_split. Below, you will see that the validation and training data are rather far apart for my liking. It might suggest that there may be a better model to fit the data that does not overfit the training data."
   ]
  },
  {
   "cell_type": "code",
   "execution_count": 8,
   "id": "973f0234",
   "metadata": {
    "execution": {
     "iopub.execute_input": "2022-11-18T23:55:28.559677Z",
     "iopub.status.busy": "2022-11-18T23:55:28.559353Z",
     "iopub.status.idle": "2022-11-18T23:55:28.969548Z",
     "shell.execute_reply": "2022-11-18T23:55:28.968497Z"
    },
    "papermill": {
     "duration": 0.420292,
     "end_time": "2022-11-18T23:55:28.972135",
     "exception": false,
     "start_time": "2022-11-18T23:55:28.551843",
     "status": "completed"
    },
    "tags": []
   },
   "outputs": [
    {
     "data": {
      "image/png": "[encoded data removed]",
      "text/plain": [
       "<Figure size 1152x288 with 2 Axes>"
      ]
     },
     "metadata": {
      "needs_background": "light"
     },
     "output_type": "display_data"
    }
   ],
   "source": [
    "import matplotlib.pyplot as plt\n",
    "\n",
    "if tune_model:\n",
    "    fig, (ax1, ax2) = plt.subplots(1, 2, figsize=(16, 4))\n",
    "\n",
    "    ax1.set_xticks(hyp_param_vals)\n",
    "    ax1.set(xlabel=\"min_samples_split\", ylabel=\"loss (lower is better)\")\n",
    "    ax1.plot(hyp_param_vals, [metric[1] for metric in metrics], '--ro') # validation loss\n",
    "    ax1.plot(hyp_param_vals, [metric[0] for metric in metrics], '--bo') # training loss\n",
    "    ax1.legend([\"Validation Loss\", \"Train Loss\"], loc=1)\n",
    "\n",
    "    ax2.set_xticks(hyp_param_vals)\n",
    "    ax2.set(xlabel=\"min_samples_split\", ylabel=\"accuracy (higher is better)\")\n",
    "    ax2.plot(hyp_param_vals, [metric[3] for metric in metrics], '--ro') # validation accuracy\n",
    "    ax2.plot(hyp_param_vals, [metric[2] for metric in metrics], '--bo') # training accuracy\n",
    "    ax2.legend([\"Validation Accuracy\", \"Train Accuracy\"], loc=4)"
   ]
  },
  {
   "cell_type": "markdown",
   "id": "991b1ef6",
   "metadata": {
    "papermill": {
     "duration": 0.006913,
     "end_time": "2022-11-18T23:55:28.986584",
     "exception": false,
     "start_time": "2022-11-18T23:55:28.979671",
     "status": "completed"
    },
    "tags": []
   },
   "source": [
    "To be certain, let's look at the table of values and see which hyperparameter value has the lowest."
   ]
  },
  {
   "cell_type": "code",
   "execution_count": 9,
   "id": "60c8bf21",
   "metadata": {
    "execution": {
     "iopub.execute_input": "2022-11-18T23:55:29.002845Z",
     "iopub.status.busy": "2022-11-18T23:55:29.002123Z",
     "iopub.status.idle": "2022-11-18T23:55:29.008901Z",
     "shell.execute_reply": "2022-11-18T23:55:29.007835Z"
    },
    "papermill": {
     "duration": 0.017948,
     "end_time": "2022-11-18T23:55:29.011688",
     "exception": false,
     "start_time": "2022-11-18T23:55:28.993740",
     "status": "completed"
    },
    "tags": []
   },
   "outputs": [
    {
     "name": "stdout",
     "output_type": "stream",
     "text": [
      "[[ 2.    3.    5.   15.   25.   35.   45.  ]\n",
      " [ 9.29  9.21  8.43  7.8   6.49  6.06  5.76]\n",
      " [ 0.73  0.72  0.73  0.7   0.7   0.68  0.67]]\n"
     ]
    }
   ],
   "source": [
    "# a simple matrix with first row containing hyperparam values, second row containing validation loss, third row containing validation accuracy\n",
    "# (this could be presented in an even nicer format using a pandas dataframe if you like)\n",
    "if tune_model:\n",
    "    tuning_results = np.array([hyp_param_vals, [round(metric[1],2) for metric in metrics], [round(metric[3],2) for metric in metrics]])\n",
    "    print(tuning_results)"
   ]
  },
  {
   "cell_type": "markdown",
   "id": "f4f8c902",
   "metadata": {
    "papermill": {
     "duration": 0.006808,
     "end_time": "2022-11-18T23:55:29.025721",
     "exception": false,
     "start_time": "2022-11-18T23:55:29.018913",
     "status": "completed"
    },
    "tags": []
   },
   "source": [
    "After brief analysis of the graphs plotted and the data displayed, we can see that our best choice for min_samples_split was to choose a lower value. For our new value, we will use 2 as the min_samples_split. Also displayed below will be our first couple of predictions."
   ]
  },
  {
   "cell_type": "code",
   "execution_count": 10,
   "id": "464f80c8",
   "metadata": {
    "execution": {
     "iopub.execute_input": "2022-11-18T23:55:29.040892Z",
     "iopub.status.busy": "2022-11-18T23:55:29.039999Z",
     "iopub.status.idle": "2022-11-18T23:55:29.248127Z",
     "shell.execute_reply": "2022-11-18T23:55:29.246969Z"
    },
    "papermill": {
     "duration": 0.217858,
     "end_time": "2022-11-18T23:55:29.250337",
     "exception": false,
     "start_time": "2022-11-18T23:55:29.032479",
     "status": "completed"
    },
    "tags": []
   },
   "outputs": [
    {
     "data": {
      "text/plain": [
       "array(['smalltalk_user_needs_advice', 'smalltalk_agent_clever',\n",
       "       'smalltalk_user_here', 'smalltalk_agent_crazy',\n",
       "       'smalltalk_user_likes_agent', 'smalltalk_user_needs_advice',\n",
       "       'smalltalk_agent_beautiful', 'smalltalk_confirmation_yes',\n",
       "       'smalltalk_agent_fired', 'smalltalk_agent_busy'], dtype=object)"
      ]
     },
     "execution_count": 10,
     "metadata": {},
     "output_type": "execute_result"
    }
   ],
   "source": [
    "# refit the model with the best hyperparameter value you found\n",
    "model = DecisionTreeClassifier(min_samples_split=2)\n",
    "model = model.fit(X_train, y_train)\n",
    "\n",
    "# this make predictions for the test set\n",
    "predictions_train = model.predict(X_train)\n",
    "predictions_test = model.predict(X_val)\n",
    "predictions_test[:10]"
   ]
  },
  {
   "cell_type": "markdown",
   "id": "40b08ef4",
   "metadata": {
    "papermill": {
     "duration": 0.007249,
     "end_time": "2022-11-18T23:55:29.265798",
     "exception": false,
     "start_time": "2022-11-18T23:55:29.258549",
     "status": "completed"
    },
    "tags": []
   },
   "source": [
    "Let's do one last test of the accuracy. After running the accuracy test we can see marginal improvement as our validation accuracy increased slightly. This move is small but does show some improvement from our tuning."
   ]
  },
  {
   "cell_type": "code",
   "execution_count": 11,
   "id": "13fcfeca",
   "metadata": {
    "execution": {
     "iopub.execute_input": "2022-11-18T23:55:29.282078Z",
     "iopub.status.busy": "2022-11-18T23:55:29.281062Z",
     "iopub.status.idle": "2022-11-18T23:55:29.289824Z",
     "shell.execute_reply": "2022-11-18T23:55:29.288735Z"
    },
    "papermill": {
     "duration": 0.019333,
     "end_time": "2022-11-18T23:55:29.292177",
     "exception": false,
     "start_time": "2022-11-18T23:55:29.272844",
     "status": "completed"
    },
    "tags": []
   },
   "outputs": [
    {
     "name": "stdout",
     "output_type": "stream",
     "text": [
      "accuracy (on X_train): 0.9940\n",
      "accuracy (on X_val): 0.7415\n"
     ]
    }
   ],
   "source": [
    "print(f\"accuracy (on X_train): {accuracy_score(y_train, predictions_train):.4f}\")\n",
    "print(f\"accuracy (on X_val): {accuracy_score(y_val, predictions_test):.4f}\")"
   ]
  },
  {
   "cell_type": "markdown",
   "id": "f196fec8",
   "metadata": {
    "papermill": {
     "duration": 0.007231,
     "end_time": "2022-11-18T23:55:29.306781",
     "exception": false,
     "start_time": "2022-11-18T23:55:29.299550",
     "status": "completed"
    },
    "tags": []
   },
   "source": [
    "# Model 2 (Gaussian Naive Bayes)\n",
    "\n",
    "_Since the first model seemed to overfit the data a little bit, I wanted to test a second model. The model I chose for this second run was Gaussian Naive Bayes. Below we import the model and train on the same training data that we did before. On intially testing, we can see that we get a significantly lower. Our intially training accuracy was 86.88% which is 12.52% lower than the Decision Tree model._ "
   ]
  },
  {
   "cell_type": "code",
   "execution_count": 12,
   "id": "671b88f5",
   "metadata": {
    "execution": {
     "iopub.execute_input": "2022-11-18T23:55:29.323184Z",
     "iopub.status.busy": "2022-11-18T23:55:29.322502Z",
     "iopub.status.idle": "2022-11-18T23:55:30.163154Z",
     "shell.execute_reply": "2022-11-18T23:55:30.161109Z"
    },
    "papermill": {
     "duration": 0.852857,
     "end_time": "2022-11-18T23:55:30.166903",
     "exception": false,
     "start_time": "2022-11-18T23:55:29.314046",
     "status": "completed"
    },
    "tags": []
   },
   "outputs": [
    {
     "name": "stdout",
     "output_type": "stream",
     "text": [
      "accuracy (on X_train): 0.8688\n"
     ]
    }
   ],
   "source": [
    "from sklearn.naive_bayes import GaussianNB\n",
    "from sklearn.tree import DecisionTreeClassifier\n",
    "from sklearn.metrics import confusion_matrix, ConfusionMatrixDisplay, accuracy_score\n",
    "\n",
    "model = GaussianNB()\n",
    "model = model.fit(X_train, y_train)\n",
    "\n",
    "predictions_train = model.predict(X_train)\n",
    "\n",
    "print(f\"accuracy (on X_train): {accuracy_score(y_train, predictions_train):.4f}\")"
   ]
  },
  {
   "cell_type": "markdown",
   "id": "8c59bc02",
   "metadata": {
    "papermill": {
     "duration": 0.012451,
     "end_time": "2022-11-18T23:55:30.193592",
     "exception": false,
     "start_time": "2022-11-18T23:55:30.181141",
     "status": "completed"
    },
    "tags": []
   },
   "source": [
    "Our first run through the validation data was also significantly lower. 66.58% accuracy is also far lower than its Decision tree counterpart. "
   ]
  },
  {
   "cell_type": "code",
   "execution_count": 13,
   "id": "7f94daa8",
   "metadata": {
    "execution": {
     "iopub.execute_input": "2022-11-18T23:55:30.220590Z",
     "iopub.status.busy": "2022-11-18T23:55:30.219971Z",
     "iopub.status.idle": "2022-11-18T23:55:30.325149Z",
     "shell.execute_reply": "2022-11-18T23:55:30.323676Z"
    },
    "papermill": {
     "duration": 0.122777,
     "end_time": "2022-11-18T23:55:30.328815",
     "exception": false,
     "start_time": "2022-11-18T23:55:30.206038",
     "status": "completed"
    },
    "tags": []
   },
   "outputs": [
    {
     "name": "stdout",
     "output_type": "stream",
     "text": [
      "accuracy (on X_train): 0.6658\n"
     ]
    }
   ],
   "source": [
    "predictions_val = model.predict(X_val)\n",
    "print(f\"accuracy (on X_train): {accuracy_score(y_val, predictions_val):.4f}\")"
   ]
  },
  {
   "cell_type": "markdown",
   "id": "0c52e613",
   "metadata": {
    "papermill": {
     "duration": 0.010408,
     "end_time": "2022-11-18T23:55:30.351019",
     "exception": false,
     "start_time": "2022-11-18T23:55:30.340611",
     "status": "completed"
    },
    "tags": []
   },
   "source": [
    "_Let's tune the model to see if it can yield a more improvement than the Decision Tree model. The hyperparameter we will be tuning is the var_smoothing parameter._"
   ]
  },
  {
   "cell_type": "code",
   "execution_count": 14,
   "id": "34d5efd1",
   "metadata": {
    "execution": {
     "iopub.execute_input": "2022-11-18T23:55:30.374154Z",
     "iopub.status.busy": "2022-11-18T23:55:30.373680Z",
     "iopub.status.idle": "2022-11-18T23:55:41.681838Z",
     "shell.execute_reply": "2022-11-18T23:55:41.680791Z"
    },
    "papermill": {
     "duration": 11.322597,
     "end_time": "2022-11-18T23:55:41.684445",
     "exception": false,
     "start_time": "2022-11-18T23:55:30.361848",
     "status": "completed"
    },
    "tags": []
   },
   "outputs": [],
   "source": [
    "from sklearn.metrics import log_loss\n",
    "\n",
    "tune_model = True # can change this to False once you've chosen a hyperparam value and before Saving your notebook with Kaggle\n",
    "intents = df['Intent'].unique()\n",
    "# A function to create and fit a RF with a specific number of trees\n",
    "def tuneModel(hyperparam_value):\n",
    "    rf_model = GaussianNB(var_smoothing=hyperparam_value)\n",
    "    rf_model.fit(X_train, y_train)\n",
    "    y_train_pred_prob = rf_model.predict_proba(X_train)\n",
    "    y_train_pred = rf_model.predict(X_train)\n",
    "    y_val_pred_prob = rf_model.predict_proba(X_val)\n",
    "    y_val_pred = rf_model.predict(X_val)\n",
    "    train_loss = log_loss(y_train, y_train_pred_prob, labels=intents)\n",
    "    train_acc = accuracy_score(y_train, y_train_pred)\n",
    "    val_loss = log_loss(y_val, y_val_pred_prob, labels=intents)\n",
    "    val_acc = accuracy_score(y_val, y_val_pred)\n",
    "    return (train_loss, val_loss, train_acc, val_acc)\n",
    "\n",
    "# Possible values for the hyperparameter are in the range of 5 to 150 (by 50)\n",
    "hyp_param_vals = list(range(39,43,1)) # good values for n_estimators\n",
    "hyp_param_vals = [2,3] + list(range(5, 50, 10)) # good values for min_samples_split\n",
    "metrics = []\n",
    "\n",
    "if tune_model:\n",
    "    for hp in hyp_param_vals:\n",
    "        metrics.append(tuneModel(hp))"
   ]
  },
  {
   "cell_type": "markdown",
   "id": "2cf43f78",
   "metadata": {
    "papermill": {
     "duration": 0.007135,
     "end_time": "2022-11-18T23:55:41.699256",
     "exception": false,
     "start_time": "2022-11-18T23:55:41.692121",
     "status": "completed"
    },
    "tags": []
   },
   "source": [
    "After plotting these tuning runs, we can see that the Gaussian Naive Bayes is a far better fit for the data. The log loss and accuracy are far closer for the test and training data with this model over the Decision Tree Classifier."
   ]
  },
  {
   "cell_type": "code",
   "execution_count": 15,
   "id": "9c434164",
   "metadata": {
    "execution": {
     "iopub.execute_input": "2022-11-18T23:55:41.715424Z",
     "iopub.status.busy": "2022-11-18T23:55:41.715122Z",
     "iopub.status.idle": "2022-11-18T23:55:42.111394Z",
     "shell.execute_reply": "2022-11-18T23:55:42.110458Z"
    },
    "papermill": {
     "duration": 0.407002,
     "end_time": "2022-11-18T23:55:42.113571",
     "exception": false,
     "start_time": "2022-11-18T23:55:41.706569",
     "status": "completed"
    },
    "tags": []
   },
   "outputs": [
    {
     "data": {
      "image/png": "[encoded data removed]",
      "text/plain": [
       "<Figure size 1152x288 with 2 Axes>"
      ]
     },
     "metadata": {
      "needs_background": "light"
     },
     "output_type": "display_data"
    }
   ],
   "source": [
    "import matplotlib.pyplot as plt\n",
    "\n",
    "if tune_model:\n",
    "    fig, (ax1, ax2) = plt.subplots(1, 2, figsize=(16, 4))\n",
    "\n",
    "    ax1.set_xticks(hyp_param_vals)\n",
    "    ax1.set(xlabel=\"var_smoothing\", ylabel=\"loss (lower is better)\")\n",
    "    ax1.plot(hyp_param_vals, [metric[1] for metric in metrics], '--ro') # validation loss\n",
    "    ax1.plot(hyp_param_vals, [metric[0] for metric in metrics], '--bo') # training loss\n",
    "    ax1.legend([\"Validation Loss\", \"Train Loss\"], loc=1)\n",
    "\n",
    "    ax2.set_xticks(hyp_param_vals)\n",
    "    ax2.set(xlabel=\"var_smoothing\", ylabel=\"accuracy (higher is better)\")\n",
    "    ax2.plot(hyp_param_vals, [metric[3] for metric in metrics], '--ro') # validation accuracy\n",
    "    ax2.plot(hyp_param_vals, [metric[2] for metric in metrics], '--bo') # training accuracy\n",
    "    ax2.legend([\"Validation Accuracy\", \"Train Accuracy\"], loc=4)"
   ]
  },
  {
   "cell_type": "markdown",
   "id": "c5dc1379",
   "metadata": {
    "papermill": {
     "duration": 0.007508,
     "end_time": "2022-11-18T23:55:42.129445",
     "exception": false,
     "start_time": "2022-11-18T23:55:42.121937",
     "status": "completed"
    },
    "tags": []
   },
   "source": [
    "Based on the results of the fitting, we can see that the best value for the var_smoothing variable is 5. It is the optimal balance between the log loss and accuracy. Below, we also disply the first couple of predictions for the Gaussian Naive Bayes model with this optimal value."
   ]
  },
  {
   "cell_type": "code",
   "execution_count": 16,
   "id": "09fe572b",
   "metadata": {
    "execution": {
     "iopub.execute_input": "2022-11-18T23:55:42.146785Z",
     "iopub.status.busy": "2022-11-18T23:55:42.146459Z",
     "iopub.status.idle": "2022-11-18T23:55:43.133678Z",
     "shell.execute_reply": "2022-11-18T23:55:43.132592Z"
    },
    "papermill": {
     "duration": 0.999379,
     "end_time": "2022-11-18T23:55:43.136638",
     "exception": false,
     "start_time": "2022-11-18T23:55:42.137259",
     "status": "completed"
    },
    "tags": []
   },
   "outputs": [
    {
     "data": {
      "text/plain": [
       "array(['smalltalk_agent_bad', 'smalltalk_agent_clever',\n",
       "       'smalltalk_user_here', 'smalltalk_agent_crazy',\n",
       "       'smalltalk_user_likes_agent', 'smalltalk_agent_acquaintance',\n",
       "       'smalltalk_user_looks_like', 'smalltalk_agent_my_friend',\n",
       "       'smalltalk_user_here', 'smalltalk_agent_busy'], dtype='<U39')"
      ]
     },
     "execution_count": 16,
     "metadata": {},
     "output_type": "execute_result"
    }
   ],
   "source": [
    "# refit the model with the best hyperparameter value you found\n",
    "model = GaussianNB(var_smoothing=5)\n",
    "model = model.fit(X_train, y_train)\n",
    "\n",
    "# this make predictions for the test set\n",
    "predictions_train = model.predict(X_train)\n",
    "predictions_test = model.predict(X_val)\n",
    "predictions_test[:10]"
   ]
  },
  {
   "cell_type": "markdown",
   "id": "4898d19f",
   "metadata": {
    "papermill": {
     "duration": 0.01659,
     "end_time": "2022-11-18T23:55:43.168854",
     "exception": false,
     "start_time": "2022-11-18T23:55:43.152264",
     "status": "completed"
    },
    "tags": []
   },
   "source": [
    "After the tuning and finding the proper hyperparemeter for the model, we now yield a more accurate model than the decision tree classifier. This improvement is far greater than the Decision Tree Classifier and the original untuned model. It will be interesting to see if a deep learning model can improve upon a 75.46% accuracy."
   ]
  },
  {
   "cell_type": "code",
   "execution_count": 17,
   "id": "44ca5930",
   "metadata": {
    "execution": {
     "iopub.execute_input": "2022-11-18T23:55:43.193017Z",
     "iopub.status.busy": "2022-11-18T23:55:43.192629Z",
     "iopub.status.idle": "2022-11-18T23:55:43.206096Z",
     "shell.execute_reply": "2022-11-18T23:55:43.205045Z"
    },
    "papermill": {
     "duration": 0.028759,
     "end_time": "2022-11-18T23:55:43.208695",
     "exception": false,
     "start_time": "2022-11-18T23:55:43.179936",
     "status": "completed"
    },
    "tags": []
   },
   "outputs": [
    {
     "name": "stdout",
     "output_type": "stream",
     "text": [
      "accuracy (on X_train): 0.8965\n",
      "accuracy (on X_val): 0.7546\n"
     ]
    }
   ],
   "source": [
    "print(f\"accuracy (on X_train): {accuracy_score(y_train, predictions_train):.4f}\")\n",
    "print(f\"accuracy (on X_val): {accuracy_score(y_val, predictions_test):.4f}\")"
   ]
  }
 ],
 "metadata": {
  "kernelspec": {
   "display_name": "Python 3",
   "language": "python",
   "name": "python3"
  },
  "language_info": {
   "codemirror_mode": {
    "name": "ipython",
    "version": 3
   },
   "file_extension": ".py",
   "mimetype": "text/x-python",
   "name": "python",
   "nbconvert_exporter": "python",
   "pygments_lexer": "ipython3",
   "version": "3.7.12"
  },
  "papermill": {
   "default_parameters": {},
   "duration": 30.169215,
   "end_time": "2022-11-18T23:55:43.944831",
   "environment_variables": {},
   "exception": null,
   "input_path": "__notebook__.ipynb",
   "output_path": "__notebook__.ipynb",
   "parameters": {},
   "start_time": "2022-11-18T23:55:13.775616",
   "version": "2.3.4"
  }
 },
 "nbformat": 4,
 "nbformat_minor": 5
}
