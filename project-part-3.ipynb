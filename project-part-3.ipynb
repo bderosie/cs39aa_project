{
 "cells": [
  {
   "cell_type": "markdown",
   "id": "dfc5a874",
   "metadata": {
    "papermill": {
     "duration": 0.006311,
     "end_time": "2022-12-04T03:56:24.905071",
     "exception": false,
     "start_time": "2022-12-04T03:56:24.898760",
     "status": "completed"
    },
    "tags": []
   },
   "source": [
    "# Project Part 3: Using a Deep Learning Model for Small Talk Intent\n",
    "\n",
    "[![Kaggle](https://kaggle.com/static/images/open-in-kaggle.svg)](https://kaggle.com/kernels/welcome?src=https://github.com/sgeinitz/cs39aa_project/blob/main/project_part1.ipynb)\n",
    "\n",
    "[![Open In Colab](https://colab.research.google.com/assets/colab-badge.svg)](https://colab.research.google.com/github/sgeinitz/cs39aa_project/blob/main/project_part1.ipynb)\n"
   ]
  },
  {
   "cell_type": "markdown",
   "id": "d3956fef",
   "metadata": {
    "papermill": {
     "duration": 0.005008,
     "end_time": "2022-12-04T03:56:24.915468",
     "exception": false,
     "start_time": "2022-12-04T03:56:24.910460",
     "status": "completed"
    },
    "tags": []
   },
   "source": [
    "In this part of the project, we will be training a deep learning model on our small talk intent data to see if we can improve our accuracy from part 2. As a reminder, we got as high as 75.46% accuracy in the previous part using a Gaussian Naive Bayes model. For this part, our model will be a distilbert model trained on emotion intent. This model by the user gokuls from huggingface, is trained on 16,000 observations which were phrases that were classifieid into 6 different emotion classes. Those include sadness, joy, love, anger, fear, and surprise. Our small talk intnent data has 84 different classes of small talk intent so it will be interesting to see how the model performs with this difference. We start off by importing the packages we will need and setup the data we have been using. "
   ]
  },
  {
   "cell_type": "code",
   "execution_count": 1,
   "id": "d285c95c",
   "metadata": {
    "_cell_guid": "b1076dfc-b9ad-4769-8c92-a6c4dae69d19",
    "_uuid": "8f2839f25d086af736a60e9eeb907d3b93b6e0e5",
    "execution": {
     "iopub.execute_input": "2022-12-04T03:56:24.927946Z",
     "iopub.status.busy": "2022-12-04T03:56:24.927095Z",
     "iopub.status.idle": "2022-12-04T03:56:24.947863Z",
     "shell.execute_reply": "2022-12-04T03:56:24.946430Z"
    },
    "papermill": {
     "duration": 0.029585,
     "end_time": "2022-12-04T03:56:24.950117",
     "exception": false,
     "start_time": "2022-12-04T03:56:24.920532",
     "status": "completed"
    },
    "tags": []
   },
   "outputs": [
    {
     "name": "stdout",
     "output_type": "stream",
     "text": [
      "/kaggle/input/small-talk-intent-classification-data/Small_talk_Intent.csv\n"
     ]
    }
   ],
   "source": [
    "# This Python 3 environment comes with many helpful analytics libraries installed\n",
    "# It is defined by the kaggle/python Docker image: https://github.com/kaggle/docker-python\n",
    "# For example, here's several helpful packages to load\n",
    "\n",
    "import numpy as np # linear algebra\n",
    "import pandas as pd # data processing, CSV file I/O (e.g. pd.read_csv)\n",
    "\n",
    "# Input data files are available in the read-only \"../input/\" directory\n",
    "# For example, running this (by clicking run or pressing Shift+Enter) will list all files under the input directory\n",
    "\n",
    "import os\n",
    "for dirname, _, filenames in os.walk('/kaggle/input'):\n",
    "    for filename in filenames:\n",
    "        print(os.path.join(dirname, filename))\n",
    "\n",
    "# You can write up to 20GB to the current directory (/kaggle/working/) that gets preserved as output when you create a version using \"Save & Run All\" \n",
    "# You can also write temporary files to /kaggle/temp/, but they won't be saved outside of the current session"
   ]
  },
  {
   "cell_type": "code",
   "execution_count": 2,
   "id": "04558620",
   "metadata": {
    "execution": {
     "iopub.execute_input": "2022-12-04T03:56:24.962557Z",
     "iopub.status.busy": "2022-12-04T03:56:24.961732Z",
     "iopub.status.idle": "2022-12-04T03:56:24.979996Z",
     "shell.execute_reply": "2022-12-04T03:56:24.979148Z"
    },
    "papermill": {
     "duration": 0.026666,
     "end_time": "2022-12-04T03:56:24.982172",
     "exception": false,
     "start_time": "2022-12-04T03:56:24.955506",
     "status": "completed"
    },
    "tags": []
   },
   "outputs": [],
   "source": [
    "input_data_path = '../input/small-talk-intent-classification-data/Small_talk_Intent.csv'\n",
    "df = pd.read_csv(input_data_path)"
   ]
  },
  {
   "cell_type": "markdown",
   "id": "ad0860b0",
   "metadata": {
    "papermill": {
     "duration": 0.005743,
     "end_time": "2022-12-04T03:56:24.995919",
     "exception": false,
     "start_time": "2022-12-04T03:56:24.990176",
     "status": "completed"
    },
    "tags": []
   },
   "source": [
    "These next two blocks of code import and setup the model we have chose. In this case, we are importing the distilbert-emotion-intent model and pretraining it to handle 84 different observation classes. "
   ]
  },
  {
   "cell_type": "code",
   "execution_count": 3,
   "id": "765019fc",
   "metadata": {
    "execution": {
     "iopub.execute_input": "2022-12-04T03:56:25.007637Z",
     "iopub.status.busy": "2022-12-04T03:56:25.007315Z",
     "iopub.status.idle": "2022-12-04T03:56:32.657517Z",
     "shell.execute_reply": "2022-12-04T03:56:32.656425Z"
    },
    "papermill": {
     "duration": 7.659061,
     "end_time": "2022-12-04T03:56:32.660155",
     "exception": false,
     "start_time": "2022-12-04T03:56:25.001094",
     "status": "completed"
    },
    "tags": []
   },
   "outputs": [],
   "source": [
    "import torch\n",
    "from transformers import AutoTokenizer, AutoModelForSequenceClassification,  TrainingArguments, Trainer\n",
    "from datasets import Dataset, load_metric"
   ]
  },
  {
   "cell_type": "code",
   "execution_count": 4,
   "id": "98475f47",
   "metadata": {
    "execution": {
     "iopub.execute_input": "2022-12-04T03:56:32.672630Z",
     "iopub.status.busy": "2022-12-04T03:56:32.671308Z",
     "iopub.status.idle": "2022-12-04T03:57:12.734460Z",
     "shell.execute_reply": "2022-12-04T03:57:12.733331Z"
    },
    "papermill": {
     "duration": 40.072114,
     "end_time": "2022-12-04T03:57:12.737271",
     "exception": false,
     "start_time": "2022-12-04T03:56:32.665157",
     "status": "completed"
    },
    "tags": []
   },
   "outputs": [
    {
     "data": {
      "application/vnd.jupyter.widget-view+json": {
       "model_id": "2b6c8b9dd6c84eeebeca31bcecf3f687",
       "version_major": 2,
       "version_minor": 0
      },
      "text/plain": [
       "Downloading:   0%|          | 0.00/360 [00:00<?, ?B/s]"
      ]
     },
     "metadata": {},
     "output_type": "display_data"
    },
    {
     "data": {
      "application/vnd.jupyter.widget-view+json": {
       "model_id": "561b589910644e638e960f56e863353c",
       "version_major": 2,
       "version_minor": 0
      },
      "text/plain": [
       "Downloading:   0%|          | 0.00/226k [00:00<?, ?B/s]"
      ]
     },
     "metadata": {},
     "output_type": "display_data"
    },
    {
     "data": {
      "application/vnd.jupyter.widget-view+json": {
       "model_id": "3a3f4c18181e457eaf1c8d819152d4ba",
       "version_major": 2,
       "version_minor": 0
      },
      "text/plain": [
       "Downloading:   0%|          | 0.00/695k [00:00<?, ?B/s]"
      ]
     },
     "metadata": {},
     "output_type": "display_data"
    },
    {
     "data": {
      "application/vnd.jupyter.widget-view+json": {
       "model_id": "217b33532a854126a2312bf547d9b51e",
       "version_major": 2,
       "version_minor": 0
      },
      "text/plain": [
       "Downloading:   0%|          | 0.00/125 [00:00<?, ?B/s]"
      ]
     },
     "metadata": {},
     "output_type": "display_data"
    },
    {
     "data": {
      "application/vnd.jupyter.widget-view+json": {
       "model_id": "815feb6d3b2046bbb70c6eef3969c5e6",
       "version_major": 2,
       "version_minor": 0
      },
      "text/plain": [
       "Downloading:   0%|          | 0.00/883 [00:00<?, ?B/s]"
      ]
     },
     "metadata": {},
     "output_type": "display_data"
    },
    {
     "data": {
      "application/vnd.jupyter.widget-view+json": {
       "model_id": "6e7791f84bbc4d3391d95ba6d97074a8",
       "version_major": 2,
       "version_minor": 0
      },
      "text/plain": [
       "Downloading:   0%|          | 0.00/255M [00:00<?, ?B/s]"
      ]
     },
     "metadata": {},
     "output_type": "display_data"
    },
    {
     "name": "stderr",
     "output_type": "stream",
     "text": [
      "Some weights of DistilBertForSequenceClassification were not initialized from the model checkpoint at gokuls/distilbert-emotion-intent and are newly initialized because the shapes did not match:\n",
      "- classifier.weight: found shape torch.Size([6, 768]) in the checkpoint and torch.Size([84, 768]) in the model instantiated\n",
      "- classifier.bias: found shape torch.Size([6]) in the checkpoint and torch.Size([84]) in the model instantiated\n",
      "You should probably TRAIN this model on a down-stream task to be able to use it for predictions and inference.\n"
     ]
    }
   ],
   "source": [
    "MODEL_NAME = \"gokuls/distilbert-emotion-intent\"\n",
    "MAX_LENGTH=15\n",
    "\n",
    "tokenizer = AutoTokenizer.from_pretrained(MODEL_NAME)\n",
    "model = AutoModelForSequenceClassification.from_pretrained(MODEL_NAME, num_labels=84, max_length=MAX_LENGTH, \n",
    "                                                           output_attentions=False, output_hidden_states=False, ignore_mismatched_sizes=True)"
   ]
  },
  {
   "cell_type": "markdown",
   "id": "e17df7c2",
   "metadata": {
    "papermill": {
     "duration": 0.008685,
     "end_time": "2022-12-04T03:57:12.755169",
     "exception": false,
     "start_time": "2022-12-04T03:57:12.746484",
     "status": "completed"
    },
    "tags": []
   },
   "source": [
    "This block lists our intents. Then it transfers each of the intents to a dictionary and ennumerates them so that they correspond to a given numerical value. Since we have 84 different observation classes, we will have a scale from 0 to 83 for our intent labels. You can see each of the labels and their corresponding numerical values listed below."
   ]
  },
  {
   "cell_type": "code",
   "execution_count": 5,
   "id": "599ed221",
   "metadata": {
    "execution": {
     "iopub.execute_input": "2022-12-04T03:57:12.773888Z",
     "iopub.status.busy": "2022-12-04T03:57:12.773460Z",
     "iopub.status.idle": "2022-12-04T03:57:12.789543Z",
     "shell.execute_reply": "2022-12-04T03:57:12.788380Z"
    },
    "papermill": {
     "duration": 0.029721,
     "end_time": "2022-12-04T03:57:12.792850",
     "exception": false,
     "start_time": "2022-12-04T03:57:12.763129",
     "status": "completed"
    },
    "tags": []
   },
   "outputs": [
    {
     "name": "stdout",
     "output_type": "stream",
     "text": [
      "{'smalltalk_agent_acquaintance': 0, 'smalltalk_agent_age': 1, 'smalltalk_agent_annoying': 2, 'smalltalk_agent_answer_my_question': 3, 'smalltalk_agent_bad': 4, 'smalltalk_agent_be_clever': 5, 'smalltalk_agent_beautiful': 6, 'smalltalk_agent_birth_date': 7, 'smalltalk_agent_boring': 8, 'smalltalk_agent_boss': 9, 'smalltalk_agent_busy': 10, 'smalltalk_agent_chatbot': 11, 'smalltalk_agent_clever': 12, 'smalltalk_agent_crazy': 13, 'smalltalk_agent_fired': 14, 'smalltalk_agent_funny': 15, 'smalltalk_agent_good': 16, 'smalltalk_agent_happy': 17, 'smalltalk_agent_hungry': 18, 'smalltalk_agent_marry_user': 19, 'smalltalk_agent_my_friend': 20, 'smalltalk_agent_occupation': 21, 'smalltalk_agent_origin': 22, 'smalltalk_agent_ready': 23, 'smalltalk_agent_real': 24, 'smalltalk_agent_residence': 25, 'smalltalk_agent_right': 26, 'smalltalk_confirmation_yes': 27, 'smalltalk_agent_sure': 28, 'smalltalk_agent_talk_to_me': 29, 'smalltalk_agent_there': 30, 'smalltalk_appraisal_bad': 31, 'smalltalk_appraisal_good': 32, 'smalltalk_appraisal_no_problem': 33, 'smalltalk_appraisal_thank_you': 34, 'smalltalk_appraisal_welcome': 35, 'smalltalk_appraisal_well_done': 36, 'smalltalk_confirmation_cancel': 37, 'smalltalk_confirmation_no': 38, 'smalltalk_dialog_hold_on': 39, 'smalltalk_dialog_hug': 40, 'smalltalk_dialog_i_do_not_care': 41, 'smalltalk_dialog_sorry': 42, 'smalltalk_dialog_what_do_you_mean': 43, 'smalltalk_dialog_wrong': 44, 'smalltalk_emotions_ha_ha': 45, 'smalltalk_emotions_wow': 46, 'smalltalk_greetings_bye': 47, 'smalltalk_greetings_goodevening': 48, 'smalltalk_greetings_goodmorning': 49, 'smalltalk_greetings_goodnight': 50, 'smalltalk_greetings_hello': 51, 'smalltalk_greetings_how_are_you': 52, 'smalltalk_greetings_nice_to_meet_you': 53, 'smalltalk_greetings_nice_to_see_you': 54, 'smalltalk_greetings_nice_to_talk_to_you': 55, 'smalltalk_greetings_whatsup': 56, 'smalltalk_user_angry': 57, 'smalltalk_user_back': 58, 'smalltalk_user_bored': 59, 'smalltalk_user_busy': 60, 'smalltalk_user_can_not_sleep': 61, 'smalltalk_user_does_not_want_to_talk': 62, 'smalltalk_user_excited': 63, 'smalltalk_user_going_to_bed': 64, 'smalltalk_user_good': 65, 'smalltalk_user_happy': 66, 'smalltalk_user_has_birthday': 67, 'smalltalk_user_here': 68, 'smalltalk_user_joking': 69, 'smalltalk_user_likes_agent': 70, 'smalltalk_user_lonely': 71, 'smalltalk_user_looks_like': 72, 'smalltalk_user_loves_agent': 73, 'smalltalk_user_misses_agent': 74, 'smalltalk_user_needs_advice': 75, 'smalltalk_user_sad': 76, 'smalltalk_user_sleepy': 77, 'smalltalk_user_testing_agent': 78, 'smalltalk_user_tired': 79, 'smalltalk_user_waits': 80, 'smalltalk_user_wants_to_see_agent_again': 81, 'smalltalk_user_wants_to_talk': 82, 'smalltalk_user_will_be_back': 83}\n",
      "{0: 'smalltalk_agent_acquaintance', 1: 'smalltalk_agent_age', 2: 'smalltalk_agent_annoying', 3: 'smalltalk_agent_answer_my_question', 4: 'smalltalk_agent_bad', 5: 'smalltalk_agent_be_clever', 6: 'smalltalk_agent_beautiful', 7: 'smalltalk_agent_birth_date', 8: 'smalltalk_agent_boring', 9: 'smalltalk_agent_boss', 10: 'smalltalk_agent_busy', 11: 'smalltalk_agent_chatbot', 12: 'smalltalk_agent_clever', 13: 'smalltalk_agent_crazy', 14: 'smalltalk_agent_fired', 15: 'smalltalk_agent_funny', 16: 'smalltalk_agent_good', 17: 'smalltalk_agent_happy', 18: 'smalltalk_agent_hungry', 19: 'smalltalk_agent_marry_user', 20: 'smalltalk_agent_my_friend', 21: 'smalltalk_agent_occupation', 22: 'smalltalk_agent_origin', 23: 'smalltalk_agent_ready', 24: 'smalltalk_agent_real', 25: 'smalltalk_agent_residence', 26: 'smalltalk_agent_right', 27: 'smalltalk_confirmation_yes', 28: 'smalltalk_agent_sure', 29: 'smalltalk_agent_talk_to_me', 30: 'smalltalk_agent_there', 31: 'smalltalk_appraisal_bad', 32: 'smalltalk_appraisal_good', 33: 'smalltalk_appraisal_no_problem', 34: 'smalltalk_appraisal_thank_you', 35: 'smalltalk_appraisal_welcome', 36: 'smalltalk_appraisal_well_done', 37: 'smalltalk_confirmation_cancel', 38: 'smalltalk_confirmation_no', 39: 'smalltalk_dialog_hold_on', 40: 'smalltalk_dialog_hug', 41: 'smalltalk_dialog_i_do_not_care', 42: 'smalltalk_dialog_sorry', 43: 'smalltalk_dialog_what_do_you_mean', 44: 'smalltalk_dialog_wrong', 45: 'smalltalk_emotions_ha_ha', 46: 'smalltalk_emotions_wow', 47: 'smalltalk_greetings_bye', 48: 'smalltalk_greetings_goodevening', 49: 'smalltalk_greetings_goodmorning', 50: 'smalltalk_greetings_goodnight', 51: 'smalltalk_greetings_hello', 52: 'smalltalk_greetings_how_are_you', 53: 'smalltalk_greetings_nice_to_meet_you', 54: 'smalltalk_greetings_nice_to_see_you', 55: 'smalltalk_greetings_nice_to_talk_to_you', 56: 'smalltalk_greetings_whatsup', 57: 'smalltalk_user_angry', 58: 'smalltalk_user_back', 59: 'smalltalk_user_bored', 60: 'smalltalk_user_busy', 61: 'smalltalk_user_can_not_sleep', 62: 'smalltalk_user_does_not_want_to_talk', 63: 'smalltalk_user_excited', 64: 'smalltalk_user_going_to_bed', 65: 'smalltalk_user_good', 66: 'smalltalk_user_happy', 67: 'smalltalk_user_has_birthday', 68: 'smalltalk_user_here', 69: 'smalltalk_user_joking', 70: 'smalltalk_user_likes_agent', 71: 'smalltalk_user_lonely', 72: 'smalltalk_user_looks_like', 73: 'smalltalk_user_loves_agent', 74: 'smalltalk_user_misses_agent', 75: 'smalltalk_user_needs_advice', 76: 'smalltalk_user_sad', 77: 'smalltalk_user_sleepy', 78: 'smalltalk_user_testing_agent', 79: 'smalltalk_user_tired', 80: 'smalltalk_user_waits', 81: 'smalltalk_user_wants_to_see_agent_again', 82: 'smalltalk_user_wants_to_talk', 83: 'smalltalk_user_will_be_back'}\n"
     ]
    }
   ],
   "source": [
    "classes = df.Intent.unique().tolist()\n",
    "class_tok2idx = dict((v, k) for k, v in enumerate(classes))\n",
    "class_idx2tok = dict((k, v) for k, v in enumerate(classes))\n",
    "print(class_tok2idx)\n",
    "print(class_idx2tok)"
   ]
  },
  {
   "cell_type": "markdown",
   "id": "728d0246",
   "metadata": {
    "papermill": {
     "duration": 0.008286,
     "end_time": "2022-12-04T03:57:12.810062",
     "exception": false,
     "start_time": "2022-12-04T03:57:12.801776",
     "status": "completed"
    },
    "tags": []
   },
   "source": [
    "Here is another check to make sure that our labels match the intents that they are supposed to."
   ]
  },
  {
   "cell_type": "code",
   "execution_count": 6,
   "id": "c6bdcb0e",
   "metadata": {
    "execution": {
     "iopub.execute_input": "2022-12-04T03:57:12.827584Z",
     "iopub.status.busy": "2022-12-04T03:57:12.827181Z",
     "iopub.status.idle": "2022-12-04T03:57:12.849552Z",
     "shell.execute_reply": "2022-12-04T03:57:12.848437Z"
    },
    "papermill": {
     "duration": 0.033926,
     "end_time": "2022-12-04T03:57:12.852056",
     "exception": false,
     "start_time": "2022-12-04T03:57:12.818130",
     "status": "completed"
    },
    "tags": []
   },
   "outputs": [
    {
     "data": {
      "text/html": [
       "<div>\n",
       "<style scoped>\n",
       "    .dataframe tbody tr th:only-of-type {\n",
       "        vertical-align: middle;\n",
       "    }\n",
       "\n",
       "    .dataframe tbody tr th {\n",
       "        vertical-align: top;\n",
       "    }\n",
       "\n",
       "    .dataframe thead th {\n",
       "        text-align: right;\n",
       "    }\n",
       "</style>\n",
       "<table border=\"1\" class=\"dataframe\">\n",
       "  <thead>\n",
       "    <tr style=\"text-align: right;\">\n",
       "      <th></th>\n",
       "      <th>Utterances</th>\n",
       "      <th>Intent</th>\n",
       "      <th>label</th>\n",
       "    </tr>\n",
       "  </thead>\n",
       "  <tbody>\n",
       "    <tr>\n",
       "      <th>0</th>\n",
       "      <td>who are you?</td>\n",
       "      <td>smalltalk_agent_acquaintance</td>\n",
       "      <td>0</td>\n",
       "    </tr>\n",
       "    <tr>\n",
       "      <th>1</th>\n",
       "      <td>all about you</td>\n",
       "      <td>smalltalk_agent_acquaintance</td>\n",
       "      <td>0</td>\n",
       "    </tr>\n",
       "    <tr>\n",
       "      <th>2</th>\n",
       "      <td>what is your personality</td>\n",
       "      <td>smalltalk_agent_acquaintance</td>\n",
       "      <td>0</td>\n",
       "    </tr>\n",
       "    <tr>\n",
       "      <th>3</th>\n",
       "      <td>define yourself</td>\n",
       "      <td>smalltalk_agent_acquaintance</td>\n",
       "      <td>0</td>\n",
       "    </tr>\n",
       "    <tr>\n",
       "      <th>4</th>\n",
       "      <td>what are you</td>\n",
       "      <td>smalltalk_agent_acquaintance</td>\n",
       "      <td>0</td>\n",
       "    </tr>\n",
       "  </tbody>\n",
       "</table>\n",
       "</div>"
      ],
      "text/plain": [
       "                 Utterances                        Intent  label\n",
       "0              who are you?  smalltalk_agent_acquaintance      0\n",
       "1             all about you  smalltalk_agent_acquaintance      0\n",
       "2  what is your personality  smalltalk_agent_acquaintance      0\n",
       "3           define yourself  smalltalk_agent_acquaintance      0\n",
       "4              what are you  smalltalk_agent_acquaintance      0"
      ]
     },
     "execution_count": 6,
     "metadata": {},
     "output_type": "execute_result"
    }
   ],
   "source": [
    "df['label'] = df['Intent'].apply(lambda x: class_tok2idx[x])\n",
    "df.head()"
   ]
  },
  {
   "cell_type": "markdown",
   "id": "365dfb10",
   "metadata": {
    "papermill": {
     "duration": 0.008093,
     "end_time": "2022-12-04T03:57:12.868698",
     "exception": false,
     "start_time": "2022-12-04T03:57:12.860605",
     "status": "completed"
    },
    "tags": []
   },
   "source": [
    "This is a sample of what our model will see when training on the data."
   ]
  },
  {
   "cell_type": "code",
   "execution_count": 7,
   "id": "990ffd56",
   "metadata": {
    "execution": {
     "iopub.execute_input": "2022-12-04T03:57:12.886153Z",
     "iopub.status.busy": "2022-12-04T03:57:12.885758Z",
     "iopub.status.idle": "2022-12-04T03:57:12.917880Z",
     "shell.execute_reply": "2022-12-04T03:57:12.916877Z"
    },
    "papermill": {
     "duration": 0.043663,
     "end_time": "2022-12-04T03:57:12.920516",
     "exception": false,
     "start_time": "2022-12-04T03:57:12.876853",
     "status": "completed"
    },
    "tags": []
   },
   "outputs": [
    {
     "data": {
      "text/plain": [
       "{'label': 0, 'Utterances': 'who are you?'}"
      ]
     },
     "execution_count": 7,
     "metadata": {},
     "output_type": "execute_result"
    }
   ],
   "source": [
    "ds_raw = Dataset.from_pandas(df[['label','Utterances']])\n",
    "ds_raw[0]"
   ]
  },
  {
   "cell_type": "markdown",
   "id": "0ab1b227",
   "metadata": {
    "papermill": {
     "duration": 0.007977,
     "end_time": "2022-12-04T03:57:12.937254",
     "exception": false,
     "start_time": "2022-12-04T03:57:12.929277",
     "status": "completed"
    },
    "tags": []
   },
   "source": [
    "The tokenize_function below tokenizes and maps all of the observations so that our ds dataset has an attention_mask and input_ids for each observation."
   ]
  },
  {
   "cell_type": "code",
   "execution_count": 8,
   "id": "0a047e87",
   "metadata": {
    "execution": {
     "iopub.execute_input": "2022-12-04T03:57:12.955567Z",
     "iopub.status.busy": "2022-12-04T03:57:12.955231Z",
     "iopub.status.idle": "2022-12-04T03:57:13.148683Z",
     "shell.execute_reply": "2022-12-04T03:57:13.147564Z"
    },
    "papermill": {
     "duration": 0.205226,
     "end_time": "2022-12-04T03:57:13.150731",
     "exception": false,
     "start_time": "2022-12-04T03:57:12.945505",
     "status": "completed"
    },
    "tags": []
   },
   "outputs": [
    {
     "data": {
      "application/vnd.jupyter.widget-view+json": {
       "model_id": "b3da96c888234a3b89febb4180c38633",
       "version_major": 2,
       "version_minor": 0
      },
      "text/plain": [
       "  0%|          | 0/3 [00:00<?, ?ba/s]"
      ]
     },
     "metadata": {},
     "output_type": "display_data"
    }
   ],
   "source": [
    "def tokenize_function(examples):\n",
    "    return tokenizer(examples[\"Utterances\"], padding=\"max_length\", truncation=True, max_length=MAX_LENGTH)\n",
    "\n",
    "ds = ds_raw.map(tokenize_function, batched=True)"
   ]
  },
  {
   "cell_type": "code",
   "execution_count": 9,
   "id": "fabc8810",
   "metadata": {
    "execution": {
     "iopub.execute_input": "2022-12-04T03:57:13.165379Z",
     "iopub.status.busy": "2022-12-04T03:57:13.163827Z",
     "iopub.status.idle": "2022-12-04T03:57:13.172304Z",
     "shell.execute_reply": "2022-12-04T03:57:13.171398Z"
    },
    "papermill": {
     "duration": 0.017473,
     "end_time": "2022-12-04T03:57:13.174291",
     "exception": false,
     "start_time": "2022-12-04T03:57:13.156818",
     "status": "completed"
    },
    "tags": []
   },
   "outputs": [
    {
     "data": {
      "text/plain": [
       "{'label': 0,\n",
       " 'Utterances': 'who are you?',\n",
       " 'input_ids': [101, 2040, 2024, 2017, 1029, 102, 0, 0, 0, 0, 0, 0, 0, 0, 0],\n",
       " 'attention_mask': [1, 1, 1, 1, 1, 1, 0, 0, 0, 0, 0, 0, 0, 0, 0]}"
      ]
     },
     "execution_count": 9,
     "metadata": {},
     "output_type": "execute_result"
    }
   ],
   "source": [
    "ds[0]"
   ]
  },
  {
   "cell_type": "markdown",
   "id": "e6c9cce5",
   "metadata": {
    "papermill": {
     "duration": 0.006138,
     "end_time": "2022-12-04T03:57:13.186390",
     "exception": false,
     "start_time": "2022-12-04T03:57:13.180252",
     "status": "completed"
    },
    "tags": []
   },
   "source": [
    "At this point, we can shuffle the data so that we can split it into training and validation data. We check the first observation to make sure that the data is shuffled and we will know this if we see a new observation than the one above. "
   ]
  },
  {
   "cell_type": "code",
   "execution_count": 10,
   "id": "6452c695",
   "metadata": {
    "execution": {
     "iopub.execute_input": "2022-12-04T03:57:13.199912Z",
     "iopub.status.busy": "2022-12-04T03:57:13.199640Z",
     "iopub.status.idle": "2022-12-04T03:57:13.211115Z",
     "shell.execute_reply": "2022-12-04T03:57:13.210181Z"
    },
    "papermill": {
     "duration": 0.02008,
     "end_time": "2022-12-04T03:57:13.212969",
     "exception": false,
     "start_time": "2022-12-04T03:57:13.192889",
     "status": "completed"
    },
    "tags": []
   },
   "outputs": [
    {
     "data": {
      "text/plain": [
       "{'label': 57,\n",
       " 'Utterances': \"i'm mad about this\",\n",
       " 'input_ids': [101,\n",
       "  1045,\n",
       "  1005,\n",
       "  1049,\n",
       "  5506,\n",
       "  2055,\n",
       "  2023,\n",
       "  102,\n",
       "  0,\n",
       "  0,\n",
       "  0,\n",
       "  0,\n",
       "  0,\n",
       "  0,\n",
       "  0],\n",
       " 'attention_mask': [1, 1, 1, 1, 1, 1, 1, 1, 0, 0, 0, 0, 0, 0, 0]}"
      ]
     },
     "execution_count": 10,
     "metadata": {},
     "output_type": "execute_result"
    }
   ],
   "source": [
    "ds = ds.shuffle(seed=42)\n",
    "ds[0]"
   ]
  },
  {
   "cell_type": "markdown",
   "id": "64ea3fb1",
   "metadata": {
    "papermill": {
     "duration": 0.006367,
     "end_time": "2022-12-04T03:57:13.225400",
     "exception": false,
     "start_time": "2022-12-04T03:57:13.219033",
     "status": "completed"
    },
    "tags": []
   },
   "source": [
    "Below, we split the data so that 85% of it becomes the training for the distilbert-emotion-intent model and the other 15% will be used as a validation set to see how well the model predicts the small talk intent of each phrase. "
   ]
  },
  {
   "cell_type": "code",
   "execution_count": 11,
   "id": "ae4bf388",
   "metadata": {
    "execution": {
     "iopub.execute_input": "2022-12-04T03:57:13.240615Z",
     "iopub.status.busy": "2022-12-04T03:57:13.239760Z",
     "iopub.status.idle": "2022-12-04T03:57:13.249485Z",
     "shell.execute_reply": "2022-12-04T03:57:13.248549Z"
    },
    "papermill": {
     "duration": 0.019595,
     "end_time": "2022-12-04T03:57:13.251618",
     "exception": false,
     "start_time": "2022-12-04T03:57:13.232023",
     "status": "completed"
    },
    "tags": []
   },
   "outputs": [],
   "source": [
    "train_prop = 0.85\n",
    "ds_train = ds.select(range(int(len(ds)*train_prop)))\n",
    "ds_eval = ds.select(range(int(len(ds)*train_prop), len(ds)))"
   ]
  },
  {
   "cell_type": "code",
   "execution_count": 12,
   "id": "6ce36636",
   "metadata": {
    "execution": {
     "iopub.execute_input": "2022-12-04T03:57:13.266531Z",
     "iopub.status.busy": "2022-12-04T03:57:13.265652Z",
     "iopub.status.idle": "2022-12-04T03:57:13.272258Z",
     "shell.execute_reply": "2022-12-04T03:57:13.270677Z"
    },
    "papermill": {
     "duration": 0.016699,
     "end_time": "2022-12-04T03:57:13.275054",
     "exception": false,
     "start_time": "2022-12-04T03:57:13.258355",
     "status": "completed"
    },
    "tags": []
   },
   "outputs": [
    {
     "name": "stdout",
     "output_type": "stream",
     "text": [
      "len(ds_train) = 2164\n",
      "len(ds_eval) = 383\n"
     ]
    }
   ],
   "source": [
    "print(f\"len(ds_train) = {len(ds_train)}\")\n",
    "print(f\"len(ds_eval) = {len(ds_eval)}\")"
   ]
  },
  {
   "cell_type": "markdown",
   "id": "50d44f31",
   "metadata": {
    "papermill": {
     "duration": 0.006545,
     "end_time": "2022-12-04T03:57:13.288514",
     "exception": false,
     "start_time": "2022-12-04T03:57:13.281969",
     "status": "completed"
    },
    "tags": []
   },
   "source": [
    "Finally, we can train the model on the data. The metric we will be using to measure the model will be accuracy. This is the most feasible one we can use with a classification problem like this one. I will be testing multiple different batch sizes and number of epochs to see which will yield the most accurate results with the least amount of loss."
   ]
  },
  {
   "cell_type": "code",
   "execution_count": 13,
   "id": "f96da1fc",
   "metadata": {
    "execution": {
     "iopub.execute_input": "2022-12-04T03:57:13.303267Z",
     "iopub.status.busy": "2022-12-04T03:57:13.302503Z",
     "iopub.status.idle": "2022-12-04T03:57:13.307408Z",
     "shell.execute_reply": "2022-12-04T03:57:13.306487Z"
    },
    "papermill": {
     "duration": 0.014274,
     "end_time": "2022-12-04T03:57:13.309377",
     "exception": false,
     "start_time": "2022-12-04T03:57:13.295103",
     "status": "completed"
    },
    "tags": []
   },
   "outputs": [],
   "source": [
    "import os\n",
    "os.environ[\"WANDB_DISABLED\"] = \"true\""
   ]
  },
  {
   "cell_type": "code",
   "execution_count": 14,
   "id": "da2809ee",
   "metadata": {
    "execution": {
     "iopub.execute_input": "2022-12-04T03:57:13.324006Z",
     "iopub.status.busy": "2022-12-04T03:57:13.323234Z",
     "iopub.status.idle": "2022-12-04T03:58:21.422556Z",
     "shell.execute_reply": "2022-12-04T03:58:21.421615Z"
    },
    "papermill": {
     "duration": 68.108488,
     "end_time": "2022-12-04T03:58:21.424503",
     "exception": false,
     "start_time": "2022-12-04T03:57:13.316015",
     "status": "completed"
    },
    "tags": []
   },
   "outputs": [
    {
     "data": {
      "application/vnd.jupyter.widget-view+json": {
       "model_id": "6982f88b3b414148a18f278a534c6908",
       "version_major": 2,
       "version_minor": 0
      },
      "text/plain": [
       "Downloading builder script:   0%|          | 0.00/1.41k [00:00<?, ?B/s]"
      ]
     },
     "metadata": {},
     "output_type": "display_data"
    },
    {
     "name": "stderr",
     "output_type": "stream",
     "text": [
      "Using the `WAND_DISABLED` environment variable is deprecated and will be removed in v5. Use the --report_to flag to control the integrations used for logging result (for instance --report_to none).\n",
      "The following columns in the training set don't have a corresponding argument in `DistilBertForSequenceClassification.forward` and have been ignored: Utterances. If Utterances are not expected by `DistilBertForSequenceClassification.forward`,  you can safely ignore this message.\n",
      "/opt/conda/lib/python3.7/site-packages/transformers/optimization.py:310: FutureWarning: This implementation of AdamW is deprecated and will be removed in a future version. Use the PyTorch implementation torch.optim.AdamW instead, or set `no_deprecation_warning=True` to disable this warning\n",
      "  FutureWarning,\n",
      "***** Running training *****\n",
      "  Num examples = 2164\n",
      "  Num Epochs = 8\n",
      "  Instantaneous batch size per device = 10\n",
      "  Total train batch size (w. parallel, distributed & accumulation) = 10\n",
      "  Gradient Accumulation steps = 1\n",
      "  Total optimization steps = 1736\n"
     ]
    },
    {
     "data": {
      "text/html": [
       "\n",
       "    <div>\n",
       "      \n",
       "      <progress value='1736' max='1736' style='width:300px; height:20px; vertical-align: middle;'></progress>\n",
       "      [1736/1736 01:00, Epoch 8/8]\n",
       "    </div>\n",
       "    <table border=\"1\" class=\"dataframe\">\n",
       "  <thead>\n",
       " <tr style=\"text-align: left;\">\n",
       "      <th>Step</th>\n",
       "      <th>Training Loss</th>\n",
       "      <th>Validation Loss</th>\n",
       "      <th>Accuracy</th>\n",
       "    </tr>\n",
       "  </thead>\n",
       "  <tbody>\n",
       "    <tr>\n",
       "      <td>500</td>\n",
       "      <td>2.247300</td>\n",
       "      <td>0.866691</td>\n",
       "      <td>0.856397</td>\n",
       "    </tr>\n",
       "    <tr>\n",
       "      <td>1000</td>\n",
       "      <td>0.395600</td>\n",
       "      <td>0.413502</td>\n",
       "      <td>0.911227</td>\n",
       "    </tr>\n",
       "    <tr>\n",
       "      <td>1500</td>\n",
       "      <td>0.095700</td>\n",
       "      <td>0.380718</td>\n",
       "      <td>0.924282</td>\n",
       "    </tr>\n",
       "  </tbody>\n",
       "</table><p>"
      ],
      "text/plain": [
       "<IPython.core.display.HTML object>"
      ]
     },
     "metadata": {},
     "output_type": "display_data"
    },
    {
     "name": "stderr",
     "output_type": "stream",
     "text": [
      "The following columns in the evaluation set don't have a corresponding argument in `DistilBertForSequenceClassification.forward` and have been ignored: Utterances. If Utterances are not expected by `DistilBertForSequenceClassification.forward`,  you can safely ignore this message.\n",
      "***** Running Evaluation *****\n",
      "  Num examples = 383\n",
      "  Batch size = 10\n",
      "Saving model checkpoint to /kaggle/working/checkpoint-500\n",
      "Configuration saved in /kaggle/working/checkpoint-500/config.json\n",
      "Model weights saved in /kaggle/working/checkpoint-500/pytorch_model.bin\n",
      "The following columns in the evaluation set don't have a corresponding argument in `DistilBertForSequenceClassification.forward` and have been ignored: Utterances. If Utterances are not expected by `DistilBertForSequenceClassification.forward`,  you can safely ignore this message.\n",
      "***** Running Evaluation *****\n",
      "  Num examples = 383\n",
      "  Batch size = 10\n",
      "Saving model checkpoint to /kaggle/working/checkpoint-1000\n",
      "Configuration saved in /kaggle/working/checkpoint-1000/config.json\n",
      "Model weights saved in /kaggle/working/checkpoint-1000/pytorch_model.bin\n",
      "The following columns in the evaluation set don't have a corresponding argument in `DistilBertForSequenceClassification.forward` and have been ignored: Utterances. If Utterances are not expected by `DistilBertForSequenceClassification.forward`,  you can safely ignore this message.\n",
      "***** Running Evaluation *****\n",
      "  Num examples = 383\n",
      "  Batch size = 10\n",
      "Saving model checkpoint to /kaggle/working/checkpoint-1500\n",
      "Configuration saved in /kaggle/working/checkpoint-1500/config.json\n",
      "Model weights saved in /kaggle/working/checkpoint-1500/pytorch_model.bin\n",
      "\n",
      "\n",
      "Training completed. Do not forget to share your model on huggingface.co/models =)\n",
      "\n",
      "\n",
      "The following columns in the evaluation set don't have a corresponding argument in `DistilBertForSequenceClassification.forward` and have been ignored: Utterances. If Utterances are not expected by `DistilBertForSequenceClassification.forward`,  you can safely ignore this message.\n",
      "***** Running Evaluation *****\n",
      "  Num examples = 383\n",
      "  Batch size = 10\n"
     ]
    },
    {
     "data": {
      "text/html": [
       "\n",
       "    <div>\n",
       "      \n",
       "      <progress value='39' max='39' style='width:300px; height:20px; vertical-align: middle;'></progress>\n",
       "      [39/39 00:00]\n",
       "    </div>\n",
       "    "
      ],
      "text/plain": [
       "<IPython.core.display.HTML object>"
      ]
     },
     "metadata": {},
     "output_type": "display_data"
    },
    {
     "data": {
      "text/plain": [
       "{'eval_loss': 0.3697599768638611,\n",
       " 'eval_accuracy': 0.9242819843342036,\n",
       " 'eval_runtime': 0.3272,\n",
       " 'eval_samples_per_second': 1170.418,\n",
       " 'eval_steps_per_second': 119.181,\n",
       " 'epoch': 8.0}"
      ]
     },
     "execution_count": 14,
     "metadata": {},
     "output_type": "execute_result"
    }
   ],
   "source": [
    "metric = load_metric(\"accuracy\")\n",
    "\n",
    "def compute_metrics(eval_pred):\n",
    "    logits, labels = eval_pred\n",
    "    predictions = np.argmax(logits, axis=-1)\n",
    "    return metric.compute(predictions=predictions, references=labels)\n",
    "\n",
    "training_args = TrainingArguments(num_train_epochs=8, \n",
    "                                  do_train=True,\n",
    "                                  report_to=None,\n",
    "                                  output_dir=\"/kaggle/working\",\n",
    "                                  evaluation_strategy=\"steps\",\n",
    "                                  eval_steps=500,\n",
    "                                  per_device_train_batch_size=10,\n",
    "                                  per_device_eval_batch_size=10)\n",
    "\n",
    "trainer = Trainer(model = model, \n",
    "                  args = training_args,\n",
    "                  train_dataset = ds_train, \n",
    "                  eval_dataset = ds_eval,\n",
    "                  compute_metrics = compute_metrics,\n",
    ")\n",
    "\n",
    "torch.set_grad_enabled(True)\n",
    "trainer.train()\n",
    "trainer.evaluate()"
   ]
  },
  {
   "cell_type": "markdown",
   "id": "b839d2e2",
   "metadata": {
    "papermill": {
     "duration": 0.008202,
     "end_time": "2022-12-04T03:58:21.441619",
     "exception": false,
     "start_time": "2022-12-04T03:58:21.433417",
     "status": "completed"
    },
    "tags": []
   },
   "source": [
    "Above you can see the most accurate settings for the distilbert-emotion-intent model on the small talk intent data. We yielded a 92.95% accuracy using 8 epochs and a batch size of 10. The table picture below shows all of the other epoch and batch sizes I tested to come to this conclusion. I am a bit surprised by this result, because of the difference in the number of observations classes between the data the model was trained versus the data I used. Although I do believe the results are accurate and make sense, because the core problem is pretty similiar between the two datasets so its probably not that big of a jump to go from using 6 observation classes to 84 for a deep learning model like distilbert-emotion-intent.  "
   ]
  },
  {
   "cell_type": "markdown",
   "id": "309344ba",
   "metadata": {
    "papermill": {
     "duration": 0.008193,
     "end_time": "2022-12-04T03:58:21.458314",
     "exception": false,
     "start_time": "2022-12-04T03:58:21.450121",
     "status": "completed"
    },
    "tags": []
   },
   "source": [
    "![This will be the table of results.](https://drive.google.com/file/d/1-5t6MPbu3Fqkn8j5-3BmUdrDWFX1imhd/view?usp=sharing)"
   ]
  }
 ],
 "metadata": {
  "kernelspec": {
   "display_name": "Python 3",
   "language": "python",
   "name": "python3"
  },
  "language_info": {
   "codemirror_mode": {
    "name": "ipython",
    "version": 3
   },
   "file_extension": ".py",
   "mimetype": "text/x-python",
   "name": "python",
   "nbconvert_exporter": "python",
   "pygments_lexer": "ipython3",
   "version": "3.7.12"
  },
  "papermill": {
   "default_parameters": {},
   "duration": 127.394027,
   "end_time": "2022-12-04T03:58:24.828891",
   "environment_variables": {},
   "exception": null,
   "input_path": "__notebook__.ipynb",
   "output_path": "__notebook__.ipynb",
   "parameters": {},
   "start_time": "2022-12-04T03:56:17.434864",
   "version": "2.3.4"
  },
  "widgets": {
   "application/vnd.jupyter.widget-state+json": {
    "state": {
     "000c725026c94bd98b39986d2557e4b5": {
      "model_module": "@jupyter-widgets/controls",
      "model_module_version": "1.5.0",
      "model_name": "HTMLModel",
      "state": {
       "_dom_classes": [],
       "_model_module": "@jupyter-widgets/controls",
       "_model_module_version": "1.5.0",
       "_model_name": "HTMLModel",
       "_view_count": null,
       "_view_module": "@jupyter-widgets/controls",
       "_view_module_version": "1.5.0",
       "_view_name": "HTMLView",
       "description": "",
       "description_tooltip": null,
       "layout": "IPY_MODEL_b276d5d76c9b4d6bab66b9d48df38350",
       "placeholder": "​",
       "style": "IPY_MODEL_35c861990ce64131886456b5fb25d84d",
       "value": "Downloading: 100%"
      }
     },
     "016acf6c89414842878e80fc4d119f09": {
      "model_module": "@jupyter-widgets/base",
      "model_module_version": "1.2.0",
      "model_name": "LayoutModel",
      "state": {
       "_model_module": "@jupyter-widgets/base",
       "_model_module_version": "1.2.0",
       "_model_name": "LayoutModel",
       "_view_count": null,
       "_view_module": "@jupyter-widgets/base",
       "_view_module_version": "1.2.0",
       "_view_name": "LayoutView",
       "align_content": null,
       "align_items": null,
       "align_self": null,
       "border": null,
       "bottom": null,
       "display": null,
       "flex": null,
       "flex_flow": null,
       "grid_area": null,
       "grid_auto_columns": null,
       "grid_auto_flow": null,
       "grid_auto_rows": null,
       "grid_column": null,
       "grid_gap": null,
       "grid_row": null,
       "grid_template_areas": null,
       "grid_template_columns": null,
       "grid_template_rows": null,
       "height": null,
       "justify_content": null,
       "justify_items": null,
       "left": null,
       "margin": null,
       "max_height": null,
       "max_width": null,
       "min_height": null,
       "min_width": null,
       "object_fit": null,
       "object_position": null,
       "order": null,
       "overflow": null,
       "overflow_x": null,
       "overflow_y": null,
       "padding": null,
       "right": null,
       "top": null,
       "visibility": null,
       "width": null
      }
     },
     "045f8a6218f94f46aa6fcb2acaa90151": {
      "model_module": "@jupyter-widgets/controls",
      "model_module_version": "1.5.0",
      "model_name": "FloatProgressModel",
      "state": {
       "_dom_classes": [],
       "_model_module": "@jupyter-widgets/controls",
       "_model_module_version": "1.5.0",
       "_model_name": "FloatProgressModel",
       "_view_count": null,
       "_view_module": "@jupyter-widgets/controls",
       "_view_module_version": "1.5.0",
       "_view_name": "ProgressView",
       "bar_style": "success",
       "description": "",
       "description_tooltip": null,
       "layout": "IPY_MODEL_37e7b39e661d4373b209286b2185e12d",
       "max": 125.0,
       "min": 0.0,
       "orientation": "horizontal",
       "style": "IPY_MODEL_48a8ee730b184b10b9a4982c281e545a",
       "value": 125.0
      }
     },
     "0a5e022a99024bc4abcfea161377523f": {
      "model_module": "@jupyter-widgets/controls",
      "model_module_version": "1.5.0",
      "model_name": "ProgressStyleModel",
      "state": {
       "_model_module": "@jupyter-widgets/controls",
       "_model_module_version": "1.5.0",
       "_model_name": "ProgressStyleModel",
       "_view_count": null,
       "_view_module": "@jupyter-widgets/base",
       "_view_module_version": "1.2.0",
       "_view_name": "StyleView",
       "bar_color": null,
       "description_width": ""
      }
     },
     "0f5ec68413a54785a8228ec150d1c6bb": {
      "model_module": "@jupyter-widgets/controls",
      "model_module_version": "1.5.0",
      "model_name": "HTMLModel",
      "state": {
       "_dom_classes": [],
       "_model_module": "@jupyter-widgets/controls",
       "_model_module_version": "1.5.0",
       "_model_name": "HTMLModel",
       "_view_count": null,
       "_view_module": "@jupyter-widgets/controls",
       "_view_module_version": "1.5.0",
       "_view_name": "HTMLView",
       "description": "",
       "description_tooltip": null,
       "layout": "IPY_MODEL_df1b0be5b2594bfda5c8028859ae1fd2",
       "placeholder": "​",
       "style": "IPY_MODEL_6163ae5081344e92880f238efa6566ea",
       "value": " 3.19k/? [00:00&lt;00:00, 125kB/s]"
      }
     },
     "1191f8d3a80b4e16a45008230a698ed0": {
      "model_module": "@jupyter-widgets/controls",
      "model_module_version": "1.5.0",
      "model_name": "DescriptionStyleModel",
      "state": {
       "_model_module": "@jupyter-widgets/controls",
       "_model_module_version": "1.5.0",
       "_model_name": "DescriptionStyleModel",
       "_view_count": null,
       "_view_module": "@jupyter-widgets/base",
       "_view_module_version": "1.2.0",
       "_view_name": "StyleView",
       "description_width": ""
      }
     },
     "1228e6741d034550968d3f8b45440565": {
      "model_module": "@jupyter-widgets/base",
      "model_module_version": "1.2.0",
      "model_name": "LayoutModel",
      "state": {
       "_model_module": "@jupyter-widgets/base",
       "_model_module_version": "1.2.0",
       "_model_name": "LayoutModel",
       "_view_count": null,
       "_view_module": "@jupyter-widgets/base",
       "_view_module_version": "1.2.0",
       "_view_name": "LayoutView",
       "align_content": null,
       "align_items": null,
       "align_self": null,
       "border": null,
       "bottom": null,
       "display": null,
       "flex": null,
       "flex_flow": null,
       "grid_area": null,
       "grid_auto_columns": null,
       "grid_auto_flow": null,
       "grid_auto_rows": null,
       "grid_column": null,
       "grid_gap": null,
       "grid_row": null,
       "grid_template_areas": null,
       "grid_template_columns": null,
       "grid_template_rows": null,
       "height": null,
       "justify_content": null,
       "justify_items": null,
       "left": null,
       "margin": null,
       "max_height": null,
       "max_width": null,
       "min_height": null,
       "min_width": null,
       "object_fit": null,
       "object_position": null,
       "order": null,
       "overflow": null,
       "overflow_x": null,
       "overflow_y": null,
       "padding": null,
       "right": null,
       "top": null,
       "visibility": null,
       "width": null
      }
     },
     "13c2602640ae434cae047807dea4483d": {
      "model_module": "@jupyter-widgets/controls",
      "model_module_version": "1.5.0",
      "model_name": "HTMLModel",
      "state": {
       "_dom_classes": [],
       "_model_module": "@jupyter-widgets/controls",
       "_model_module_version": "1.5.0",
       "_model_name": "HTMLModel",
       "_view_count": null,
       "_view_module": "@jupyter-widgets/controls",
       "_view_module_version": "1.5.0",
       "_view_name": "HTMLView",
       "description": "",
       "description_tooltip": null,
       "layout": "IPY_MODEL_249aaac9c81e44c1aae8b8a45900cbd3",
       "placeholder": "​",
       "style": "IPY_MODEL_1191f8d3a80b4e16a45008230a698ed0",
       "value": "Downloading: 100%"
      }
     },
     "1535ebc5ea9c437aa28397425300c65d": {
      "model_module": "@jupyter-widgets/controls",
      "model_module_version": "1.5.0",
      "model_name": "FloatProgressModel",
      "state": {
       "_dom_classes": [],
       "_model_module": "@jupyter-widgets/controls",
       "_model_module_version": "1.5.0",
       "_model_name": "FloatProgressModel",
       "_view_count": null,
       "_view_module": "@jupyter-widgets/controls",
       "_view_module_version": "1.5.0",
       "_view_name": "ProgressView",
       "bar_style": "success",
       "description": "",
       "description_tooltip": null,
       "layout": "IPY_MODEL_221a9e430d2b402f8c6a229ec215b50d",
       "max": 1411.0,
       "min": 0.0,
       "orientation": "horizontal",
       "style": "IPY_MODEL_a23f11549d3f47729d607024a40e4155",
       "value": 1411.0
      }
     },
     "166e3ffa87ce455084cacc87b1473422": {
      "model_module": "@jupyter-widgets/controls",
      "model_module_version": "1.5.0",
      "model_name": "DescriptionStyleModel",
      "state": {
       "_model_module": "@jupyter-widgets/controls",
       "_model_module_version": "1.5.0",
       "_model_name": "DescriptionStyleModel",
       "_view_count": null,
       "_view_module": "@jupyter-widgets/base",
       "_view_module_version": "1.2.0",
       "_view_name": "StyleView",
       "description_width": ""
      }
     },
     "183ca7fdc8a74ee384f20a3eea77bfe0": {
      "model_module": "@jupyter-widgets/controls",
      "model_module_version": "1.5.0",
      "model_name": "DescriptionStyleModel",
      "state": {
       "_model_module": "@jupyter-widgets/controls",
       "_model_module_version": "1.5.0",
       "_model_name": "DescriptionStyleModel",
       "_view_count": null,
       "_view_module": "@jupyter-widgets/base",
       "_view_module_version": "1.2.0",
       "_view_name": "StyleView",
       "description_width": ""
      }
     },
     "185cf0bac6ac4df7a13fd8a88edfdaeb": {
      "model_module": "@jupyter-widgets/controls",
      "model_module_version": "1.5.0",
      "model_name": "HTMLModel",
      "state": {
       "_dom_classes": [],
       "_model_module": "@jupyter-widgets/controls",
       "_model_module_version": "1.5.0",
       "_model_name": "HTMLModel",
       "_view_count": null,
       "_view_module": "@jupyter-widgets/controls",
       "_view_module_version": "1.5.0",
       "_view_name": "HTMLView",
       "description": "",
       "description_tooltip": null,
       "layout": "IPY_MODEL_3b21250ad3e5409092def80eeda9fa34",
       "placeholder": "​",
       "style": "IPY_MODEL_31a31e433ad04ebcadcbfe0263e683cc",
       "value": "Downloading: 100%"
      }
     },
     "1e22866d70dc4f5aa28117ce7e44b2fe": {
      "model_module": "@jupyter-widgets/controls",
      "model_module_version": "1.5.0",
      "model_name": "HTMLModel",
      "state": {
       "_dom_classes": [],
       "_model_module": "@jupyter-widgets/controls",
       "_model_module_version": "1.5.0",
       "_model_name": "HTMLModel",
       "_view_count": null,
       "_view_module": "@jupyter-widgets/controls",
       "_view_module_version": "1.5.0",
       "_view_name": "HTMLView",
       "description": "",
       "description_tooltip": null,
       "layout": "IPY_MODEL_bd6f72128a934c8290e374dda810ae83",
       "placeholder": "​",
       "style": "IPY_MODEL_166e3ffa87ce455084cacc87b1473422",
       "value": " 360/360 [00:00&lt;00:00, 13.8kB/s]"
      }
     },
     "217b33532a854126a2312bf547d9b51e": {
      "model_module": "@jupyter-widgets/controls",
      "model_module_version": "1.5.0",
      "model_name": "HBoxModel",
      "state": {
       "_dom_classes": [],
       "_model_module": "@jupyter-widgets/controls",
       "_model_module_version": "1.5.0",
       "_model_name": "HBoxModel",
       "_view_count": null,
       "_view_module": "@jupyter-widgets/controls",
       "_view_module_version": "1.5.0",
       "_view_name": "HBoxView",
       "box_style": "",
       "children": [
        "IPY_MODEL_13c2602640ae434cae047807dea4483d",
        "IPY_MODEL_045f8a6218f94f46aa6fcb2acaa90151",
        "IPY_MODEL_6177fed37ef7460a868a5b888e907c4a"
       ],
       "layout": "IPY_MODEL_de1f4bc2be6244e3be9bbf6e7021ff12"
      }
     },
     "221a9e430d2b402f8c6a229ec215b50d": {
      "model_module": "@jupyter-widgets/base",
      "model_module_version": "1.2.0",
      "model_name": "LayoutModel",
      "state": {
       "_model_module": "@jupyter-widgets/base",
       "_model_module_version": "1.2.0",
       "_model_name": "LayoutModel",
       "_view_count": null,
       "_view_module": "@jupyter-widgets/base",
       "_view_module_version": "1.2.0",
       "_view_name": "LayoutView",
       "align_content": null,
       "align_items": null,
       "align_self": null,
       "border": null,
       "bottom": null,
       "display": null,
       "flex": null,
       "flex_flow": null,
       "grid_area": null,
       "grid_auto_columns": null,
       "grid_auto_flow": null,
       "grid_auto_rows": null,
       "grid_column": null,
       "grid_gap": null,
       "grid_row": null,
       "grid_template_areas": null,
       "grid_template_columns": null,
       "grid_template_rows": null,
       "height": null,
       "justify_content": null,
       "justify_items": null,
       "left": null,
       "margin": null,
       "max_height": null,
       "max_width": null,
       "min_height": null,
       "min_width": null,
       "object_fit": null,
       "object_position": null,
       "order": null,
       "overflow": null,
       "overflow_x": null,
       "overflow_y": null,
       "padding": null,
       "right": null,
       "top": null,
       "visibility": null,
       "width": null
      }
     },
     "249aaac9c81e44c1aae8b8a45900cbd3": {
      "model_module": "@jupyter-widgets/base",
      "model_module_version": "1.2.0",
      "model_name": "LayoutModel",
      "state": {
       "_model_module": "@jupyter-widgets/base",
       "_model_module_version": "1.2.0",
       "_model_name": "LayoutModel",
       "_view_count": null,
       "_view_module": "@jupyter-widgets/base",
       "_view_module_version": "1.2.0",
       "_view_name": "LayoutView",
       "align_content": null,
       "align_items": null,
       "align_self": null,
       "border": null,
       "bottom": null,
       "display": null,
       "flex": null,
       "flex_flow": null,
       "grid_area": null,
       "grid_auto_columns": null,
       "grid_auto_flow": null,
       "grid_auto_rows": null,
       "grid_column": null,
       "grid_gap": null,
       "grid_row": null,
       "grid_template_areas": null,
       "grid_template_columns": null,
       "grid_template_rows": null,
       "height": null,
       "justify_content": null,
       "justify_items": null,
       "left": null,
       "margin": null,
       "max_height": null,
       "max_width": null,
       "min_height": null,
       "min_width": null,
       "object_fit": null,
       "object_position": null,
       "order": null,
       "overflow": null,
       "overflow_x": null,
       "overflow_y": null,
       "padding": null,
       "right": null,
       "top": null,
       "visibility": null,
       "width": null
      }
     },
     "2ad7064d909c4b028d8326c0f46658e1": {
      "model_module": "@jupyter-widgets/base",
      "model_module_version": "1.2.0",
      "model_name": "LayoutModel",
      "state": {
       "_model_module": "@jupyter-widgets/base",
       "_model_module_version": "1.2.0",
       "_model_name": "LayoutModel",
       "_view_count": null,
       "_view_module": "@jupyter-widgets/base",
       "_view_module_version": "1.2.0",
       "_view_name": "LayoutView",
       "align_content": null,
       "align_items": null,
       "align_self": null,
       "border": null,
       "bottom": null,
       "display": null,
       "flex": null,
       "flex_flow": null,
       "grid_area": null,
       "grid_auto_columns": null,
       "grid_auto_flow": null,
       "grid_auto_rows": null,
       "grid_column": null,
       "grid_gap": null,
       "grid_row": null,
       "grid_template_areas": null,
       "grid_template_columns": null,
       "grid_template_rows": null,
       "height": null,
       "justify_content": null,
       "justify_items": null,
       "left": null,
       "margin": null,
       "max_height": null,
       "max_width": null,
       "min_height": null,
       "min_width": null,
       "object_fit": null,
       "object_position": null,
       "order": null,
       "overflow": null,
       "overflow_x": null,
       "overflow_y": null,
       "padding": null,
       "right": null,
       "top": null,
       "visibility": null,
       "width": null
      }
     },
     "2b6c8b9dd6c84eeebeca31bcecf3f687": {
      "model_module": "@jupyter-widgets/controls",
      "model_module_version": "1.5.0",
      "model_name": "HBoxModel",
      "state": {
       "_dom_classes": [],
       "_model_module": "@jupyter-widgets/controls",
       "_model_module_version": "1.5.0",
       "_model_name": "HBoxModel",
       "_view_count": null,
       "_view_module": "@jupyter-widgets/controls",
       "_view_module_version": "1.5.0",
       "_view_name": "HBoxView",
       "box_style": "",
       "children": [
        "IPY_MODEL_000c725026c94bd98b39986d2557e4b5",
        "IPY_MODEL_fc47d85320f044e19eb2b4f64ba69d54",
        "IPY_MODEL_1e22866d70dc4f5aa28117ce7e44b2fe"
       ],
       "layout": "IPY_MODEL_5b4e97410ef2427ca21901dda3badb87"
      }
     },
     "2c9d00c360b74cf6b5ec29c76f5d7dc5": {
      "model_module": "@jupyter-widgets/base",
      "model_module_version": "1.2.0",
      "model_name": "LayoutModel",
      "state": {
       "_model_module": "@jupyter-widgets/base",
       "_model_module_version": "1.2.0",
       "_model_name": "LayoutModel",
       "_view_count": null,
       "_view_module": "@jupyter-widgets/base",
       "_view_module_version": "1.2.0",
       "_view_name": "LayoutView",
       "align_content": null,
       "align_items": null,
       "align_self": null,
       "border": null,
       "bottom": null,
       "display": null,
       "flex": null,
       "flex_flow": null,
       "grid_area": null,
       "grid_auto_columns": null,
       "grid_auto_flow": null,
       "grid_auto_rows": null,
       "grid_column": null,
       "grid_gap": null,
       "grid_row": null,
       "grid_template_areas": null,
       "grid_template_columns": null,
       "grid_template_rows": null,
       "height": null,
       "justify_content": null,
       "justify_items": null,
       "left": null,
       "margin": null,
       "max_height": null,
       "max_width": null,
       "min_height": null,
       "min_width": null,
       "object_fit": null,
       "object_position": null,
       "order": null,
       "overflow": null,
       "overflow_x": null,
       "overflow_y": null,
       "padding": null,
       "right": null,
       "top": null,
       "visibility": null,
       "width": null
      }
     },
     "30107e0b0f2540b8a9123aebc81fef86": {
      "model_module": "@jupyter-widgets/base",
      "model_module_version": "1.2.0",
      "model_name": "LayoutModel",
      "state": {
       "_model_module": "@jupyter-widgets/base",
       "_model_module_version": "1.2.0",
       "_model_name": "LayoutModel",
       "_view_count": null,
       "_view_module": "@jupyter-widgets/base",
       "_view_module_version": "1.2.0",
       "_view_name": "LayoutView",
       "align_content": null,
       "align_items": null,
       "align_self": null,
       "border": null,
       "bottom": null,
       "display": null,
       "flex": null,
       "flex_flow": null,
       "grid_area": null,
       "grid_auto_columns": null,
       "grid_auto_flow": null,
       "grid_auto_rows": null,
       "grid_column": null,
       "grid_gap": null,
       "grid_row": null,
       "grid_template_areas": null,
       "grid_template_columns": null,
       "grid_template_rows": null,
       "height": null,
       "justify_content": null,
       "justify_items": null,
       "left": null,
       "margin": null,
       "max_height": null,
       "max_width": null,
       "min_height": null,
       "min_width": null,
       "object_fit": null,
       "object_position": null,
       "order": null,
       "overflow": null,
       "overflow_x": null,
       "overflow_y": null,
       "padding": null,
       "right": null,
       "top": null,
       "visibility": null,
       "width": null
      }
     },
     "309d072a27854d67866a6ee3dc076266": {
      "model_module": "@jupyter-widgets/controls",
      "model_module_version": "1.5.0",
      "model_name": "HTMLModel",
      "state": {
       "_dom_classes": [],
       "_model_module": "@jupyter-widgets/controls",
       "_model_module_version": "1.5.0",
       "_model_name": "HTMLModel",
       "_view_count": null,
       "_view_module": "@jupyter-widgets/controls",
       "_view_module_version": "1.5.0",
       "_view_name": "HTMLView",
       "description": "",
       "description_tooltip": null,
       "layout": "IPY_MODEL_016acf6c89414842878e80fc4d119f09",
       "placeholder": "​",
       "style": "IPY_MODEL_dabdbf1ea90d4720ba445f4aa2c9ea22",
       "value": "Downloading builder script: "
      }
     },
     "31a31e433ad04ebcadcbfe0263e683cc": {
      "model_module": "@jupyter-widgets/controls",
      "model_module_version": "1.5.0",
      "model_name": "DescriptionStyleModel",
      "state": {
       "_model_module": "@jupyter-widgets/controls",
       "_model_module_version": "1.5.0",
       "_model_name": "DescriptionStyleModel",
       "_view_count": null,
       "_view_module": "@jupyter-widgets/base",
       "_view_module_version": "1.2.0",
       "_view_name": "StyleView",
       "description_width": ""
      }
     },
     "35c861990ce64131886456b5fb25d84d": {
      "model_module": "@jupyter-widgets/controls",
      "model_module_version": "1.5.0",
      "model_name": "DescriptionStyleModel",
      "state": {
       "_model_module": "@jupyter-widgets/controls",
       "_model_module_version": "1.5.0",
       "_model_name": "DescriptionStyleModel",
       "_view_count": null,
       "_view_module": "@jupyter-widgets/base",
       "_view_module_version": "1.2.0",
       "_view_name": "StyleView",
       "description_width": ""
      }
     },
     "37e7b39e661d4373b209286b2185e12d": {
      "model_module": "@jupyter-widgets/base",
      "model_module_version": "1.2.0",
      "model_name": "LayoutModel",
      "state": {
       "_model_module": "@jupyter-widgets/base",
       "_model_module_version": "1.2.0",
       "_model_name": "LayoutModel",
       "_view_count": null,
       "_view_module": "@jupyter-widgets/base",
       "_view_module_version": "1.2.0",
       "_view_name": "LayoutView",
       "align_content": null,
       "align_items": null,
       "align_self": null,
       "border": null,
       "bottom": null,
       "display": null,
       "flex": null,
       "flex_flow": null,
       "grid_area": null,
       "grid_auto_columns": null,
       "grid_auto_flow": null,
       "grid_auto_rows": null,
       "grid_column": null,
       "grid_gap": null,
       "grid_row": null,
       "grid_template_areas": null,
       "grid_template_columns": null,
       "grid_template_rows": null,
       "height": null,
       "justify_content": null,
       "justify_items": null,
       "left": null,
       "margin": null,
       "max_height": null,
       "max_width": null,
       "min_height": null,
       "min_width": null,
       "object_fit": null,
       "object_position": null,
       "order": null,
       "overflow": null,
       "overflow_x": null,
       "overflow_y": null,
       "padding": null,
       "right": null,
       "top": null,
       "visibility": null,
       "width": null
      }
     },
     "387e1b4acfa742dcbc01cf6c150ab82f": {
      "model_module": "@jupyter-widgets/controls",
      "model_module_version": "1.5.0",
      "model_name": "FloatProgressModel",
      "state": {
       "_dom_classes": [],
       "_model_module": "@jupyter-widgets/controls",
       "_model_module_version": "1.5.0",
       "_model_name": "FloatProgressModel",
       "_view_count": null,
       "_view_module": "@jupyter-widgets/controls",
       "_view_module_version": "1.5.0",
       "_view_name": "ProgressView",
       "bar_style": "success",
       "description": "",
       "description_tooltip": null,
       "layout": "IPY_MODEL_980df6bacdec424db1d21d45549ae4bc",
       "max": 231508.0,
       "min": 0.0,
       "orientation": "horizontal",
       "style": "IPY_MODEL_bba474fe008a4415bc0ff62ec2a13ec6",
       "value": 231508.0
      }
     },
     "3a3f4c18181e457eaf1c8d819152d4ba": {
      "model_module": "@jupyter-widgets/controls",
      "model_module_version": "1.5.0",
      "model_name": "HBoxModel",
      "state": {
       "_dom_classes": [],
       "_model_module": "@jupyter-widgets/controls",
       "_model_module_version": "1.5.0",
       "_model_name": "HBoxModel",
       "_view_count": null,
       "_view_module": "@jupyter-widgets/controls",
       "_view_module_version": "1.5.0",
       "_view_name": "HBoxView",
       "box_style": "",
       "children": [
        "IPY_MODEL_974527ecdc044d3bba03796dd713fe5a",
        "IPY_MODEL_b50014fa1a0e4030bf1292ff65806369",
        "IPY_MODEL_99be7750f54a407eb9fd69a49b86fa67"
       ],
       "layout": "IPY_MODEL_1228e6741d034550968d3f8b45440565"
      }
     },
     "3b21250ad3e5409092def80eeda9fa34": {
      "model_module": "@jupyter-widgets/base",
      "model_module_version": "1.2.0",
      "model_name": "LayoutModel",
      "state": {
       "_model_module": "@jupyter-widgets/base",
       "_model_module_version": "1.2.0",
       "_model_name": "LayoutModel",
       "_view_count": null,
       "_view_module": "@jupyter-widgets/base",
       "_view_module_version": "1.2.0",
       "_view_name": "LayoutView",
       "align_content": null,
       "align_items": null,
       "align_self": null,
       "border": null,
       "bottom": null,
       "display": null,
       "flex": null,
       "flex_flow": null,
       "grid_area": null,
       "grid_auto_columns": null,
       "grid_auto_flow": null,
       "grid_auto_rows": null,
       "grid_column": null,
       "grid_gap": null,
       "grid_row": null,
       "grid_template_areas": null,
       "grid_template_columns": null,
       "grid_template_rows": null,
       "height": null,
       "justify_content": null,
       "justify_items": null,
       "left": null,
       "margin": null,
       "max_height": null,
       "max_width": null,
       "min_height": null,
       "min_width": null,
       "object_fit": null,
       "object_position": null,
       "order": null,
       "overflow": null,
       "overflow_x": null,
       "overflow_y": null,
       "padding": null,
       "right": null,
       "top": null,
       "visibility": null,
       "width": null
      }
     },
     "40c13e1ad55441deb8b10dd6a6636cce": {
      "model_module": "@jupyter-widgets/base",
      "model_module_version": "1.2.0",
      "model_name": "LayoutModel",
      "state": {
       "_model_module": "@jupyter-widgets/base",
       "_model_module_version": "1.2.0",
       "_model_name": "LayoutModel",
       "_view_count": null,
       "_view_module": "@jupyter-widgets/base",
       "_view_module_version": "1.2.0",
       "_view_name": "LayoutView",
       "align_content": null,
       "align_items": null,
       "align_self": null,
       "border": null,
       "bottom": null,
       "display": null,
       "flex": null,
       "flex_flow": null,
       "grid_area": null,
       "grid_auto_columns": null,
       "grid_auto_flow": null,
       "grid_auto_rows": null,
       "grid_column": null,
       "grid_gap": null,
       "grid_row": null,
       "grid_template_areas": null,
       "grid_template_columns": null,
       "grid_template_rows": null,
       "height": null,
       "justify_content": null,
       "justify_items": null,
       "left": null,
       "margin": null,
       "max_height": null,
       "max_width": null,
       "min_height": null,
       "min_width": null,
       "object_fit": null,
       "object_position": null,
       "order": null,
       "overflow": null,
       "overflow_x": null,
       "overflow_y": null,
       "padding": null,
       "right": null,
       "top": null,
       "visibility": null,
       "width": null
      }
     },
     "4651f455fc0c45e5ae33520cfd8bb3b7": {
      "model_module": "@jupyter-widgets/base",
      "model_module_version": "1.2.0",
      "model_name": "LayoutModel",
      "state": {
       "_model_module": "@jupyter-widgets/base",
       "_model_module_version": "1.2.0",
       "_model_name": "LayoutModel",
       "_view_count": null,
       "_view_module": "@jupyter-widgets/base",
       "_view_module_version": "1.2.0",
       "_view_name": "LayoutView",
       "align_content": null,
       "align_items": null,
       "align_self": null,
       "border": null,
       "bottom": null,
       "display": null,
       "flex": null,
       "flex_flow": null,
       "grid_area": null,
       "grid_auto_columns": null,
       "grid_auto_flow": null,
       "grid_auto_rows": null,
       "grid_column": null,
       "grid_gap": null,
       "grid_row": null,
       "grid_template_areas": null,
       "grid_template_columns": null,
       "grid_template_rows": null,
       "height": null,
       "justify_content": null,
       "justify_items": null,
       "left": null,
       "margin": null,
       "max_height": null,
       "max_width": null,
       "min_height": null,
       "min_width": null,
       "object_fit": null,
       "object_position": null,
       "order": null,
       "overflow": null,
       "overflow_x": null,
       "overflow_y": null,
       "padding": null,
       "right": null,
       "top": null,
       "visibility": null,
       "width": null
      }
     },
     "4738816c82a64eae8d61cc3f6a7eedea": {
      "model_module": "@jupyter-widgets/base",
      "model_module_version": "1.2.0",
      "model_name": "LayoutModel",
      "state": {
       "_model_module": "@jupyter-widgets/base",
       "_model_module_version": "1.2.0",
       "_model_name": "LayoutModel",
       "_view_count": null,
       "_view_module": "@jupyter-widgets/base",
       "_view_module_version": "1.2.0",
       "_view_name": "LayoutView",
       "align_content": null,
       "align_items": null,
       "align_self": null,
       "border": null,
       "bottom": null,
       "display": null,
       "flex": null,
       "flex_flow": null,
       "grid_area": null,
       "grid_auto_columns": null,
       "grid_auto_flow": null,
       "grid_auto_rows": null,
       "grid_column": null,
       "grid_gap": null,
       "grid_row": null,
       "grid_template_areas": null,
       "grid_template_columns": null,
       "grid_template_rows": null,
       "height": null,
       "justify_content": null,
       "justify_items": null,
       "left": null,
       "margin": null,
       "max_height": null,
       "max_width": null,
       "min_height": null,
       "min_width": null,
       "object_fit": null,
       "object_position": null,
       "order": null,
       "overflow": null,
       "overflow_x": null,
       "overflow_y": null,
       "padding": null,
       "right": null,
       "top": null,
       "visibility": null,
       "width": null
      }
     },
     "48a8ee730b184b10b9a4982c281e545a": {
      "model_module": "@jupyter-widgets/controls",
      "model_module_version": "1.5.0",
      "model_name": "ProgressStyleModel",
      "state": {
       "_model_module": "@jupyter-widgets/controls",
       "_model_module_version": "1.5.0",
       "_model_name": "ProgressStyleModel",
       "_view_count": null,
       "_view_module": "@jupyter-widgets/base",
       "_view_module_version": "1.2.0",
       "_view_name": "StyleView",
       "bar_color": null,
       "description_width": ""
      }
     },
     "4c5e9107951b4675bcb49a577a5c77f7": {
      "model_module": "@jupyter-widgets/controls",
      "model_module_version": "1.5.0",
      "model_name": "HTMLModel",
      "state": {
       "_dom_classes": [],
       "_model_module": "@jupyter-widgets/controls",
       "_model_module_version": "1.5.0",
       "_model_name": "HTMLModel",
       "_view_count": null,
       "_view_module": "@jupyter-widgets/controls",
       "_view_module_version": "1.5.0",
       "_view_name": "HTMLView",
       "description": "",
       "description_tooltip": null,
       "layout": "IPY_MODEL_2c9d00c360b74cf6b5ec29c76f5d7dc5",
       "placeholder": "​",
       "style": "IPY_MODEL_8f1f599d2823411fbb34db3a642f4997",
       "value": " 226k/226k [00:00&lt;00:00, 342kB/s]"
      }
     },
     "4c61c5aadbb444ff94a183df35427725": {
      "model_module": "@jupyter-widgets/controls",
      "model_module_version": "1.5.0",
      "model_name": "DescriptionStyleModel",
      "state": {
       "_model_module": "@jupyter-widgets/controls",
       "_model_module_version": "1.5.0",
       "_model_name": "DescriptionStyleModel",
       "_view_count": null,
       "_view_module": "@jupyter-widgets/base",
       "_view_module_version": "1.2.0",
       "_view_name": "StyleView",
       "description_width": ""
      }
     },
     "4fcad96fceaf440bbf7040158a545038": {
      "model_module": "@jupyter-widgets/controls",
      "model_module_version": "1.5.0",
      "model_name": "DescriptionStyleModel",
      "state": {
       "_model_module": "@jupyter-widgets/controls",
       "_model_module_version": "1.5.0",
       "_model_name": "DescriptionStyleModel",
       "_view_count": null,
       "_view_module": "@jupyter-widgets/base",
       "_view_module_version": "1.2.0",
       "_view_name": "StyleView",
       "description_width": ""
      }
     },
     "554c42f4eddf4fc3b504de4944d99194": {
      "model_module": "@jupyter-widgets/controls",
      "model_module_version": "1.5.0",
      "model_name": "FloatProgressModel",
      "state": {
       "_dom_classes": [],
       "_model_module": "@jupyter-widgets/controls",
       "_model_module_version": "1.5.0",
       "_model_name": "FloatProgressModel",
       "_view_count": null,
       "_view_module": "@jupyter-widgets/controls",
       "_view_module_version": "1.5.0",
       "_view_name": "ProgressView",
       "bar_style": "success",
       "description": "",
       "description_tooltip": null,
       "layout": "IPY_MODEL_dc748169bf284712a26294373745650f",
       "max": 883.0,
       "min": 0.0,
       "orientation": "horizontal",
       "style": "IPY_MODEL_d7403af5c85c44af9138da5a54f1f316",
       "value": 883.0
      }
     },
     "561b589910644e638e960f56e863353c": {
      "model_module": "@jupyter-widgets/controls",
      "model_module_version": "1.5.0",
      "model_name": "HBoxModel",
      "state": {
       "_dom_classes": [],
       "_model_module": "@jupyter-widgets/controls",
       "_model_module_version": "1.5.0",
       "_model_name": "HBoxModel",
       "_view_count": null,
       "_view_module": "@jupyter-widgets/controls",
       "_view_module_version": "1.5.0",
       "_view_name": "HBoxView",
       "box_style": "",
       "children": [
        "IPY_MODEL_185cf0bac6ac4df7a13fd8a88edfdaeb",
        "IPY_MODEL_387e1b4acfa742dcbc01cf6c150ab82f",
        "IPY_MODEL_4c5e9107951b4675bcb49a577a5c77f7"
       ],
       "layout": "IPY_MODEL_2ad7064d909c4b028d8326c0f46658e1"
      }
     },
     "5930255828b04263a1ccfdf7fa9f3a9a": {
      "model_module": "@jupyter-widgets/controls",
      "model_module_version": "1.5.0",
      "model_name": "ProgressStyleModel",
      "state": {
       "_model_module": "@jupyter-widgets/controls",
       "_model_module_version": "1.5.0",
       "_model_name": "ProgressStyleModel",
       "_view_count": null,
       "_view_module": "@jupyter-widgets/base",
       "_view_module_version": "1.2.0",
       "_view_name": "StyleView",
       "bar_color": null,
       "description_width": ""
      }
     },
     "5b4e97410ef2427ca21901dda3badb87": {
      "model_module": "@jupyter-widgets/base",
      "model_module_version": "1.2.0",
      "model_name": "LayoutModel",
      "state": {
       "_model_module": "@jupyter-widgets/base",
       "_model_module_version": "1.2.0",
       "_model_name": "LayoutModel",
       "_view_count": null,
       "_view_module": "@jupyter-widgets/base",
       "_view_module_version": "1.2.0",
       "_view_name": "LayoutView",
       "align_content": null,
       "align_items": null,
       "align_self": null,
       "border": null,
       "bottom": null,
       "display": null,
       "flex": null,
       "flex_flow": null,
       "grid_area": null,
       "grid_auto_columns": null,
       "grid_auto_flow": null,
       "grid_auto_rows": null,
       "grid_column": null,
       "grid_gap": null,
       "grid_row": null,
       "grid_template_areas": null,
       "grid_template_columns": null,
       "grid_template_rows": null,
       "height": null,
       "justify_content": null,
       "justify_items": null,
       "left": null,
       "margin": null,
       "max_height": null,
       "max_width": null,
       "min_height": null,
       "min_width": null,
       "object_fit": null,
       "object_position": null,
       "order": null,
       "overflow": null,
       "overflow_x": null,
       "overflow_y": null,
       "padding": null,
       "right": null,
       "top": null,
       "visibility": null,
       "width": null
      }
     },
     "6163ae5081344e92880f238efa6566ea": {
      "model_module": "@jupyter-widgets/controls",
      "model_module_version": "1.5.0",
      "model_name": "DescriptionStyleModel",
      "state": {
       "_model_module": "@jupyter-widgets/controls",
       "_model_module_version": "1.5.0",
       "_model_name": "DescriptionStyleModel",
       "_view_count": null,
       "_view_module": "@jupyter-widgets/base",
       "_view_module_version": "1.2.0",
       "_view_name": "StyleView",
       "description_width": ""
      }
     },
     "6177fed37ef7460a868a5b888e907c4a": {
      "model_module": "@jupyter-widgets/controls",
      "model_module_version": "1.5.0",
      "model_name": "HTMLModel",
      "state": {
       "_dom_classes": [],
       "_model_module": "@jupyter-widgets/controls",
       "_model_module_version": "1.5.0",
       "_model_name": "HTMLModel",
       "_view_count": null,
       "_view_module": "@jupyter-widgets/controls",
       "_view_module_version": "1.5.0",
       "_view_name": "HTMLView",
       "description": "",
       "description_tooltip": null,
       "layout": "IPY_MODEL_4738816c82a64eae8d61cc3f6a7eedea",
       "placeholder": "​",
       "style": "IPY_MODEL_a27a35e838944aa3befa48d3d6295bc9",
       "value": " 125/125 [00:00&lt;00:00, 4.87kB/s]"
      }
     },
     "63041bc9a0b74d00a165355e4f6a13a1": {
      "model_module": "@jupyter-widgets/controls",
      "model_module_version": "1.5.0",
      "model_name": "DescriptionStyleModel",
      "state": {
       "_model_module": "@jupyter-widgets/controls",
       "_model_module_version": "1.5.0",
       "_model_name": "DescriptionStyleModel",
       "_view_count": null,
       "_view_module": "@jupyter-widgets/base",
       "_view_module_version": "1.2.0",
       "_view_name": "StyleView",
       "description_width": ""
      }
     },
     "6982f88b3b414148a18f278a534c6908": {
      "model_module": "@jupyter-widgets/controls",
      "model_module_version": "1.5.0",
      "model_name": "HBoxModel",
      "state": {
       "_dom_classes": [],
       "_model_module": "@jupyter-widgets/controls",
       "_model_module_version": "1.5.0",
       "_model_name": "HBoxModel",
       "_view_count": null,
       "_view_module": "@jupyter-widgets/controls",
       "_view_module_version": "1.5.0",
       "_view_name": "HBoxView",
       "box_style": "",
       "children": [
        "IPY_MODEL_309d072a27854d67866a6ee3dc076266",
        "IPY_MODEL_1535ebc5ea9c437aa28397425300c65d",
        "IPY_MODEL_0f5ec68413a54785a8228ec150d1c6bb"
       ],
       "layout": "IPY_MODEL_d260e05182f344e28aedecbd16452224"
      }
     },
     "6b2c1ed637da40a0a17e3d150c88621f": {
      "model_module": "@jupyter-widgets/controls",
      "model_module_version": "1.5.0",
      "model_name": "ProgressStyleModel",
      "state": {
       "_model_module": "@jupyter-widgets/controls",
       "_model_module_version": "1.5.0",
       "_model_name": "ProgressStyleModel",
       "_view_count": null,
       "_view_module": "@jupyter-widgets/base",
       "_view_module_version": "1.2.0",
       "_view_name": "StyleView",
       "bar_color": null,
       "description_width": ""
      }
     },
     "6e7791f84bbc4d3391d95ba6d97074a8": {
      "model_module": "@jupyter-widgets/controls",
      "model_module_version": "1.5.0",
      "model_name": "HBoxModel",
      "state": {
       "_dom_classes": [],
       "_model_module": "@jupyter-widgets/controls",
       "_model_module_version": "1.5.0",
       "_model_name": "HBoxModel",
       "_view_count": null,
       "_view_module": "@jupyter-widgets/controls",
       "_view_module_version": "1.5.0",
       "_view_name": "HBoxView",
       "box_style": "",
       "children": [
        "IPY_MODEL_dd14d081f82d4d8db248244df110a954",
        "IPY_MODEL_ac3c06b12a2d47bd9d62c824f18dbbfb",
        "IPY_MODEL_ae8b88380c634388beb35bb461fabf9c"
       ],
       "layout": "IPY_MODEL_30107e0b0f2540b8a9123aebc81fef86"
      }
     },
     "7001c32371b14dd09aa080615733f726": {
      "model_module": "@jupyter-widgets/base",
      "model_module_version": "1.2.0",
      "model_name": "LayoutModel",
      "state": {
       "_model_module": "@jupyter-widgets/base",
       "_model_module_version": "1.2.0",
       "_model_name": "LayoutModel",
       "_view_count": null,
       "_view_module": "@jupyter-widgets/base",
       "_view_module_version": "1.2.0",
       "_view_name": "LayoutView",
       "align_content": null,
       "align_items": null,
       "align_self": null,
       "border": null,
       "bottom": null,
       "display": null,
       "flex": null,
       "flex_flow": null,
       "grid_area": null,
       "grid_auto_columns": null,
       "grid_auto_flow": null,
       "grid_auto_rows": null,
       "grid_column": null,
       "grid_gap": null,
       "grid_row": null,
       "grid_template_areas": null,
       "grid_template_columns": null,
       "grid_template_rows": null,
       "height": null,
       "justify_content": null,
       "justify_items": null,
       "left": null,
       "margin": null,
       "max_height": null,
       "max_width": null,
       "min_height": null,
       "min_width": null,
       "object_fit": null,
       "object_position": null,
       "order": null,
       "overflow": null,
       "overflow_x": null,
       "overflow_y": null,
       "padding": null,
       "right": null,
       "top": null,
       "visibility": null,
       "width": null
      }
     },
     "75fefee9b938449ab07111aed0d987bf": {
      "model_module": "@jupyter-widgets/base",
      "model_module_version": "1.2.0",
      "model_name": "LayoutModel",
      "state": {
       "_model_module": "@jupyter-widgets/base",
       "_model_module_version": "1.2.0",
       "_model_name": "LayoutModel",
       "_view_count": null,
       "_view_module": "@jupyter-widgets/base",
       "_view_module_version": "1.2.0",
       "_view_name": "LayoutView",
       "align_content": null,
       "align_items": null,
       "align_self": null,
       "border": null,
       "bottom": null,
       "display": null,
       "flex": null,
       "flex_flow": null,
       "grid_area": null,
       "grid_auto_columns": null,
       "grid_auto_flow": null,
       "grid_auto_rows": null,
       "grid_column": null,
       "grid_gap": null,
       "grid_row": null,
       "grid_template_areas": null,
       "grid_template_columns": null,
       "grid_template_rows": null,
       "height": null,
       "justify_content": null,
       "justify_items": null,
       "left": null,
       "margin": null,
       "max_height": null,
       "max_width": null,
       "min_height": null,
       "min_width": null,
       "object_fit": null,
       "object_position": null,
       "order": null,
       "overflow": null,
       "overflow_x": null,
       "overflow_y": null,
       "padding": null,
       "right": null,
       "top": null,
       "visibility": null,
       "width": null
      }
     },
     "764ba6ec78c84d17a0d7107ee6f6913c": {
      "model_module": "@jupyter-widgets/base",
      "model_module_version": "1.2.0",
      "model_name": "LayoutModel",
      "state": {
       "_model_module": "@jupyter-widgets/base",
       "_model_module_version": "1.2.0",
       "_model_name": "LayoutModel",
       "_view_count": null,
       "_view_module": "@jupyter-widgets/base",
       "_view_module_version": "1.2.0",
       "_view_name": "LayoutView",
       "align_content": null,
       "align_items": null,
       "align_self": null,
       "border": null,
       "bottom": null,
       "display": null,
       "flex": null,
       "flex_flow": null,
       "grid_area": null,
       "grid_auto_columns": null,
       "grid_auto_flow": null,
       "grid_auto_rows": null,
       "grid_column": null,
       "grid_gap": null,
       "grid_row": null,
       "grid_template_areas": null,
       "grid_template_columns": null,
       "grid_template_rows": null,
       "height": null,
       "justify_content": null,
       "justify_items": null,
       "left": null,
       "margin": null,
       "max_height": null,
       "max_width": null,
       "min_height": null,
       "min_width": null,
       "object_fit": null,
       "object_position": null,
       "order": null,
       "overflow": null,
       "overflow_x": null,
       "overflow_y": null,
       "padding": null,
       "right": null,
       "top": null,
       "visibility": null,
       "width": null
      }
     },
     "795fb02c0d1b48efa945a3d4c5ca299b": {
      "model_module": "@jupyter-widgets/controls",
      "model_module_version": "1.5.0",
      "model_name": "DescriptionStyleModel",
      "state": {
       "_model_module": "@jupyter-widgets/controls",
       "_model_module_version": "1.5.0",
       "_model_name": "DescriptionStyleModel",
       "_view_count": null,
       "_view_module": "@jupyter-widgets/base",
       "_view_module_version": "1.2.0",
       "_view_name": "StyleView",
       "description_width": ""
      }
     },
     "815feb6d3b2046bbb70c6eef3969c5e6": {
      "model_module": "@jupyter-widgets/controls",
      "model_module_version": "1.5.0",
      "model_name": "HBoxModel",
      "state": {
       "_dom_classes": [],
       "_model_module": "@jupyter-widgets/controls",
       "_model_module_version": "1.5.0",
       "_model_name": "HBoxModel",
       "_view_count": null,
       "_view_module": "@jupyter-widgets/controls",
       "_view_module_version": "1.5.0",
       "_view_name": "HBoxView",
       "box_style": "",
       "children": [
        "IPY_MODEL_cb0df23f2a3046659e6be6c3ed753b1c",
        "IPY_MODEL_554c42f4eddf4fc3b504de4944d99194",
        "IPY_MODEL_ad7bcd0cdd4a47aeba97e53c8297813f"
       ],
       "layout": "IPY_MODEL_75fefee9b938449ab07111aed0d987bf"
      }
     },
     "83395e8ee9c94aafa8da1156773e3746": {
      "model_module": "@jupyter-widgets/base",
      "model_module_version": "1.2.0",
      "model_name": "LayoutModel",
      "state": {
       "_model_module": "@jupyter-widgets/base",
       "_model_module_version": "1.2.0",
       "_model_name": "LayoutModel",
       "_view_count": null,
       "_view_module": "@jupyter-widgets/base",
       "_view_module_version": "1.2.0",
       "_view_name": "LayoutView",
       "align_content": null,
       "align_items": null,
       "align_self": null,
       "border": null,
       "bottom": null,
       "display": null,
       "flex": null,
       "flex_flow": null,
       "grid_area": null,
       "grid_auto_columns": null,
       "grid_auto_flow": null,
       "grid_auto_rows": null,
       "grid_column": null,
       "grid_gap": null,
       "grid_row": null,
       "grid_template_areas": null,
       "grid_template_columns": null,
       "grid_template_rows": null,
       "height": null,
       "justify_content": null,
       "justify_items": null,
       "left": null,
       "margin": null,
       "max_height": null,
       "max_width": null,
       "min_height": null,
       "min_width": null,
       "object_fit": null,
       "object_position": null,
       "order": null,
       "overflow": null,
       "overflow_x": null,
       "overflow_y": null,
       "padding": null,
       "right": null,
       "top": null,
       "visibility": null,
       "width": null
      }
     },
     "8f1f599d2823411fbb34db3a642f4997": {
      "model_module": "@jupyter-widgets/controls",
      "model_module_version": "1.5.0",
      "model_name": "DescriptionStyleModel",
      "state": {
       "_model_module": "@jupyter-widgets/controls",
       "_model_module_version": "1.5.0",
       "_model_name": "DescriptionStyleModel",
       "_view_count": null,
       "_view_module": "@jupyter-widgets/base",
       "_view_module_version": "1.2.0",
       "_view_name": "StyleView",
       "description_width": ""
      }
     },
     "918bbbab88244f0ebdf051fd09f767a6": {
      "model_module": "@jupyter-widgets/base",
      "model_module_version": "1.2.0",
      "model_name": "LayoutModel",
      "state": {
       "_model_module": "@jupyter-widgets/base",
       "_model_module_version": "1.2.0",
       "_model_name": "LayoutModel",
       "_view_count": null,
       "_view_module": "@jupyter-widgets/base",
       "_view_module_version": "1.2.0",
       "_view_name": "LayoutView",
       "align_content": null,
       "align_items": null,
       "align_self": null,
       "border": null,
       "bottom": null,
       "display": null,
       "flex": null,
       "flex_flow": null,
       "grid_area": null,
       "grid_auto_columns": null,
       "grid_auto_flow": null,
       "grid_auto_rows": null,
       "grid_column": null,
       "grid_gap": null,
       "grid_row": null,
       "grid_template_areas": null,
       "grid_template_columns": null,
       "grid_template_rows": null,
       "height": null,
       "justify_content": null,
       "justify_items": null,
       "left": null,
       "margin": null,
       "max_height": null,
       "max_width": null,
       "min_height": null,
       "min_width": null,
       "object_fit": null,
       "object_position": null,
       "order": null,
       "overflow": null,
       "overflow_x": null,
       "overflow_y": null,
       "padding": null,
       "right": null,
       "top": null,
       "visibility": null,
       "width": null
      }
     },
     "9212bd10d4614fd98f38a3db66a9a0af": {
      "model_module": "@jupyter-widgets/base",
      "model_module_version": "1.2.0",
      "model_name": "LayoutModel",
      "state": {
       "_model_module": "@jupyter-widgets/base",
       "_model_module_version": "1.2.0",
       "_model_name": "LayoutModel",
       "_view_count": null,
       "_view_module": "@jupyter-widgets/base",
       "_view_module_version": "1.2.0",
       "_view_name": "LayoutView",
       "align_content": null,
       "align_items": null,
       "align_self": null,
       "border": null,
       "bottom": null,
       "display": null,
       "flex": null,
       "flex_flow": null,
       "grid_area": null,
       "grid_auto_columns": null,
       "grid_auto_flow": null,
       "grid_auto_rows": null,
       "grid_column": null,
       "grid_gap": null,
       "grid_row": null,
       "grid_template_areas": null,
       "grid_template_columns": null,
       "grid_template_rows": null,
       "height": null,
       "justify_content": null,
       "justify_items": null,
       "left": null,
       "margin": null,
       "max_height": null,
       "max_width": null,
       "min_height": null,
       "min_width": null,
       "object_fit": null,
       "object_position": null,
       "order": null,
       "overflow": null,
       "overflow_x": null,
       "overflow_y": null,
       "padding": null,
       "right": null,
       "top": null,
       "visibility": null,
       "width": null
      }
     },
     "974527ecdc044d3bba03796dd713fe5a": {
      "model_module": "@jupyter-widgets/controls",
      "model_module_version": "1.5.0",
      "model_name": "HTMLModel",
      "state": {
       "_dom_classes": [],
       "_model_module": "@jupyter-widgets/controls",
       "_model_module_version": "1.5.0",
       "_model_name": "HTMLModel",
       "_view_count": null,
       "_view_module": "@jupyter-widgets/controls",
       "_view_module_version": "1.5.0",
       "_view_name": "HTMLView",
       "description": "",
       "description_tooltip": null,
       "layout": "IPY_MODEL_83395e8ee9c94aafa8da1156773e3746",
       "placeholder": "​",
       "style": "IPY_MODEL_795fb02c0d1b48efa945a3d4c5ca299b",
       "value": "Downloading: 100%"
      }
     },
     "980df6bacdec424db1d21d45549ae4bc": {
      "model_module": "@jupyter-widgets/base",
      "model_module_version": "1.2.0",
      "model_name": "LayoutModel",
      "state": {
       "_model_module": "@jupyter-widgets/base",
       "_model_module_version": "1.2.0",
       "_model_name": "LayoutModel",
       "_view_count": null,
       "_view_module": "@jupyter-widgets/base",
       "_view_module_version": "1.2.0",
       "_view_name": "LayoutView",
       "align_content": null,
       "align_items": null,
       "align_self": null,
       "border": null,
       "bottom": null,
       "display": null,
       "flex": null,
       "flex_flow": null,
       "grid_area": null,
       "grid_auto_columns": null,
       "grid_auto_flow": null,
       "grid_auto_rows": null,
       "grid_column": null,
       "grid_gap": null,
       "grid_row": null,
       "grid_template_areas": null,
       "grid_template_columns": null,
       "grid_template_rows": null,
       "height": null,
       "justify_content": null,
       "justify_items": null,
       "left": null,
       "margin": null,
       "max_height": null,
       "max_width": null,
       "min_height": null,
       "min_width": null,
       "object_fit": null,
       "object_position": null,
       "order": null,
       "overflow": null,
       "overflow_x": null,
       "overflow_y": null,
       "padding": null,
       "right": null,
       "top": null,
       "visibility": null,
       "width": null
      }
     },
     "99be7750f54a407eb9fd69a49b86fa67": {
      "model_module": "@jupyter-widgets/controls",
      "model_module_version": "1.5.0",
      "model_name": "HTMLModel",
      "state": {
       "_dom_classes": [],
       "_model_module": "@jupyter-widgets/controls",
       "_model_module_version": "1.5.0",
       "_model_name": "HTMLModel",
       "_view_count": null,
       "_view_module": "@jupyter-widgets/controls",
       "_view_module_version": "1.5.0",
       "_view_name": "HTMLView",
       "description": "",
       "description_tooltip": null,
       "layout": "IPY_MODEL_de37507c942449919a854078f628c5ae",
       "placeholder": "​",
       "style": "IPY_MODEL_d96222ba4d054575b84aeeec537ed80c",
       "value": " 695k/695k [00:00&lt;00:00, 684kB/s]"
      }
     },
     "9bffbdff2eea4306a3dba7ba30c95035": {
      "model_module": "@jupyter-widgets/controls",
      "model_module_version": "1.5.0",
      "model_name": "DescriptionStyleModel",
      "state": {
       "_model_module": "@jupyter-widgets/controls",
       "_model_module_version": "1.5.0",
       "_model_name": "DescriptionStyleModel",
       "_view_count": null,
       "_view_module": "@jupyter-widgets/base",
       "_view_module_version": "1.2.0",
       "_view_name": "StyleView",
       "description_width": ""
      }
     },
     "a23f11549d3f47729d607024a40e4155": {
      "model_module": "@jupyter-widgets/controls",
      "model_module_version": "1.5.0",
      "model_name": "ProgressStyleModel",
      "state": {
       "_model_module": "@jupyter-widgets/controls",
       "_model_module_version": "1.5.0",
       "_model_name": "ProgressStyleModel",
       "_view_count": null,
       "_view_module": "@jupyter-widgets/base",
       "_view_module_version": "1.2.0",
       "_view_name": "StyleView",
       "bar_color": null,
       "description_width": ""
      }
     },
     "a27a35e838944aa3befa48d3d6295bc9": {
      "model_module": "@jupyter-widgets/controls",
      "model_module_version": "1.5.0",
      "model_name": "DescriptionStyleModel",
      "state": {
       "_model_module": "@jupyter-widgets/controls",
       "_model_module_version": "1.5.0",
       "_model_name": "DescriptionStyleModel",
       "_view_count": null,
       "_view_module": "@jupyter-widgets/base",
       "_view_module_version": "1.2.0",
       "_view_name": "StyleView",
       "description_width": ""
      }
     },
     "ac3c06b12a2d47bd9d62c824f18dbbfb": {
      "model_module": "@jupyter-widgets/controls",
      "model_module_version": "1.5.0",
      "model_name": "FloatProgressModel",
      "state": {
       "_dom_classes": [],
       "_model_module": "@jupyter-widgets/controls",
       "_model_module_version": "1.5.0",
       "_model_name": "FloatProgressModel",
       "_view_count": null,
       "_view_module": "@jupyter-widgets/controls",
       "_view_module_version": "1.5.0",
       "_view_name": "ProgressView",
       "bar_style": "success",
       "description": "",
       "description_tooltip": null,
       "layout": "IPY_MODEL_ebfda206e81f44aa9634fa05e9d0699f",
       "max": 267866609.0,
       "min": 0.0,
       "orientation": "horizontal",
       "style": "IPY_MODEL_6b2c1ed637da40a0a17e3d150c88621f",
       "value": 267866609.0
      }
     },
     "ad7bcd0cdd4a47aeba97e53c8297813f": {
      "model_module": "@jupyter-widgets/controls",
      "model_module_version": "1.5.0",
      "model_name": "HTMLModel",
      "state": {
       "_dom_classes": [],
       "_model_module": "@jupyter-widgets/controls",
       "_model_module_version": "1.5.0",
       "_model_name": "HTMLModel",
       "_view_count": null,
       "_view_module": "@jupyter-widgets/controls",
       "_view_module_version": "1.5.0",
       "_view_name": "HTMLView",
       "description": "",
       "description_tooltip": null,
       "layout": "IPY_MODEL_918bbbab88244f0ebdf051fd09f767a6",
       "placeholder": "​",
       "style": "IPY_MODEL_4fcad96fceaf440bbf7040158a545038",
       "value": " 883/883 [00:00&lt;00:00, 35.0kB/s]"
      }
     },
     "adc9a007646a4f45867a4836949c0ec5": {
      "model_module": "@jupyter-widgets/controls",
      "model_module_version": "1.5.0",
      "model_name": "HTMLModel",
      "state": {
       "_dom_classes": [],
       "_model_module": "@jupyter-widgets/controls",
       "_model_module_version": "1.5.0",
       "_model_name": "HTMLModel",
       "_view_count": null,
       "_view_module": "@jupyter-widgets/controls",
       "_view_module_version": "1.5.0",
       "_view_name": "HTMLView",
       "description": "",
       "description_tooltip": null,
       "layout": "IPY_MODEL_9212bd10d4614fd98f38a3db66a9a0af",
       "placeholder": "​",
       "style": "IPY_MODEL_183ca7fdc8a74ee384f20a3eea77bfe0",
       "value": " 3/3 [00:00&lt;00:00,  7.80ba/s]"
      }
     },
     "ae8b88380c634388beb35bb461fabf9c": {
      "model_module": "@jupyter-widgets/controls",
      "model_module_version": "1.5.0",
      "model_name": "HTMLModel",
      "state": {
       "_dom_classes": [],
       "_model_module": "@jupyter-widgets/controls",
       "_model_module_version": "1.5.0",
       "_model_name": "HTMLModel",
       "_view_count": null,
       "_view_module": "@jupyter-widgets/controls",
       "_view_module_version": "1.5.0",
       "_view_name": "HTMLView",
       "description": "",
       "description_tooltip": null,
       "layout": "IPY_MODEL_e6edc596844347e88893ee43bbe8b537",
       "placeholder": "​",
       "style": "IPY_MODEL_63041bc9a0b74d00a165355e4f6a13a1",
       "value": " 255M/255M [00:22&lt;00:00, 13.1MB/s]"
      }
     },
     "af9a388aa91047998645f75595e75d2c": {
      "model_module": "@jupyter-widgets/base",
      "model_module_version": "1.2.0",
      "model_name": "LayoutModel",
      "state": {
       "_model_module": "@jupyter-widgets/base",
       "_model_module_version": "1.2.0",
       "_model_name": "LayoutModel",
       "_view_count": null,
       "_view_module": "@jupyter-widgets/base",
       "_view_module_version": "1.2.0",
       "_view_name": "LayoutView",
       "align_content": null,
       "align_items": null,
       "align_self": null,
       "border": null,
       "bottom": null,
       "display": null,
       "flex": null,
       "flex_flow": null,
       "grid_area": null,
       "grid_auto_columns": null,
       "grid_auto_flow": null,
       "grid_auto_rows": null,
       "grid_column": null,
       "grid_gap": null,
       "grid_row": null,
       "grid_template_areas": null,
       "grid_template_columns": null,
       "grid_template_rows": null,
       "height": null,
       "justify_content": null,
       "justify_items": null,
       "left": null,
       "margin": null,
       "max_height": null,
       "max_width": null,
       "min_height": null,
       "min_width": null,
       "object_fit": null,
       "object_position": null,
       "order": null,
       "overflow": null,
       "overflow_x": null,
       "overflow_y": null,
       "padding": null,
       "right": null,
       "top": null,
       "visibility": null,
       "width": null
      }
     },
     "b0f04a3db41b4358a3b98e8ec546e4df": {
      "model_module": "@jupyter-widgets/controls",
      "model_module_version": "1.5.0",
      "model_name": "HTMLModel",
      "state": {
       "_dom_classes": [],
       "_model_module": "@jupyter-widgets/controls",
       "_model_module_version": "1.5.0",
       "_model_name": "HTMLModel",
       "_view_count": null,
       "_view_module": "@jupyter-widgets/controls",
       "_view_module_version": "1.5.0",
       "_view_name": "HTMLView",
       "description": "",
       "description_tooltip": null,
       "layout": "IPY_MODEL_4651f455fc0c45e5ae33520cfd8bb3b7",
       "placeholder": "​",
       "style": "IPY_MODEL_4c61c5aadbb444ff94a183df35427725",
       "value": "100%"
      }
     },
     "b276d5d76c9b4d6bab66b9d48df38350": {
      "model_module": "@jupyter-widgets/base",
      "model_module_version": "1.2.0",
      "model_name": "LayoutModel",
      "state": {
       "_model_module": "@jupyter-widgets/base",
       "_model_module_version": "1.2.0",
       "_model_name": "LayoutModel",
       "_view_count": null,
       "_view_module": "@jupyter-widgets/base",
       "_view_module_version": "1.2.0",
       "_view_name": "LayoutView",
       "align_content": null,
       "align_items": null,
       "align_self": null,
       "border": null,
       "bottom": null,
       "display": null,
       "flex": null,
       "flex_flow": null,
       "grid_area": null,
       "grid_auto_columns": null,
       "grid_auto_flow": null,
       "grid_auto_rows": null,
       "grid_column": null,
       "grid_gap": null,
       "grid_row": null,
       "grid_template_areas": null,
       "grid_template_columns": null,
       "grid_template_rows": null,
       "height": null,
       "justify_content": null,
       "justify_items": null,
       "left": null,
       "margin": null,
       "max_height": null,
       "max_width": null,
       "min_height": null,
       "min_width": null,
       "object_fit": null,
       "object_position": null,
       "order": null,
       "overflow": null,
       "overflow_x": null,
       "overflow_y": null,
       "padding": null,
       "right": null,
       "top": null,
       "visibility": null,
       "width": null
      }
     },
     "b37e66e4c478430bbb8c70efe712106e": {
      "model_module": "@jupyter-widgets/controls",
      "model_module_version": "1.5.0",
      "model_name": "ProgressStyleModel",
      "state": {
       "_model_module": "@jupyter-widgets/controls",
       "_model_module_version": "1.5.0",
       "_model_name": "ProgressStyleModel",
       "_view_count": null,
       "_view_module": "@jupyter-widgets/base",
       "_view_module_version": "1.2.0",
       "_view_name": "StyleView",
       "bar_color": null,
       "description_width": ""
      }
     },
     "b3da96c888234a3b89febb4180c38633": {
      "model_module": "@jupyter-widgets/controls",
      "model_module_version": "1.5.0",
      "model_name": "HBoxModel",
      "state": {
       "_dom_classes": [],
       "_model_module": "@jupyter-widgets/controls",
       "_model_module_version": "1.5.0",
       "_model_name": "HBoxModel",
       "_view_count": null,
       "_view_module": "@jupyter-widgets/controls",
       "_view_module_version": "1.5.0",
       "_view_name": "HBoxView",
       "box_style": "",
       "children": [
        "IPY_MODEL_b0f04a3db41b4358a3b98e8ec546e4df",
        "IPY_MODEL_fa939e24e97f4d7eb6b2958fae73c222",
        "IPY_MODEL_adc9a007646a4f45867a4836949c0ec5"
       ],
       "layout": "IPY_MODEL_40c13e1ad55441deb8b10dd6a6636cce"
      }
     },
     "b50014fa1a0e4030bf1292ff65806369": {
      "model_module": "@jupyter-widgets/controls",
      "model_module_version": "1.5.0",
      "model_name": "FloatProgressModel",
      "state": {
       "_dom_classes": [],
       "_model_module": "@jupyter-widgets/controls",
       "_model_module_version": "1.5.0",
       "_model_name": "FloatProgressModel",
       "_view_count": null,
       "_view_module": "@jupyter-widgets/controls",
       "_view_module_version": "1.5.0",
       "_view_name": "ProgressView",
       "bar_style": "success",
       "description": "",
       "description_tooltip": null,
       "layout": "IPY_MODEL_beba55c8167d414a8c714e79fc3f271e",
       "max": 711494.0,
       "min": 0.0,
       "orientation": "horizontal",
       "style": "IPY_MODEL_0a5e022a99024bc4abcfea161377523f",
       "value": 711494.0
      }
     },
     "bba474fe008a4415bc0ff62ec2a13ec6": {
      "model_module": "@jupyter-widgets/controls",
      "model_module_version": "1.5.0",
      "model_name": "ProgressStyleModel",
      "state": {
       "_model_module": "@jupyter-widgets/controls",
       "_model_module_version": "1.5.0",
       "_model_name": "ProgressStyleModel",
       "_view_count": null,
       "_view_module": "@jupyter-widgets/base",
       "_view_module_version": "1.2.0",
       "_view_name": "StyleView",
       "bar_color": null,
       "description_width": ""
      }
     },
     "bd6f72128a934c8290e374dda810ae83": {
      "model_module": "@jupyter-widgets/base",
      "model_module_version": "1.2.0",
      "model_name": "LayoutModel",
      "state": {
       "_model_module": "@jupyter-widgets/base",
       "_model_module_version": "1.2.0",
       "_model_name": "LayoutModel",
       "_view_count": null,
       "_view_module": "@jupyter-widgets/base",
       "_view_module_version": "1.2.0",
       "_view_name": "LayoutView",
       "align_content": null,
       "align_items": null,
       "align_self": null,
       "border": null,
       "bottom": null,
       "display": null,
       "flex": null,
       "flex_flow": null,
       "grid_area": null,
       "grid_auto_columns": null,
       "grid_auto_flow": null,
       "grid_auto_rows": null,
       "grid_column": null,
       "grid_gap": null,
       "grid_row": null,
       "grid_template_areas": null,
       "grid_template_columns": null,
       "grid_template_rows": null,
       "height": null,
       "justify_content": null,
       "justify_items": null,
       "left": null,
       "margin": null,
       "max_height": null,
       "max_width": null,
       "min_height": null,
       "min_width": null,
       "object_fit": null,
       "object_position": null,
       "order": null,
       "overflow": null,
       "overflow_x": null,
       "overflow_y": null,
       "padding": null,
       "right": null,
       "top": null,
       "visibility": null,
       "width": null
      }
     },
     "beba55c8167d414a8c714e79fc3f271e": {
      "model_module": "@jupyter-widgets/base",
      "model_module_version": "1.2.0",
      "model_name": "LayoutModel",
      "state": {
       "_model_module": "@jupyter-widgets/base",
       "_model_module_version": "1.2.0",
       "_model_name": "LayoutModel",
       "_view_count": null,
       "_view_module": "@jupyter-widgets/base",
       "_view_module_version": "1.2.0",
       "_view_name": "LayoutView",
       "align_content": null,
       "align_items": null,
       "align_self": null,
       "border": null,
       "bottom": null,
       "display": null,
       "flex": null,
       "flex_flow": null,
       "grid_area": null,
       "grid_auto_columns": null,
       "grid_auto_flow": null,
       "grid_auto_rows": null,
       "grid_column": null,
       "grid_gap": null,
       "grid_row": null,
       "grid_template_areas": null,
       "grid_template_columns": null,
       "grid_template_rows": null,
       "height": null,
       "justify_content": null,
       "justify_items": null,
       "left": null,
       "margin": null,
       "max_height": null,
       "max_width": null,
       "min_height": null,
       "min_width": null,
       "object_fit": null,
       "object_position": null,
       "order": null,
       "overflow": null,
       "overflow_x": null,
       "overflow_y": null,
       "padding": null,
       "right": null,
       "top": null,
       "visibility": null,
       "width": null
      }
     },
     "cb0df23f2a3046659e6be6c3ed753b1c": {
      "model_module": "@jupyter-widgets/controls",
      "model_module_version": "1.5.0",
      "model_name": "HTMLModel",
      "state": {
       "_dom_classes": [],
       "_model_module": "@jupyter-widgets/controls",
       "_model_module_version": "1.5.0",
       "_model_name": "HTMLModel",
       "_view_count": null,
       "_view_module": "@jupyter-widgets/controls",
       "_view_module_version": "1.5.0",
       "_view_name": "HTMLView",
       "description": "",
       "description_tooltip": null,
       "layout": "IPY_MODEL_7001c32371b14dd09aa080615733f726",
       "placeholder": "​",
       "style": "IPY_MODEL_9bffbdff2eea4306a3dba7ba30c95035",
       "value": "Downloading: 100%"
      }
     },
     "d260e05182f344e28aedecbd16452224": {
      "model_module": "@jupyter-widgets/base",
      "model_module_version": "1.2.0",
      "model_name": "LayoutModel",
      "state": {
       "_model_module": "@jupyter-widgets/base",
       "_model_module_version": "1.2.0",
       "_model_name": "LayoutModel",
       "_view_count": null,
       "_view_module": "@jupyter-widgets/base",
       "_view_module_version": "1.2.0",
       "_view_name": "LayoutView",
       "align_content": null,
       "align_items": null,
       "align_self": null,
       "border": null,
       "bottom": null,
       "display": null,
       "flex": null,
       "flex_flow": null,
       "grid_area": null,
       "grid_auto_columns": null,
       "grid_auto_flow": null,
       "grid_auto_rows": null,
       "grid_column": null,
       "grid_gap": null,
       "grid_row": null,
       "grid_template_areas": null,
       "grid_template_columns": null,
       "grid_template_rows": null,
       "height": null,
       "justify_content": null,
       "justify_items": null,
       "left": null,
       "margin": null,
       "max_height": null,
       "max_width": null,
       "min_height": null,
       "min_width": null,
       "object_fit": null,
       "object_position": null,
       "order": null,
       "overflow": null,
       "overflow_x": null,
       "overflow_y": null,
       "padding": null,
       "right": null,
       "top": null,
       "visibility": null,
       "width": null
      }
     },
     "d7403af5c85c44af9138da5a54f1f316": {
      "model_module": "@jupyter-widgets/controls",
      "model_module_version": "1.5.0",
      "model_name": "ProgressStyleModel",
      "state": {
       "_model_module": "@jupyter-widgets/controls",
       "_model_module_version": "1.5.0",
       "_model_name": "ProgressStyleModel",
       "_view_count": null,
       "_view_module": "@jupyter-widgets/base",
       "_view_module_version": "1.2.0",
       "_view_name": "StyleView",
       "bar_color": null,
       "description_width": ""
      }
     },
     "d96222ba4d054575b84aeeec537ed80c": {
      "model_module": "@jupyter-widgets/controls",
      "model_module_version": "1.5.0",
      "model_name": "DescriptionStyleModel",
      "state": {
       "_model_module": "@jupyter-widgets/controls",
       "_model_module_version": "1.5.0",
       "_model_name": "DescriptionStyleModel",
       "_view_count": null,
       "_view_module": "@jupyter-widgets/base",
       "_view_module_version": "1.2.0",
       "_view_name": "StyleView",
       "description_width": ""
      }
     },
     "dabdbf1ea90d4720ba445f4aa2c9ea22": {
      "model_module": "@jupyter-widgets/controls",
      "model_module_version": "1.5.0",
      "model_name": "DescriptionStyleModel",
      "state": {
       "_model_module": "@jupyter-widgets/controls",
       "_model_module_version": "1.5.0",
       "_model_name": "DescriptionStyleModel",
       "_view_count": null,
       "_view_module": "@jupyter-widgets/base",
       "_view_module_version": "1.2.0",
       "_view_name": "StyleView",
       "description_width": ""
      }
     },
     "dc748169bf284712a26294373745650f": {
      "model_module": "@jupyter-widgets/base",
      "model_module_version": "1.2.0",
      "model_name": "LayoutModel",
      "state": {
       "_model_module": "@jupyter-widgets/base",
       "_model_module_version": "1.2.0",
       "_model_name": "LayoutModel",
       "_view_count": null,
       "_view_module": "@jupyter-widgets/base",
       "_view_module_version": "1.2.0",
       "_view_name": "LayoutView",
       "align_content": null,
       "align_items": null,
       "align_self": null,
       "border": null,
       "bottom": null,
       "display": null,
       "flex": null,
       "flex_flow": null,
       "grid_area": null,
       "grid_auto_columns": null,
       "grid_auto_flow": null,
       "grid_auto_rows": null,
       "grid_column": null,
       "grid_gap": null,
       "grid_row": null,
       "grid_template_areas": null,
       "grid_template_columns": null,
       "grid_template_rows": null,
       "height": null,
       "justify_content": null,
       "justify_items": null,
       "left": null,
       "margin": null,
       "max_height": null,
       "max_width": null,
       "min_height": null,
       "min_width": null,
       "object_fit": null,
       "object_position": null,
       "order": null,
       "overflow": null,
       "overflow_x": null,
       "overflow_y": null,
       "padding": null,
       "right": null,
       "top": null,
       "visibility": null,
       "width": null
      }
     },
     "dd14d081f82d4d8db248244df110a954": {
      "model_module": "@jupyter-widgets/controls",
      "model_module_version": "1.5.0",
      "model_name": "HTMLModel",
      "state": {
       "_dom_classes": [],
       "_model_module": "@jupyter-widgets/controls",
       "_model_module_version": "1.5.0",
       "_model_name": "HTMLModel",
       "_view_count": null,
       "_view_module": "@jupyter-widgets/controls",
       "_view_module_version": "1.5.0",
       "_view_name": "HTMLView",
       "description": "",
       "description_tooltip": null,
       "layout": "IPY_MODEL_af9a388aa91047998645f75595e75d2c",
       "placeholder": "​",
       "style": "IPY_MODEL_f5c3737a2a864d0a9de9ce7a8c18c813",
       "value": "Downloading: 100%"
      }
     },
     "de1f4bc2be6244e3be9bbf6e7021ff12": {
      "model_module": "@jupyter-widgets/base",
      "model_module_version": "1.2.0",
      "model_name": "LayoutModel",
      "state": {
       "_model_module": "@jupyter-widgets/base",
       "_model_module_version": "1.2.0",
       "_model_name": "LayoutModel",
       "_view_count": null,
       "_view_module": "@jupyter-widgets/base",
       "_view_module_version": "1.2.0",
       "_view_name": "LayoutView",
       "align_content": null,
       "align_items": null,
       "align_self": null,
       "border": null,
       "bottom": null,
       "display": null,
       "flex": null,
       "flex_flow": null,
       "grid_area": null,
       "grid_auto_columns": null,
       "grid_auto_flow": null,
       "grid_auto_rows": null,
       "grid_column": null,
       "grid_gap": null,
       "grid_row": null,
       "grid_template_areas": null,
       "grid_template_columns": null,
       "grid_template_rows": null,
       "height": null,
       "justify_content": null,
       "justify_items": null,
       "left": null,
       "margin": null,
       "max_height": null,
       "max_width": null,
       "min_height": null,
       "min_width": null,
       "object_fit": null,
       "object_position": null,
       "order": null,
       "overflow": null,
       "overflow_x": null,
       "overflow_y": null,
       "padding": null,
       "right": null,
       "top": null,
       "visibility": null,
       "width": null
      }
     },
     "de37507c942449919a854078f628c5ae": {
      "model_module": "@jupyter-widgets/base",
      "model_module_version": "1.2.0",
      "model_name": "LayoutModel",
      "state": {
       "_model_module": "@jupyter-widgets/base",
       "_model_module_version": "1.2.0",
       "_model_name": "LayoutModel",
       "_view_count": null,
       "_view_module": "@jupyter-widgets/base",
       "_view_module_version": "1.2.0",
       "_view_name": "LayoutView",
       "align_content": null,
       "align_items": null,
       "align_self": null,
       "border": null,
       "bottom": null,
       "display": null,
       "flex": null,
       "flex_flow": null,
       "grid_area": null,
       "grid_auto_columns": null,
       "grid_auto_flow": null,
       "grid_auto_rows": null,
       "grid_column": null,
       "grid_gap": null,
       "grid_row": null,
       "grid_template_areas": null,
       "grid_template_columns": null,
       "grid_template_rows": null,
       "height": null,
       "justify_content": null,
       "justify_items": null,
       "left": null,
       "margin": null,
       "max_height": null,
       "max_width": null,
       "min_height": null,
       "min_width": null,
       "object_fit": null,
       "object_position": null,
       "order": null,
       "overflow": null,
       "overflow_x": null,
       "overflow_y": null,
       "padding": null,
       "right": null,
       "top": null,
       "visibility": null,
       "width": null
      }
     },
     "df1b0be5b2594bfda5c8028859ae1fd2": {
      "model_module": "@jupyter-widgets/base",
      "model_module_version": "1.2.0",
      "model_name": "LayoutModel",
      "state": {
       "_model_module": "@jupyter-widgets/base",
       "_model_module_version": "1.2.0",
       "_model_name": "LayoutModel",
       "_view_count": null,
       "_view_module": "@jupyter-widgets/base",
       "_view_module_version": "1.2.0",
       "_view_name": "LayoutView",
       "align_content": null,
       "align_items": null,
       "align_self": null,
       "border": null,
       "bottom": null,
       "display": null,
       "flex": null,
       "flex_flow": null,
       "grid_area": null,
       "grid_auto_columns": null,
       "grid_auto_flow": null,
       "grid_auto_rows": null,
       "grid_column": null,
       "grid_gap": null,
       "grid_row": null,
       "grid_template_areas": null,
       "grid_template_columns": null,
       "grid_template_rows": null,
       "height": null,
       "justify_content": null,
       "justify_items": null,
       "left": null,
       "margin": null,
       "max_height": null,
       "max_width": null,
       "min_height": null,
       "min_width": null,
       "object_fit": null,
       "object_position": null,
       "order": null,
       "overflow": null,
       "overflow_x": null,
       "overflow_y": null,
       "padding": null,
       "right": null,
       "top": null,
       "visibility": null,
       "width": null
      }
     },
     "e6edc596844347e88893ee43bbe8b537": {
      "model_module": "@jupyter-widgets/base",
      "model_module_version": "1.2.0",
      "model_name": "LayoutModel",
      "state": {
       "_model_module": "@jupyter-widgets/base",
       "_model_module_version": "1.2.0",
       "_model_name": "LayoutModel",
       "_view_count": null,
       "_view_module": "@jupyter-widgets/base",
       "_view_module_version": "1.2.0",
       "_view_name": "LayoutView",
       "align_content": null,
       "align_items": null,
       "align_self": null,
       "border": null,
       "bottom": null,
       "display": null,
       "flex": null,
       "flex_flow": null,
       "grid_area": null,
       "grid_auto_columns": null,
       "grid_auto_flow": null,
       "grid_auto_rows": null,
       "grid_column": null,
       "grid_gap": null,
       "grid_row": null,
       "grid_template_areas": null,
       "grid_template_columns": null,
       "grid_template_rows": null,
       "height": null,
       "justify_content": null,
       "justify_items": null,
       "left": null,
       "margin": null,
       "max_height": null,
       "max_width": null,
       "min_height": null,
       "min_width": null,
       "object_fit": null,
       "object_position": null,
       "order": null,
       "overflow": null,
       "overflow_x": null,
       "overflow_y": null,
       "padding": null,
       "right": null,
       "top": null,
       "visibility": null,
       "width": null
      }
     },
     "e9edb5f51cbe4862b53dd32a931b80d3": {
      "model_module": "@jupyter-widgets/base",
      "model_module_version": "1.2.0",
      "model_name": "LayoutModel",
      "state": {
       "_model_module": "@jupyter-widgets/base",
       "_model_module_version": "1.2.0",
       "_model_name": "LayoutModel",
       "_view_count": null,
       "_view_module": "@jupyter-widgets/base",
       "_view_module_version": "1.2.0",
       "_view_name": "LayoutView",
       "align_content": null,
       "align_items": null,
       "align_self": null,
       "border": null,
       "bottom": null,
       "display": null,
       "flex": null,
       "flex_flow": null,
       "grid_area": null,
       "grid_auto_columns": null,
       "grid_auto_flow": null,
       "grid_auto_rows": null,
       "grid_column": null,
       "grid_gap": null,
       "grid_row": null,
       "grid_template_areas": null,
       "grid_template_columns": null,
       "grid_template_rows": null,
       "height": null,
       "justify_content": null,
       "justify_items": null,
       "left": null,
       "margin": null,
       "max_height": null,
       "max_width": null,
       "min_height": null,
       "min_width": null,
       "object_fit": null,
       "object_position": null,
       "order": null,
       "overflow": null,
       "overflow_x": null,
       "overflow_y": null,
       "padding": null,
       "right": null,
       "top": null,
       "visibility": null,
       "width": null
      }
     },
     "ebfda206e81f44aa9634fa05e9d0699f": {
      "model_module": "@jupyter-widgets/base",
      "model_module_version": "1.2.0",
      "model_name": "LayoutModel",
      "state": {
       "_model_module": "@jupyter-widgets/base",
       "_model_module_version": "1.2.0",
       "_model_name": "LayoutModel",
       "_view_count": null,
       "_view_module": "@jupyter-widgets/base",
       "_view_module_version": "1.2.0",
       "_view_name": "LayoutView",
       "align_content": null,
       "align_items": null,
       "align_self": null,
       "border": null,
       "bottom": null,
       "display": null,
       "flex": null,
       "flex_flow": null,
       "grid_area": null,
       "grid_auto_columns": null,
       "grid_auto_flow": null,
       "grid_auto_rows": null,
       "grid_column": null,
       "grid_gap": null,
       "grid_row": null,
       "grid_template_areas": null,
       "grid_template_columns": null,
       "grid_template_rows": null,
       "height": null,
       "justify_content": null,
       "justify_items": null,
       "left": null,
       "margin": null,
       "max_height": null,
       "max_width": null,
       "min_height": null,
       "min_width": null,
       "object_fit": null,
       "object_position": null,
       "order": null,
       "overflow": null,
       "overflow_x": null,
       "overflow_y": null,
       "padding": null,
       "right": null,
       "top": null,
       "visibility": null,
       "width": null
      }
     },
     "f5c3737a2a864d0a9de9ce7a8c18c813": {
      "model_module": "@jupyter-widgets/controls",
      "model_module_version": "1.5.0",
      "model_name": "DescriptionStyleModel",
      "state": {
       "_model_module": "@jupyter-widgets/controls",
       "_model_module_version": "1.5.0",
       "_model_name": "DescriptionStyleModel",
       "_view_count": null,
       "_view_module": "@jupyter-widgets/base",
       "_view_module_version": "1.2.0",
       "_view_name": "StyleView",
       "description_width": ""
      }
     },
     "fa939e24e97f4d7eb6b2958fae73c222": {
      "model_module": "@jupyter-widgets/controls",
      "model_module_version": "1.5.0",
      "model_name": "FloatProgressModel",
      "state": {
       "_dom_classes": [],
       "_model_module": "@jupyter-widgets/controls",
       "_model_module_version": "1.5.0",
       "_model_name": "FloatProgressModel",
       "_view_count": null,
       "_view_module": "@jupyter-widgets/controls",
       "_view_module_version": "1.5.0",
       "_view_name": "ProgressView",
       "bar_style": "success",
       "description": "",
       "description_tooltip": null,
       "layout": "IPY_MODEL_e9edb5f51cbe4862b53dd32a931b80d3",
       "max": 3.0,
       "min": 0.0,
       "orientation": "horizontal",
       "style": "IPY_MODEL_b37e66e4c478430bbb8c70efe712106e",
       "value": 3.0
      }
     },
     "fc47d85320f044e19eb2b4f64ba69d54": {
      "model_module": "@jupyter-widgets/controls",
      "model_module_version": "1.5.0",
      "model_name": "FloatProgressModel",
      "state": {
       "_dom_classes": [],
       "_model_module": "@jupyter-widgets/controls",
       "_model_module_version": "1.5.0",
       "_model_name": "FloatProgressModel",
       "_view_count": null,
       "_view_module": "@jupyter-widgets/controls",
       "_view_module_version": "1.5.0",
       "_view_name": "ProgressView",
       "bar_style": "success",
       "description": "",
       "description_tooltip": null,
       "layout": "IPY_MODEL_764ba6ec78c84d17a0d7107ee6f6913c",
       "max": 360.0,
       "min": 0.0,
       "orientation": "horizontal",
       "style": "IPY_MODEL_5930255828b04263a1ccfdf7fa9f3a9a",
       "value": 360.0
      }
     }
    },
    "version_major": 2,
    "version_minor": 0
   }
  }
 },
 "nbformat": 4,
 "nbformat_minor": 5
}
